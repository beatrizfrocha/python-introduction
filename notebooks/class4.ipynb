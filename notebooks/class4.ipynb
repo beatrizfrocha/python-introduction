{
 "cells": [
  {
   "cell_type": "markdown",
   "id": "1d64a4a6",
   "metadata": {
    "slideshow": {
     "slide_type": "slide"
    }
   },
   "source": [
    "# Introdução a Python\n",
    "\n",
    "## Aula 4"
   ]
  },
  {
   "cell_type": "markdown",
   "id": "7f9216c0",
   "metadata": {
    "slideshow": {
     "slide_type": "subslide"
    }
   },
   "source": [
    "# Sumário"
   ]
  },
  {
   "cell_type": "markdown",
   "id": "e562cad4",
   "metadata": {
    "slideshow": {
     "slide_type": "fragment"
    }
   },
   "source": [
    "- Funções de ordem superior\n",
    "- Módulo os\n",
    "- Input/Output\n",
    "- Exercícios"
   ]
  },
  {
   "cell_type": "markdown",
   "id": "2cdc0af4",
   "metadata": {
    "slideshow": {
     "slide_type": "slide"
    }
   },
   "source": [
    "# Funções de ordem superior"
   ]
  },
  {
   "cell_type": "markdown",
   "id": "8e4da6ae",
   "metadata": {
    "slideshow": {
     "slide_type": "fragment"
    }
   },
   "source": [
    "`map()`: Utiliza-se para aplicar uma função a um ou mais iteráveis, sequencialmente"
   ]
  },
  {
   "cell_type": "code",
   "execution_count": 1,
   "id": "337df2be",
   "metadata": {
    "slideshow": {
     "slide_type": "-"
    }
   },
   "outputs": [
    {
     "data": {
      "text/plain": [
       "[5, 1, 2]"
      ]
     },
     "execution_count": 1,
     "metadata": {},
     "output_type": "execute_result"
    }
   ],
   "source": [
    "def difference(x, y):\n",
    "    return x - y\n",
    "\n",
    "list1 = [8,5,3]\n",
    "list2 = [3,4,1]\n",
    "\n",
    "list(map(difference, list1, list2))"
   ]
  },
  {
   "cell_type": "markdown",
   "id": "0b757483",
   "metadata": {
    "slideshow": {
     "slide_type": "fragment"
    }
   },
   "source": [
    "`filter()`: Utiliza-se para filtrar os elementos de um iterável, com recurso a uma função"
   ]
  },
  {
   "cell_type": "code",
   "execution_count": 2,
   "id": "894874a8",
   "metadata": {
    "slideshow": {
     "slide_type": "-"
    }
   },
   "outputs": [
    {
     "data": {
      "text/plain": [
       "[2, 4]"
      ]
     },
     "execution_count": 2,
     "metadata": {},
     "output_type": "execute_result"
    }
   ],
   "source": [
    "list3 = [1,2,3,4,5]\n",
    "\n",
    "list(filter(lambda x: x%2==0, list3))"
   ]
  },
  {
   "cell_type": "markdown",
   "id": "3c9c8760",
   "metadata": {
    "slideshow": {
     "slide_type": "subslide"
    }
   },
   "source": [
    "`reduce()`: Utiliza-se para aplicar uma função cumulativa a um iterável"
   ]
  },
  {
   "cell_type": "code",
   "execution_count": 3,
   "id": "2bd489fe",
   "metadata": {
    "slideshow": {
     "slide_type": "-"
    }
   },
   "outputs": [
    {
     "data": {
      "text/plain": [
       "130"
      ]
     },
     "execution_count": 3,
     "metadata": {},
     "output_type": "execute_result"
    }
   ],
   "source": [
    "from functools import reduce\n",
    "\n",
    "def sum(x,y):\n",
    "    return x+y\n",
    "\n",
    "list4 = [6,3,45,74]\n",
    "\n",
    "reduce(sum, list4, 2) #o terceiro argumento é opcional"
   ]
  },
  {
   "cell_type": "markdown",
   "id": "8ae2ed3b",
   "metadata": {
    "slideshow": {
     "slide_type": "slide"
    }
   },
   "source": [
    "# Módulo os"
   ]
  },
  {
   "cell_type": "code",
   "execution_count": 4,
   "id": "c63cf563",
   "metadata": {
    "slideshow": {
     "slide_type": "fragment"
    }
   },
   "outputs": [],
   "source": [
    "import os"
   ]
  },
  {
   "cell_type": "markdown",
   "id": "ac05709e",
   "metadata": {
    "slideshow": {
     "slide_type": "fragment"
    }
   },
   "source": [
    "`os.getcwd()`: Utiliza-se para saber qual é a diretoria atual"
   ]
  },
  {
   "cell_type": "code",
   "execution_count": 5,
   "id": "d0b8a268",
   "metadata": {
    "scrolled": true
   },
   "outputs": [
    {
     "data": {
      "text/plain": [
       "'/home/beatriz/python-introduction/notebooks'"
      ]
     },
     "execution_count": 5,
     "metadata": {},
     "output_type": "execute_result"
    }
   ],
   "source": [
    "os.getcwd()"
   ]
  },
  {
   "cell_type": "markdown",
   "id": "a5c7957e",
   "metadata": {
    "slideshow": {
     "slide_type": "fragment"
    }
   },
   "source": [
    "`os.listdir()`: Utiliza-se para listar uma diretoria"
   ]
  },
  {
   "cell_type": "code",
   "execution_count": 6,
   "id": "e670b666",
   "metadata": {},
   "outputs": [
    {
     "data": {
      "text/plain": [
       "['class1.ipynb',\n",
       " 'class3.ipynb',\n",
       " '.ipynb_checkpoints',\n",
       " 'example.txt',\n",
       " 'class2.ipynb',\n",
       " 'solutions_class4.py',\n",
       " 'temp.txt',\n",
       " 'solutions_class3.py',\n",
       " 'solutions_class2.py',\n",
       " 'class4.ipynb']"
      ]
     },
     "execution_count": 6,
     "metadata": {},
     "output_type": "execute_result"
    }
   ],
   "source": [
    "os.listdir()"
   ]
  },
  {
   "cell_type": "markdown",
   "id": "87d2a885",
   "metadata": {
    "slideshow": {
     "slide_type": "subslide"
    }
   },
   "source": [
    "`os.chdir()`: Utiliza-se para mudar de diretoria"
   ]
  },
  {
   "cell_type": "code",
   "execution_count": 7,
   "id": "2a67ff88",
   "metadata": {},
   "outputs": [
    {
     "data": {
      "text/plain": [
       "'/home/beatriz/python-introduction'"
      ]
     },
     "execution_count": 7,
     "metadata": {},
     "output_type": "execute_result"
    }
   ],
   "source": [
    "os.chdir(\"/home/beatriz/python-introduction\")\n",
    "\n",
    "os.getcwd()"
   ]
  },
  {
   "cell_type": "markdown",
   "id": "b8ad833c",
   "metadata": {
    "slideshow": {
     "slide_type": "fragment"
    }
   },
   "source": [
    "`os.path.join()`: Utiliza-se para unir vários caminhos"
   ]
  },
  {
   "cell_type": "code",
   "execution_count": 8,
   "id": "1c3b3c14",
   "metadata": {},
   "outputs": [
    {
     "data": {
      "text/plain": [
       "'/home/beatriz/python-introduction/notebooks'"
      ]
     },
     "execution_count": 8,
     "metadata": {},
     "output_type": "execute_result"
    }
   ],
   "source": [
    "new_dir = os.path.join(\"/home/beatriz/python-introduction\", \"notebooks\")\n",
    "\n",
    "os.chdir(new_dir)\n",
    "\n",
    "os.getcwd()"
   ]
  },
  {
   "cell_type": "markdown",
   "id": "14b99064",
   "metadata": {
    "slideshow": {
     "slide_type": "fragment"
    }
   },
   "source": [
    "`os.path.exists()`: Utiliza-se para verificar se um ficheiro existe"
   ]
  },
  {
   "cell_type": "code",
   "execution_count": 9,
   "id": "d0a599e3",
   "metadata": {},
   "outputs": [
    {
     "data": {
      "text/plain": [
       "True"
      ]
     },
     "execution_count": 9,
     "metadata": {},
     "output_type": "execute_result"
    }
   ],
   "source": [
    "os.path.exists(\"class4.ipynb\")"
   ]
  },
  {
   "cell_type": "markdown",
   "id": "002b4b8c",
   "metadata": {
    "slideshow": {
     "slide_type": "subslide"
    }
   },
   "source": [
    "`os.mkdir()`: Utiliza-se para criar uma nova diretoria"
   ]
  },
  {
   "cell_type": "code",
   "execution_count": 10,
   "id": "b0bab39c",
   "metadata": {},
   "outputs": [
    {
     "data": {
      "text/plain": [
       "['class1.ipynb',\n",
       " 'class3.ipynb',\n",
       " '.ipynb_checkpoints',\n",
       " 'example.txt',\n",
       " 'my_new_dir',\n",
       " 'class2.ipynb',\n",
       " 'solutions_class4.py',\n",
       " 'temp.txt',\n",
       " 'solutions_class3.py',\n",
       " 'solutions_class2.py',\n",
       " 'class4.ipynb']"
      ]
     },
     "execution_count": 10,
     "metadata": {},
     "output_type": "execute_result"
    }
   ],
   "source": [
    "os.mkdir(\"my_new_dir\")\n",
    "\n",
    "os.listdir()"
   ]
  },
  {
   "cell_type": "markdown",
   "id": "837839c4",
   "metadata": {
    "slideshow": {
     "slide_type": "subslide"
    }
   },
   "source": [
    "`os.rename()`: Utiliza-se para trocar o nome de um ficheiro ou de uma diretoria"
   ]
  },
  {
   "cell_type": "code",
   "execution_count": 11,
   "id": "7b070708",
   "metadata": {
    "scrolled": true
   },
   "outputs": [
    {
     "data": {
      "text/plain": [
       "['class1.ipynb',\n",
       " 'class3.ipynb',\n",
       " '.ipynb_checkpoints',\n",
       " 'example.txt',\n",
       " 'class2.ipynb',\n",
       " 'solutions_class4.py',\n",
       " 'temp.txt',\n",
       " 'solutions_class3.py',\n",
       " 'my_old_dir',\n",
       " 'solutions_class2.py',\n",
       " 'class4.ipynb']"
      ]
     },
     "execution_count": 11,
     "metadata": {},
     "output_type": "execute_result"
    }
   ],
   "source": [
    "os.rename(\"my_new_dir\", \"my_old_dir\")\n",
    "\n",
    "os.listdir()"
   ]
  },
  {
   "cell_type": "markdown",
   "id": "7721bbb2",
   "metadata": {
    "slideshow": {
     "slide_type": "subslide"
    }
   },
   "source": [
    "`os.rmdir()`: Utiliza-se para remover uma diretoria"
   ]
  },
  {
   "cell_type": "code",
   "execution_count": 12,
   "id": "058d748c",
   "metadata": {},
   "outputs": [
    {
     "data": {
      "text/plain": [
       "['class1.ipynb',\n",
       " 'class3.ipynb',\n",
       " '.ipynb_checkpoints',\n",
       " 'example.txt',\n",
       " 'class2.ipynb',\n",
       " 'solutions_class4.py',\n",
       " 'temp.txt',\n",
       " 'solutions_class3.py',\n",
       " 'solutions_class2.py',\n",
       " 'class4.ipynb']"
      ]
     },
     "execution_count": 12,
     "metadata": {},
     "output_type": "execute_result"
    }
   ],
   "source": [
    "os.rmdir(\"my_old_dir\")\n",
    "\n",
    "os.listdir()"
   ]
  },
  {
   "cell_type": "markdown",
   "id": "94d43afe",
   "metadata": {
    "slideshow": {
     "slide_type": "subslide"
    }
   },
   "source": [
    "`os.remove()`: Utiliza-se para remover um ficheiro"
   ]
  },
  {
   "cell_type": "code",
   "execution_count": 13,
   "id": "54da668a",
   "metadata": {},
   "outputs": [
    {
     "data": {
      "text/plain": [
       "['class1.ipynb',\n",
       " 'class3.ipynb',\n",
       " '.ipynb_checkpoints',\n",
       " 'example.txt',\n",
       " 'class2.ipynb',\n",
       " 'solutions_class4.py',\n",
       " 'solutions_class3.py',\n",
       " 'solutions_class2.py',\n",
       " 'class4.ipynb']"
      ]
     },
     "execution_count": 13,
     "metadata": {},
     "output_type": "execute_result"
    }
   ],
   "source": [
    "os.remove(\"temp.txt\")\n",
    "\n",
    "os.listdir()"
   ]
  },
  {
   "cell_type": "markdown",
   "id": "7afc1c32",
   "metadata": {
    "slideshow": {
     "slide_type": "slide"
    }
   },
   "source": [
    "# Input/Output"
   ]
  },
  {
   "cell_type": "code",
   "execution_count": 1,
   "id": "402a1652",
   "metadata": {},
   "outputs": [],
   "source": [
    "import math\n",
    "\n",
    "def quadratic_formula(a,b,c):\n",
    "    solution1 = (-b + math.sqrt(b**2-4*a*c))/2*a\n",
    "    solution2 = (-b - math.sqrt(b**2-4*a*c))/2*a\n",
    "    \n",
    "    return solution1, solution2"
   ]
  },
  {
   "cell_type": "code",
   "execution_count": 3,
   "id": "2442bef3",
   "metadata": {},
   "outputs": [
    {
     "data": {
      "text/plain": [
       "(-4.0, -16.0)"
      ]
     },
     "execution_count": 3,
     "metadata": {},
     "output_type": "execute_result"
    }
   ],
   "source": [
    "quadratic_formula(4,5,1)"
   ]
  },
  {
   "cell_type": "markdown",
   "id": "e2a72993",
   "metadata": {
    "slideshow": {
     "slide_type": "subslide"
    }
   },
   "source": [
    "## Utilizador"
   ]
  },
  {
   "cell_type": "markdown",
   "id": "008f1477",
   "metadata": {
    "slideshow": {
     "slide_type": "fragment"
    }
   },
   "source": [
    "`input()`: Permite interagir com o utilizador (a partir da versão 3.6)"
   ]
  },
  {
   "cell_type": "code",
   "execution_count": 14,
   "id": "0f18b932",
   "metadata": {},
   "outputs": [
    {
     "name": "stdout",
     "output_type": "stream",
     "text": [
      "Enter your age: 21\n",
      "User is 21 years old\n"
     ]
    }
   ],
   "source": [
    "\"\"\"age = input(\"Enter your age: \")\n",
    "print(f\"User is {age} years old\")\"\"\""
   ]
  },
  {
   "cell_type": "markdown",
   "id": "e8616fd5",
   "metadata": {
    "slideshow": {
     "slide_type": "subslide"
    }
   },
   "source": [
    "## Ficheiro"
   ]
  },
  {
   "cell_type": "markdown",
   "id": "0c3358c4",
   "metadata": {
    "slideshow": {
     "slide_type": "fragment"
    }
   },
   "source": [
    "`open()`: Utiliza-se para abrir um ficheiro e recebe dois argumentos (caminho do ficheiro e modo)"
   ]
  },
  {
   "cell_type": "markdown",
   "id": "6c104963",
   "metadata": {
    "slideshow": {
     "slide_type": "fragment"
    }
   },
   "source": [
    "Diferentes modos de abrir um ficheiro:"
   ]
  },
  {
   "cell_type": "markdown",
   "id": "9018f168",
   "metadata": {
    "slideshow": {
     "slide_type": "fragment"
    }
   },
   "source": [
    "- `r`: Abre um ficheiro para leitura e levanta um erro caso o ficheiro não exista (modo por omissão)"
   ]
  },
  {
   "cell_type": "markdown",
   "id": "951247e4",
   "metadata": {
    "slideshow": {
     "slide_type": "fragment"
    }
   },
   "source": [
    "- `a`: Abre um ficheiro para acrescentamento e cria o mesmo caso este não exista"
   ]
  },
  {
   "cell_type": "markdown",
   "id": "5d101a8d",
   "metadata": {
    "slideshow": {
     "slide_type": "fragment"
    }
   },
   "source": [
    "- `w`: Abre um ficheiro para escrita e cria o mesmo caso este não exista"
   ]
  },
  {
   "cell_type": "markdown",
   "id": "affe1a23",
   "metadata": {
    "slideshow": {
     "slide_type": "fragment"
    }
   },
   "source": [
    "- `x`: Cria o ficheiro especificado e levanta um erro caso este já exista"
   ]
  },
  {
   "cell_type": "markdown",
   "id": "1182a430",
   "metadata": {
    "slideshow": {
     "slide_type": "fragment"
    }
   },
   "source": [
    "- `r+`: Abre um ficheiro para leitura e escrita e levanta um erro caso o ficheiro não exista"
   ]
  },
  {
   "cell_type": "markdown",
   "id": "8ff0f6c5",
   "metadata": {
    "slideshow": {
     "slide_type": "fragment"
    }
   },
   "source": [
    "- `a+`: Abre um ficheiro para acrescentamento e leitura e cria o mesmo caso este não exista"
   ]
  },
  {
   "cell_type": "markdown",
   "id": "a534b8a2",
   "metadata": {
    "slideshow": {
     "slide_type": "fragment"
    }
   },
   "source": [
    "- `w+`: Abre um ficheiro para escrita e leitura e cria o mesmo caso este não exista"
   ]
  },
  {
   "cell_type": "markdown",
   "id": "d72277ae",
   "metadata": {
    "slideshow": {
     "slide_type": "subslide"
    }
   },
   "source": [
    "### Leitura"
   ]
  },
  {
   "cell_type": "code",
   "execution_count": 15,
   "id": "eb361fbe",
   "metadata": {
    "scrolled": true,
    "slideshow": {
     "slide_type": "fragment"
    }
   },
   "outputs": [
    {
     "name": "stdout",
     "output_type": "stream",
     "text": [
      "Hello world!\n",
      "Welcome to Python introduction course.\n",
      "This is class number 4.\n",
      "Stay focused!\n",
      "\n"
     ]
    }
   ],
   "source": [
    "f = open(\"example.txt\", \"r\")\n",
    "print(f.read())\n",
    "f.close()"
   ]
  },
  {
   "cell_type": "code",
   "execution_count": 16,
   "id": "a6f5925d",
   "metadata": {
    "slideshow": {
     "slide_type": "fragment"
    }
   },
   "outputs": [
    {
     "name": "stdout",
     "output_type": "stream",
     "text": [
      "Hello world!\n",
      "Welcome to Python introduction course.\n",
      "This is class number 4.\n",
      "Stay focused!\n",
      "\n"
     ]
    }
   ],
   "source": [
    "with open(\"example.txt\", \"r\") as f: #com o with, não precisamos de fechar o ficheiro\n",
    "    result = f.read()\n",
    "    print(result)"
   ]
  },
  {
   "cell_type": "code",
   "execution_count": 17,
   "id": "c26e6e2b",
   "metadata": {
    "slideshow": {
     "slide_type": "subslide"
    }
   },
   "outputs": [
    {
     "name": "stdout",
     "output_type": "stream",
     "text": [
      "Hello\n"
     ]
    }
   ],
   "source": [
    "with open(\"example.txt\", \"r\") as f:\n",
    "    result = f.read(5)\n",
    "    print(result)"
   ]
  },
  {
   "cell_type": "code",
   "execution_count": 18,
   "id": "273063c2",
   "metadata": {
    "slideshow": {
     "slide_type": "fragment"
    }
   },
   "outputs": [
    {
     "name": "stdout",
     "output_type": "stream",
     "text": [
      "Hello world!\n",
      "\n"
     ]
    }
   ],
   "source": [
    "with open(\"example.txt\", \"r\") as f:\n",
    "    result = f.readline()\n",
    "    print(result)"
   ]
  },
  {
   "cell_type": "code",
   "execution_count": 19,
   "id": "a1e70b9f",
   "metadata": {
    "slideshow": {
     "slide_type": "fragment"
    }
   },
   "outputs": [
    {
     "name": "stdout",
     "output_type": "stream",
     "text": [
      "Hello world!\n",
      "\n",
      "Welcome to Python introduction course.\n",
      "\n",
      "This is class number 4.\n",
      "\n",
      "Stay focused!\n",
      "\n"
     ]
    }
   ],
   "source": [
    "with open(\"example.txt\", \"r\") as f:\n",
    "    result = f.readlines()\n",
    "    for line in result:\n",
    "        print(line)"
   ]
  },
  {
   "cell_type": "markdown",
   "id": "b828cf19",
   "metadata": {
    "slideshow": {
     "slide_type": "subslide"
    }
   },
   "source": [
    "### Escrita/Criação"
   ]
  },
  {
   "cell_type": "code",
   "execution_count": 20,
   "id": "70fcc2b1",
   "metadata": {
    "slideshow": {
     "slide_type": "fragment"
    }
   },
   "outputs": [
    {
     "name": "stdout",
     "output_type": "stream",
     "text": [
      "Hello world!\n",
      "Welcome to Python introduction course.\n",
      "This is class number 4.\n",
      "Stay focused!\n",
      "\n",
      "More information.\n"
     ]
    }
   ],
   "source": [
    "with open(\"example.txt\", \"a\") as f:\n",
    "    f.write(\"\\nMore information.\")\n",
    "    \n",
    "with open(\"example.txt\", \"r\") as f:\n",
    "    result = f.read()\n",
    "    print(result)"
   ]
  },
  {
   "cell_type": "code",
   "execution_count": 21,
   "id": "26ac1b06",
   "metadata": {
    "slideshow": {
     "slide_type": "fragment"
    }
   },
   "outputs": [
    {
     "name": "stdout",
     "output_type": "stream",
     "text": [
      "All gone.\n"
     ]
    }
   ],
   "source": [
    "with open(\"example.txt\", \"w\") as f:\n",
    "    f.write(\"All gone.\")\n",
    "    \n",
    "with open(\"example.txt\", \"r\") as f:\n",
    "    result = f.read()\n",
    "    print(result)"
   ]
  },
  {
   "cell_type": "code",
   "execution_count": 22,
   "id": "b89dc1b6",
   "metadata": {
    "slideshow": {
     "slide_type": "subslide"
    }
   },
   "outputs": [
    {
     "data": {
      "text/plain": [
       "['class1.ipynb',\n",
       " 'class3.ipynb',\n",
       " '.ipynb_checkpoints',\n",
       " 'example.txt',\n",
       " 'class2.ipynb',\n",
       " 'solutions_class4.py',\n",
       " 'new_file.txt',\n",
       " 'solutions_class3.py',\n",
       " 'solutions_class2.py',\n",
       " 'class4.ipynb']"
      ]
     },
     "execution_count": 22,
     "metadata": {},
     "output_type": "execute_result"
    }
   ],
   "source": [
    "with open(\"new_file.txt\", \"x\") as f:\n",
    "    f.write(\"I've just created my first file!\")\n",
    "    \n",
    "os.listdir()"
   ]
  },
  {
   "cell_type": "markdown",
   "id": "d653e637",
   "metadata": {
    "slideshow": {
     "slide_type": "slide"
    }
   },
   "source": [
    "# Exercícios"
   ]
  },
  {
   "cell_type": "markdown",
   "id": "103fd59e",
   "metadata": {
    "slideshow": {
     "slide_type": "fragment"
    }
   },
   "source": [
    "1) Escreva uma função que seja capaz de simular uma calculadora (para simplificar, apenas suporte as operações de soma, subtração, divisão e multiplicação entre dois números)."
   ]
  },
  {
   "cell_type": "markdown",
   "id": "9efebaf2",
   "metadata": {
    "slideshow": {
     "slide_type": "fragment"
    }
   },
   "source": [
    "2) Escreva uma função que seja capaz de escrever todo o conteúdo de um ficheiro num novo ficheiro, passando à frente a linha número 5."
   ]
  },
  {
   "cell_type": "markdown",
   "id": "3e184ddf",
   "metadata": {
    "slideshow": {
     "slide_type": "fragment"
    }
   },
   "source": [
    "3) Escreva uma função que recebe o caminho de um ficheiro como input e retorna o número de palavras presentes nesse ficheiro."
   ]
  },
  {
   "cell_type": "markdown",
   "id": "5eb0414a",
   "metadata": {
    "slideshow": {
     "slide_type": "fragment"
    }
   },
   "source": [
    "4) Escreva uma função que recebe uma lista de palavras e um inteiro e retorna a lista de palavras que são maiores que esse inteiro, com recurso a funções de ordem superior."
   ]
  },
  {
   "cell_type": "markdown",
   "id": "7d71eb7b",
   "metadata": {
    "slideshow": {
     "slide_type": "fragment"
    }
   },
   "source": [
    "5) Escreva uma função que recebe uma lista de números e retorna a lista dos valores absolutos desses números, com recurso a funções de ordem superior."
   ]
  },
  {
   "cell_type": "markdown",
   "id": "481d2534",
   "metadata": {
    "slideshow": {
     "slide_type": "fragment"
    }
   },
   "source": [
    "6) Escreva uma função que recebe uma lista de números e retorna o menor, com recurso a funções de ordem superior."
   ]
  },
  {
   "cell_type": "markdown",
   "id": "a2993da3",
   "metadata": {
    "slideshow": {
     "slide_type": "fragment"
    }
   },
   "source": [
    "7) Escreva uma função que retorna a série harmónica de 1 até $n$-1, com recurso a funções de ordem superior."
   ]
  },
  {
   "cell_type": "markdown",
   "id": "3429e9bd",
   "metadata": {
    "slideshow": {
     "slide_type": "fragment"
    }
   },
   "source": [
    "8) Escreva uma função que retorna a soma de três listas, com recurso a funções de ordem superior."
   ]
  },
  {
   "cell_type": "markdown",
   "id": "c4819a91",
   "metadata": {
    "slideshow": {
     "slide_type": "fragment"
    }
   },
   "source": [
    "9) Escreva uma função que aceita uma palavra e o caminho de um ficheiro como input e retorna a frequência dessa palavra nesse ficheiro."
   ]
  },
  {
   "cell_type": "markdown",
   "id": "3d99febc",
   "metadata": {
    "slideshow": {
     "slide_type": "subslide"
    }
   },
   "source": [
    "10) Escreva uma função que recebe uma lista de números e retorna outra lista com apenas os números positivos, com recurso a funções de ordem superior."
   ]
  }
 ],
 "metadata": {
  "celltoolbar": "Slideshow",
  "kernelspec": {
   "display_name": "Python 3",
   "language": "python",
   "name": "python3"
  },
  "language_info": {
   "codemirror_mode": {
    "name": "ipython",
    "version": 3
   },
   "file_extension": ".py",
   "mimetype": "text/x-python",
   "name": "python",
   "nbconvert_exporter": "python",
   "pygments_lexer": "ipython3",
   "version": "3.8.8"
  }
 },
 "nbformat": 4,
 "nbformat_minor": 5
}
