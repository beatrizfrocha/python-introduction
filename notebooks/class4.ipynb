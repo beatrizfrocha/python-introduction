{
 "cells": [
  {
   "cell_type": "markdown",
   "id": "1d64a4a6",
   "metadata": {},
   "source": [
    "# Introdução a Python\n",
    "\n",
    "## Aula 4"
   ]
  },
  {
   "cell_type": "markdown",
   "id": "7f9216c0",
   "metadata": {},
   "source": [
    "# Sumário"
   ]
  },
  {
   "cell_type": "markdown",
   "id": "e562cad4",
   "metadata": {},
   "source": [
    "- Módulo os\n",
    "- Input/Output\n",
    "- Exercícios"
   ]
  },
  {
   "cell_type": "markdown",
   "id": "8ae2ed3b",
   "metadata": {},
   "source": [
    "# Módulo os"
   ]
  },
  {
   "cell_type": "code",
   "execution_count": 2,
   "id": "c63cf563",
   "metadata": {},
   "outputs": [],
   "source": [
    "import os"
   ]
  },
  {
   "cell_type": "markdown",
   "id": "ac05709e",
   "metadata": {},
   "source": [
    "`os.getcwd()`: Utiliza-se para saber qual é a diretoria atual"
   ]
  },
  {
   "cell_type": "code",
   "execution_count": 8,
   "id": "d0b8a268",
   "metadata": {
    "scrolled": true
   },
   "outputs": [
    {
     "data": {
      "text/plain": [
       "'/home/beatriz/python-introduction/notebooks'"
      ]
     },
     "execution_count": 8,
     "metadata": {},
     "output_type": "execute_result"
    }
   ],
   "source": [
    "os.getcwd()"
   ]
  },
  {
   "cell_type": "markdown",
   "id": "a5c7957e",
   "metadata": {},
   "source": [
    "`os.listdir()`: Utiliza-se para listar uma diretoria"
   ]
  },
  {
   "cell_type": "code",
   "execution_count": 3,
   "id": "e670b666",
   "metadata": {},
   "outputs": [
    {
     "data": {
      "text/plain": [
       "['class1.ipynb',\n",
       " 'class3.ipynb',\n",
       " '.ipynb_checkpoints',\n",
       " 'class2.ipynb',\n",
       " 'solutions_class4.py',\n",
       " 'solutions_class3.py',\n",
       " 'my_old_dir',\n",
       " 'solutions_class2.py',\n",
       " 'class4.ipynb']"
      ]
     },
     "execution_count": 3,
     "metadata": {},
     "output_type": "execute_result"
    }
   ],
   "source": [
    "os.listdir()"
   ]
  },
  {
   "cell_type": "markdown",
   "id": "87d2a885",
   "metadata": {},
   "source": [
    "`os.chdir()`: Utiliza-se para mudar de diretoria"
   ]
  },
  {
   "cell_type": "code",
   "execution_count": 14,
   "id": "2a67ff88",
   "metadata": {},
   "outputs": [
    {
     "data": {
      "text/plain": [
       "'/home/beatriz/python-introduction'"
      ]
     },
     "execution_count": 14,
     "metadata": {},
     "output_type": "execute_result"
    }
   ],
   "source": [
    "os.chdir(\"/home/beatriz/python-introduction\")\n",
    "\n",
    "os.getcwd()"
   ]
  },
  {
   "cell_type": "markdown",
   "id": "b8ad833c",
   "metadata": {},
   "source": [
    "`os.path.join()`: Utiliza-se para unir vários caminhos"
   ]
  },
  {
   "cell_type": "code",
   "execution_count": 15,
   "id": "1c3b3c14",
   "metadata": {},
   "outputs": [
    {
     "data": {
      "text/plain": [
       "'/home/beatriz/python-introduction/notebooks'"
      ]
     },
     "execution_count": 15,
     "metadata": {},
     "output_type": "execute_result"
    }
   ],
   "source": [
    "new_dir = os.path.join(\"/home/beatriz/python-introduction\", \"notebooks\")\n",
    "\n",
    "os.chdir(new_dir)\n",
    "\n",
    "os.getcwd()"
   ]
  },
  {
   "cell_type": "markdown",
   "id": "14b99064",
   "metadata": {},
   "source": [
    "`os.path.exists()`: Utiliza-se para verificar se um ficheiro existe"
   ]
  },
  {
   "cell_type": "code",
   "execution_count": 7,
   "id": "d0a599e3",
   "metadata": {},
   "outputs": [
    {
     "data": {
      "text/plain": [
       "True"
      ]
     },
     "execution_count": 7,
     "metadata": {},
     "output_type": "execute_result"
    }
   ],
   "source": [
    "os.path.exists(\"class4.ipynb\")"
   ]
  },
  {
   "cell_type": "markdown",
   "id": "002b4b8c",
   "metadata": {},
   "source": [
    "`os.mkdir()`: Utiliza-se para criar uma nova diretoria"
   ]
  },
  {
   "cell_type": "code",
   "execution_count": 4,
   "id": "b0bab39c",
   "metadata": {},
   "outputs": [
    {
     "data": {
      "text/plain": [
       "['class1.ipynb',\n",
       " 'class3.ipynb',\n",
       " '.ipynb_checkpoints',\n",
       " 'my_new_dir',\n",
       " 'class2.ipynb',\n",
       " 'solutions_class4.py',\n",
       " 'solutions_class3.py',\n",
       " 'my_old_dir',\n",
       " 'solutions_class2.py',\n",
       " 'class4.ipynb']"
      ]
     },
     "execution_count": 4,
     "metadata": {},
     "output_type": "execute_result"
    }
   ],
   "source": [
    "os.mkdir(\"my_new_dir\")\n",
    "\n",
    "os.listdir()"
   ]
  },
  {
   "cell_type": "markdown",
   "id": "837839c4",
   "metadata": {},
   "source": [
    "`os.rename()`: Utiliza-se para trocar o nome de um ficheiro ou de uma diretoria"
   ]
  },
  {
   "cell_type": "code",
   "execution_count": 5,
   "id": "7b070708",
   "metadata": {
    "scrolled": true
   },
   "outputs": [
    {
     "data": {
      "text/plain": [
       "['class1.ipynb',\n",
       " 'class3.ipynb',\n",
       " '.ipynb_checkpoints',\n",
       " 'class2.ipynb',\n",
       " 'solutions_class4.py',\n",
       " 'solutions_class3.py',\n",
       " 'my_old_dir',\n",
       " 'solutions_class2.py',\n",
       " 'class4.ipynb']"
      ]
     },
     "execution_count": 5,
     "metadata": {},
     "output_type": "execute_result"
    }
   ],
   "source": [
    "os.rename(\"my_new_dir\", \"my_old_dir\")\n",
    "\n",
    "os.listdir()"
   ]
  },
  {
   "cell_type": "markdown",
   "id": "7721bbb2",
   "metadata": {},
   "source": [
    "`os.rmdir()`: Utiliza-se para remover uma diretoria"
   ]
  },
  {
   "cell_type": "code",
   "execution_count": 6,
   "id": "058d748c",
   "metadata": {},
   "outputs": [
    {
     "data": {
      "text/plain": [
       "['class1.ipynb',\n",
       " 'class3.ipynb',\n",
       " '.ipynb_checkpoints',\n",
       " 'class2.ipynb',\n",
       " 'solutions_class4.py',\n",
       " 'solutions_class3.py',\n",
       " 'solutions_class2.py',\n",
       " 'class4.ipynb']"
      ]
     },
     "execution_count": 6,
     "metadata": {},
     "output_type": "execute_result"
    }
   ],
   "source": [
    "os.rmdir(\"my_old_dir\")\n",
    "\n",
    "os.listdir()"
   ]
  },
  {
   "cell_type": "markdown",
   "id": "94d43afe",
   "metadata": {},
   "source": [
    "`os.remove()`: Utiliza-se para remover um ficheiro"
   ]
  },
  {
   "cell_type": "code",
   "execution_count": 11,
   "id": "54da668a",
   "metadata": {},
   "outputs": [
    {
     "data": {
      "text/plain": [
       "['class1.ipynb',\n",
       " 'class3.ipynb',\n",
       " '.ipynb_checkpoints',\n",
       " 'class2.ipynb',\n",
       " 'solutions_class4.py',\n",
       " 'solutions_class3.py',\n",
       " 'solutions_class2.py',\n",
       " 'class4.ipynb']"
      ]
     },
     "execution_count": 11,
     "metadata": {},
     "output_type": "execute_result"
    }
   ],
   "source": [
    "os.remove(\"temp.txt\")\n",
    "\n",
    "os.listdir()"
   ]
  },
  {
   "cell_type": "markdown",
   "id": "7afc1c32",
   "metadata": {},
   "source": [
    "# Input/Output"
   ]
  },
  {
   "cell_type": "markdown",
   "id": "e2a72993",
   "metadata": {},
   "source": [
    "## Utilizador"
   ]
  },
  {
   "cell_type": "markdown",
   "id": "008f1477",
   "metadata": {},
   "source": [
    "`input()`: Permite interagir com o utilizador (a partir da versão 3.6)"
   ]
  },
  {
   "cell_type": "code",
   "execution_count": 9,
   "id": "0f18b932",
   "metadata": {},
   "outputs": [],
   "source": [
    "#age = input(\"Enter your age: \")\n",
    "#print(f\"User is {age} years old\")"
   ]
  },
  {
   "cell_type": "markdown",
   "id": "e8616fd5",
   "metadata": {},
   "source": [
    "## Ficheiro"
   ]
  },
  {
   "cell_type": "markdown",
   "id": "0c3358c4",
   "metadata": {},
   "source": [
    "`open()`: Utiliza-se para abrir um ficheiro e recebe dois argumentos (nome do ficheiro e modo)"
   ]
  },
  {
   "cell_type": "markdown",
   "id": "6c104963",
   "metadata": {},
   "source": [
    "Diferentes modos de abrir um ficheiro:"
   ]
  },
  {
   "cell_type": "markdown",
   "id": "9018f168",
   "metadata": {},
   "source": [
    "- `r`: Abre um ficheiro para leitura e levanta um erro caso o ficheiro não exista."
   ]
  },
  {
   "cell_type": "markdown",
   "id": "951247e4",
   "metadata": {},
   "source": [
    "- `a`: Abre um ficheiro para acrescentar e cria o mesmo caso este não exista."
   ]
  },
  {
   "cell_type": "markdown",
   "id": "5d101a8d",
   "metadata": {},
   "source": [
    "- `w`: Abre um ficheiro para escrita e cria o mesmo caso este não exista."
   ]
  },
  {
   "cell_type": "markdown",
   "id": "affe1a23",
   "metadata": {},
   "source": [
    "- `x`: Cria o ficheiro especificado e levanta um erro caso este já exista."
   ]
  },
  {
   "cell_type": "markdown",
   "id": "d72277ae",
   "metadata": {},
   "source": [
    "### Leitura"
   ]
  },
  {
   "cell_type": "code",
   "execution_count": 10,
   "id": "eb361fbe",
   "metadata": {
    "scrolled": true
   },
   "outputs": [
    {
     "ename": "FileNotFoundError",
     "evalue": "[Errno 2] No such file or directory: 'exemplo.txt'",
     "output_type": "error",
     "traceback": [
      "\u001b[0;31m---------------------------------------------------------------------------\u001b[0m",
      "\u001b[0;31mFileNotFoundError\u001b[0m                         Traceback (most recent call last)",
      "\u001b[0;32m<ipython-input-10-349ecd91022a>\u001b[0m in \u001b[0;36m<module>\u001b[0;34m\u001b[0m\n\u001b[0;32m----> 1\u001b[0;31m \u001b[0mf\u001b[0m \u001b[0;34m=\u001b[0m \u001b[0mopen\u001b[0m\u001b[0;34m(\u001b[0m\u001b[0;34m\"exemplo.txt\"\u001b[0m\u001b[0;34m,\u001b[0m \u001b[0;34m\"r\"\u001b[0m\u001b[0;34m)\u001b[0m\u001b[0;34m\u001b[0m\u001b[0;34m\u001b[0m\u001b[0m\n\u001b[0m\u001b[1;32m      2\u001b[0m \u001b[0mprint\u001b[0m\u001b[0;34m(\u001b[0m\u001b[0mf\u001b[0m\u001b[0;34m.\u001b[0m\u001b[0mread\u001b[0m\u001b[0;34m(\u001b[0m\u001b[0;34m)\u001b[0m\u001b[0;34m)\u001b[0m\u001b[0;34m\u001b[0m\u001b[0;34m\u001b[0m\u001b[0m\n\u001b[1;32m      3\u001b[0m \u001b[0mf\u001b[0m\u001b[0;34m.\u001b[0m\u001b[0mclose\u001b[0m\u001b[0;34m(\u001b[0m\u001b[0;34m)\u001b[0m\u001b[0;34m\u001b[0m\u001b[0;34m\u001b[0m\u001b[0m\n",
      "\u001b[0;31mFileNotFoundError\u001b[0m: [Errno 2] No such file or directory: 'exemplo.txt'"
     ]
    }
   ],
   "source": [
    "f = open(\"exemplo.txt\", \"r\")\n",
    "print(f.read())\n",
    "f.close()"
   ]
  },
  {
   "cell_type": "code",
   "execution_count": null,
   "id": "a6f5925d",
   "metadata": {},
   "outputs": [],
   "source": [
    "with open(\"exemplo.txt\", \"r\") as f: #com o with, não precisamos de fechar o ficheiro\n",
    "    result = f.read()\n",
    "    print(result)"
   ]
  },
  {
   "cell_type": "code",
   "execution_count": null,
   "id": "c26e6e2b",
   "metadata": {},
   "outputs": [],
   "source": [
    "with open(\"exemplo.txt\", \"r\") as f:\n",
    "    result = f.read(5)\n",
    "    print(result)"
   ]
  },
  {
   "cell_type": "code",
   "execution_count": null,
   "id": "273063c2",
   "metadata": {},
   "outputs": [],
   "source": [
    "with open(\"exemplo.txt\", \"r\") as f:\n",
    "    result = f.readline()\n",
    "    print(result)"
   ]
  },
  {
   "cell_type": "code",
   "execution_count": null,
   "id": "a1e70b9f",
   "metadata": {},
   "outputs": [],
   "source": [
    "with open(\"exemplo.txt\", \"r\") as f:\n",
    "    result = f.readlines()\n",
    "    for line in result:\n",
    "        print(line)"
   ]
  },
  {
   "cell_type": "markdown",
   "id": "b828cf19",
   "metadata": {},
   "source": [
    "### Escrita"
   ]
  },
  {
   "cell_type": "code",
   "execution_count": null,
   "id": "70fcc2b1",
   "metadata": {},
   "outputs": [],
   "source": [
    "with open(\"exemplo.txt\", \"a\") as f:\n",
    "    f.write(\"\\nMore information.\")\n",
    "    \n",
    "with open(\"exemplo.txt\", \"r\") as f:\n",
    "    result = f.read()\n",
    "    print(result)"
   ]
  },
  {
   "cell_type": "code",
   "execution_count": null,
   "id": "26ac1b06",
   "metadata": {},
   "outputs": [],
   "source": [
    "with open(\"exemplo.txt\", \"w\") as f:\n",
    "    f.write(\"All gone.\")\n",
    "    \n",
    "with open(\"exemplo.txt\", \"r\") as f:\n",
    "    result = f.read()\n",
    "    print(result)"
   ]
  },
  {
   "cell_type": "markdown",
   "id": "2201ca41",
   "metadata": {},
   "source": [
    "### Remoção "
   ]
  },
  {
   "cell_type": "code",
   "execution_count": null,
   "id": "c0f21914",
   "metadata": {},
   "outputs": [],
   "source": [
    "import os\n",
    "\n",
    "if os.path.exists(\"exemplo.txt\"):\n",
    "    os.remove(\"exemplo.txt\") #também é possível remover pastas de forma análoga com a função removedir()\n",
    "else:\n",
    "    print(\"The file does not exist.\")\n",
    "    \n",
    "os.listdir()"
   ]
  },
  {
   "cell_type": "markdown",
   "id": "d653e637",
   "metadata": {},
   "source": [
    "# Exercícios"
   ]
  },
  {
   "cell_type": "markdown",
   "id": "103fd59e",
   "metadata": {},
   "source": [
    "1) Escreva uma função que seja capaz de simular uma calculadora (para simplificar, apenas suporte as operações de soma, subtração, divisão e multiplicação entre dois números)."
   ]
  },
  {
   "cell_type": "markdown",
   "id": "9efebaf2",
   "metadata": {},
   "source": [
    "2) Escreva uma função que seja capaz de escrever todo o conteúdo de um ficheiro num novo ficheiro, passando à frente a linha número 5."
   ]
  },
  {
   "cell_type": "markdown",
   "id": "3e184ddf",
   "metadata": {},
   "source": [
    "3) Escreva uma função que recebe o caminho de um ficheiro como input e retorna o número de palavras presentes nesse ficheiro."
   ]
  },
  {
   "cell_type": "code",
   "execution_count": null,
   "id": "6c2473bb",
   "metadata": {},
   "outputs": [],
   "source": [
    "#funções de ordem superior"
   ]
  }
 ],
 "metadata": {
  "kernelspec": {
   "display_name": "Python 3",
   "language": "python",
   "name": "python3"
  },
  "language_info": {
   "codemirror_mode": {
    "name": "ipython",
    "version": 3
   },
   "file_extension": ".py",
   "mimetype": "text/x-python",
   "name": "python",
   "nbconvert_exporter": "python",
   "pygments_lexer": "ipython3",
   "version": "3.8.8"
  }
 },
 "nbformat": 4,
 "nbformat_minor": 5
}
