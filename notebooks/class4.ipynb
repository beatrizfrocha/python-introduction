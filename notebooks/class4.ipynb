{
 "cells": [
  {
   "cell_type": "markdown",
   "id": "1d64a4a6",
   "metadata": {},
   "source": [
    "# Introdução a Python\n",
    "\n",
    "## Aula 4"
   ]
  },
  {
   "cell_type": "markdown",
   "id": "7f9216c0",
   "metadata": {},
   "source": [
    "# Sumário"
   ]
  },
  {
   "cell_type": "markdown",
   "id": "e562cad4",
   "metadata": {},
   "source": [
    "- Input/Output\n",
    "- Exercícios"
   ]
  },
  {
   "cell_type": "markdown",
   "id": "7afc1c32",
   "metadata": {},
   "source": [
    "# Input/Output"
   ]
  },
  {
   "cell_type": "markdown",
   "id": "e2a72993",
   "metadata": {},
   "source": [
    "## Utilizador"
   ]
  },
  {
   "cell_type": "markdown",
   "id": "008f1477",
   "metadata": {},
   "source": [
    "`input()`: Permite interagir com o utilizador (a partir da versão 3.6)"
   ]
  },
  {
   "cell_type": "code",
   "execution_count": 1,
   "id": "0f18b932",
   "metadata": {},
   "outputs": [],
   "source": [
    "#age = input(\"Enter your age: \")\n",
    "#print(f\"User is {age} years old\")"
   ]
  },
  {
   "cell_type": "markdown",
   "id": "e8616fd5",
   "metadata": {},
   "source": [
    "## Ficheiro"
   ]
  },
  {
   "cell_type": "markdown",
   "id": "0c3358c4",
   "metadata": {},
   "source": [
    "`open()`: Utiliza-se para abrir um ficheiro e recebe dois argumentos (nome do ficheiro e modo)"
   ]
  },
  {
   "cell_type": "markdown",
   "id": "6c104963",
   "metadata": {},
   "source": [
    "Diferentes modos de abrir um ficheiro:"
   ]
  },
  {
   "cell_type": "markdown",
   "id": "9018f168",
   "metadata": {},
   "source": [
    "- `r`: Abre um ficheiro para leitura e levanta um erro caso o ficheiro não exista."
   ]
  },
  {
   "cell_type": "markdown",
   "id": "951247e4",
   "metadata": {},
   "source": [
    "- `a`: Abre um ficheiro para acrescentar e cria o mesmo caso este não exista."
   ]
  },
  {
   "cell_type": "markdown",
   "id": "5d101a8d",
   "metadata": {},
   "source": [
    "- `w`: Abre um ficheiro para escrita e cria o mesmo caso este não exista."
   ]
  },
  {
   "cell_type": "markdown",
   "id": "affe1a23",
   "metadata": {},
   "source": [
    "- `x`: Cria o ficheiro especificado e levanta um erro caso este já exista."
   ]
  },
  {
   "cell_type": "markdown",
   "id": "d72277ae",
   "metadata": {},
   "source": [
    "### Leitura"
   ]
  },
  {
   "cell_type": "code",
   "execution_count": 2,
   "id": "eb361fbe",
   "metadata": {
    "scrolled": true
   },
   "outputs": [
    {
     "name": "stdout",
     "output_type": "stream",
     "text": [
      "Hello world!\n",
      "Welcome to Python introduction course.\n",
      "This is class number 4.\n",
      "Stay focused!\n",
      "\n"
     ]
    }
   ],
   "source": [
    "f = open(\"exemplo.txt\", \"r\")\n",
    "print(f.read())\n",
    "f.close()"
   ]
  },
  {
   "cell_type": "code",
   "execution_count": 3,
   "id": "a6f5925d",
   "metadata": {},
   "outputs": [
    {
     "name": "stdout",
     "output_type": "stream",
     "text": [
      "Hello world!\n",
      "Welcome to Python introduction course.\n",
      "This is class number 4.\n",
      "Stay focused!\n",
      "\n"
     ]
    }
   ],
   "source": [
    "with open(\"exemplo.txt\", \"r\") as f: #com o with, não precisamos de fechar o ficheiro\n",
    "    result = f.read()\n",
    "    print(result)"
   ]
  },
  {
   "cell_type": "code",
   "execution_count": 4,
   "id": "c26e6e2b",
   "metadata": {},
   "outputs": [
    {
     "name": "stdout",
     "output_type": "stream",
     "text": [
      "Hello\n"
     ]
    }
   ],
   "source": [
    "with open(\"exemplo.txt\", \"r\") as f:\n",
    "    result = f.read(5)\n",
    "    print(result)"
   ]
  },
  {
   "cell_type": "code",
   "execution_count": 5,
   "id": "273063c2",
   "metadata": {},
   "outputs": [
    {
     "name": "stdout",
     "output_type": "stream",
     "text": [
      "Hello world!\n",
      "\n"
     ]
    }
   ],
   "source": [
    "with open(\"exemplo.txt\", \"r\") as f:\n",
    "    result = f.readline()\n",
    "    print(result)"
   ]
  },
  {
   "cell_type": "code",
   "execution_count": 6,
   "id": "a1e70b9f",
   "metadata": {},
   "outputs": [
    {
     "name": "stdout",
     "output_type": "stream",
     "text": [
      "Hello world!\n",
      "\n",
      "Welcome to Python introduction course.\n",
      "\n",
      "This is class number 4.\n",
      "\n",
      "Stay focused!\n",
      "\n"
     ]
    }
   ],
   "source": [
    "with open(\"exemplo.txt\", \"r\") as f:\n",
    "    result = f.readlines()\n",
    "    for line in result:\n",
    "        print(line)"
   ]
  },
  {
   "cell_type": "markdown",
   "id": "b828cf19",
   "metadata": {},
   "source": [
    "### Escrita"
   ]
  },
  {
   "cell_type": "code",
   "execution_count": 7,
   "id": "70fcc2b1",
   "metadata": {},
   "outputs": [
    {
     "name": "stdout",
     "output_type": "stream",
     "text": [
      "Hello world!\n",
      "Welcome to Python introduction course.\n",
      "This is class number 4.\n",
      "Stay focused!\n",
      "\n",
      "More information.\n"
     ]
    }
   ],
   "source": [
    "with open(\"exemplo.txt\", \"a\") as f:\n",
    "    f.write(\"\\nMore information.\")\n",
    "    \n",
    "with open(\"exemplo.txt\", \"r\") as f:\n",
    "    result = f.read()\n",
    "    print(result)"
   ]
  },
  {
   "cell_type": "code",
   "execution_count": 8,
   "id": "26ac1b06",
   "metadata": {},
   "outputs": [
    {
     "name": "stdout",
     "output_type": "stream",
     "text": [
      "All gone.\n"
     ]
    }
   ],
   "source": [
    "with open(\"exemplo.txt\", \"w\") as f:\n",
    "    f.write(\"All gone.\")\n",
    "    \n",
    "with open(\"exemplo.txt\", \"r\") as f:\n",
    "    result = f.read()\n",
    "    print(result)"
   ]
  },
  {
   "cell_type": "markdown",
   "id": "2201ca41",
   "metadata": {},
   "source": [
    "### Remoção "
   ]
  },
  {
   "cell_type": "code",
   "execution_count": 9,
   "id": "c0f21914",
   "metadata": {},
   "outputs": [
    {
     "data": {
      "text/plain": [
       "['class1.ipynb',\n",
       " 'class3.ipynb',\n",
       " '.ipynb_checkpoints',\n",
       " 'class2.ipynb',\n",
       " 'solutions_class4.py',\n",
       " 'solutions_class3.py',\n",
       " 'solutions_class2.py',\n",
       " 'class4.ipynb']"
      ]
     },
     "execution_count": 9,
     "metadata": {},
     "output_type": "execute_result"
    }
   ],
   "source": [
    "import os\n",
    "\n",
    "if os.path.exists(\"exemplo.txt\"):\n",
    "    os.remove(\"exemplo.txt\") #também é possível remover pastas de forma análoga com a função removedir()\n",
    "else:\n",
    "    print(\"The file does not exist.\")\n",
    "    \n",
    "os.listdir()"
   ]
  },
  {
   "cell_type": "markdown",
   "id": "d653e637",
   "metadata": {},
   "source": [
    "# Exercícios"
   ]
  },
  {
   "cell_type": "markdown",
   "id": "103fd59e",
   "metadata": {},
   "source": [
    "1) Escreva uma função que seja capaz de simular uma calculadora (para simplificar, apenas suporte as operações de soma, subtração, divisão e multiplicação entre dois números)."
   ]
  },
  {
   "cell_type": "markdown",
   "id": "9efebaf2",
   "metadata": {},
   "source": [
    "2) Escreva uma função que seja capaz de escrever todo o conteúdo de um ficheiro num novo ficheiro, passando à frente a linha número 5."
   ]
  },
  {
   "cell_type": "markdown",
   "id": "3e184ddf",
   "metadata": {},
   "source": [
    "3) Escreva uma função que recebe o caminho de um ficheiro como input e retorna o número de palavras presentes nesse ficheiro."
   ]
  },
  {
   "cell_type": "code",
   "execution_count": 10,
   "id": "6c2473bb",
   "metadata": {},
   "outputs": [],
   "source": [
    "#funções de ordem superior"
   ]
  }
 ],
 "metadata": {
  "kernelspec": {
   "display_name": "Python 3",
   "language": "python",
   "name": "python3"
  },
  "language_info": {
   "codemirror_mode": {
    "name": "ipython",
    "version": 3
   },
   "file_extension": ".py",
   "mimetype": "text/x-python",
   "name": "python",
   "nbconvert_exporter": "python",
   "pygments_lexer": "ipython3",
   "version": "3.8.8"
  }
 },
 "nbformat": 4,
 "nbformat_minor": 5
}
