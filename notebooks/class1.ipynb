{
 "cells": [
  {
   "cell_type": "markdown",
   "id": "89b4ea05-2dd4-450a-91fb-27910e57b583",
   "metadata": {
    "slideshow": {
     "slide_type": "slide"
    }
   },
   "source": [
    "# Introdução a Python\n",
    "\n",
    "## Aula 1"
   ]
  },
  {
   "cell_type": "markdown",
   "id": "55195dd2-ec1a-4289-8b00-c2db5aa2cd02",
   "metadata": {
    "slideshow": {
     "slide_type": "subslide"
    }
   },
   "source": [
    "# Sumário"
   ]
  },
  {
   "cell_type": "markdown",
   "id": "dfb552b6",
   "metadata": {
    "slideshow": {
     "slide_type": "fragment"
    }
   },
   "source": [
    "- Instalação e setup\n",
    "- Interpretador\n",
    "- Tipos e variáveis\n",
    "- Operações aritméticas\n",
    "- Operações de atribuição\n",
    "- Operações de comparação\n",
    "- Exercícios"
   ]
  },
  {
   "cell_type": "markdown",
   "id": "72da88c8-8789-4de6-8d81-4b7637432ee8",
   "metadata": {
    "slideshow": {
     "slide_type": "subslide"
    }
   },
   "source": [
    "# Instalação e setup"
   ]
  },
  {
   "cell_type": "markdown",
   "id": "a0aa2f05-e3d3-460d-9213-154b8ac01f4b",
   "metadata": {
    "slideshow": {
     "slide_type": "fragment"
    }
   },
   "source": [
    "[![](https://img.shields.io/badge/Python-ffde57?style=for-the-badge&logo=python)](https://www.python.org/downloads/)"
   ]
  },
  {
   "cell_type": "markdown",
   "id": "8ee1eba1-e4a0-4b8c-b840-576ab89a4f3b",
   "metadata": {
    "slideshow": {
     "slide_type": "fragment"
    }
   },
   "source": [
    "[![](https://img.shields.io/badge/-Visual%20Studio%20Code-%23076fae?style=for-the-badge&logo=visualstudiocode&logoColor=white)](https://code.visualstudio.com/download)"
   ]
  },
  {
   "cell_type": "markdown",
   "id": "f74e403a-40f3-4c4b-8b73-71df7c665bc3",
   "metadata": {
    "slideshow": {
     "slide_type": "slide"
    }
   },
   "source": [
    "# Interpretador"
   ]
  },
  {
   "cell_type": "markdown",
   "id": "8d0f86d5-d164-4422-9a44-af2e72455908",
   "metadata": {
    "slideshow": {
     "slide_type": "fragment"
    }
   },
   "source": [
    "Para verificar a versão do Python:\n",
    "\n",
    "```bash\n",
    "$ python --version\n",
    "```"
   ]
  },
  {
   "cell_type": "markdown",
   "id": "f97701a1-12b7-40de-9bfc-5d1a29b7a34f",
   "metadata": {
    "slideshow": {
     "slide_type": "fragment"
    }
   },
   "source": [
    "Para entrar no interpretador de Python:\n",
    "```bash\n",
    "$ python\n",
    "```"
   ]
  },
  {
   "cell_type": "markdown",
   "id": "37c42d1e-7253-4945-930c-d7e9f6eb8378",
   "metadata": {
    "slideshow": {
     "slide_type": "subslide"
    }
   },
   "source": [
    "Para obter mais informações acerca de uma função ou de um módulo X:\n",
    "```bash\n",
    ">>> help(X) #clicar em q para sair deste modo\n",
    "```"
   ]
  },
  {
   "cell_type": "markdown",
   "id": "8f5764d2-68b5-4d52-a879-93212e6afd4d",
   "metadata": {
    "slideshow": {
     "slide_type": "fragment"
    }
   },
   "source": [
    "Para sair do interpretador de Python:\n",
    "```bash\n",
    ">>> exit()\n",
    "```"
   ]
  },
  {
   "cell_type": "markdown",
   "id": "940c252b-3cb5-4ee8-9ee4-fd648d4c7e16",
   "metadata": {
    "slideshow": {
     "slide_type": "slide"
    }
   },
   "source": [
    "# Tipos e variáveis"
   ]
  },
  {
   "cell_type": "markdown",
   "id": "b5e94939-b24f-4053-aeec-7a6b3a0cb114",
   "metadata": {
    "slideshow": {
     "slide_type": "subslide"
    }
   },
   "source": [
    "## Tipos"
   ]
  },
  {
   "cell_type": "markdown",
   "id": "099acfe5-07a1-4732-998e-98b0df533fe8",
   "metadata": {
    "slideshow": {
     "slide_type": "fragment"
    }
   },
   "source": [
    "`str` (sequências de caracteres): \"Ana\", \"carro\", '123', etc."
   ]
  },
  {
   "cell_type": "code",
   "execution_count": 1,
   "id": "5e1f3bae-d6f8-4c01-a9f3-9b7d6bb701d1",
   "metadata": {},
   "outputs": [
    {
     "data": {
      "text/plain": [
       "str"
      ]
     },
     "execution_count": 1,
     "metadata": {},
     "output_type": "execute_result"
    }
   ],
   "source": [
    "type(\"Ana\")"
   ]
  },
  {
   "cell_type": "markdown",
   "id": "d61017df-cd39-46b0-aacd-bdc0ea09f6f5",
   "metadata": {
    "slideshow": {
     "slide_type": "fragment"
    }
   },
   "source": [
    "`int` (números inteiros): 1, 2, 3, etc."
   ]
  },
  {
   "cell_type": "code",
   "execution_count": 2,
   "id": "3ace460e-438e-4e60-8ed8-9f07342443cd",
   "metadata": {},
   "outputs": [
    {
     "data": {
      "text/plain": [
       "int"
      ]
     },
     "execution_count": 2,
     "metadata": {},
     "output_type": "execute_result"
    }
   ],
   "source": [
    "type(1)"
   ]
  },
  {
   "cell_type": "markdown",
   "id": "9934d4f1-c695-47ee-ad64-4ef5aa032abf",
   "metadata": {
    "slideshow": {
     "slide_type": "fragment"
    }
   },
   "source": [
    "`float` (números decimais): 1.5, 2.75, etc."
   ]
  },
  {
   "cell_type": "code",
   "execution_count": 3,
   "id": "5286b9ba-0c21-4106-bfda-74431601519d",
   "metadata": {},
   "outputs": [
    {
     "data": {
      "text/plain": [
       "float"
      ]
     },
     "execution_count": 3,
     "metadata": {},
     "output_type": "execute_result"
    }
   ],
   "source": [
    "type(1.5)"
   ]
  },
  {
   "cell_type": "markdown",
   "id": "d7bc2418-b701-4c4f-ba1e-02e28ebcf4eb",
   "metadata": {
    "slideshow": {
     "slide_type": "fragment"
    }
   },
   "source": [
    "`complex` (números imaginários): 2+i, i, etc."
   ]
  },
  {
   "cell_type": "code",
   "execution_count": 4,
   "id": "81337c42-82a6-4e0c-b766-2b659cd80e3d",
   "metadata": {},
   "outputs": [
    {
     "data": {
      "text/plain": [
       "complex"
      ]
     },
     "execution_count": 4,
     "metadata": {},
     "output_type": "execute_result"
    }
   ],
   "source": [
    "type(complex(2,1))"
   ]
  },
  {
   "cell_type": "markdown",
   "id": "sufficient-stephen",
   "metadata": {
    "slideshow": {
     "slide_type": "subslide"
    }
   },
   "source": [
    "`bool` (booleanos): True, False"
   ]
  },
  {
   "cell_type": "code",
   "execution_count": 5,
   "id": "f653885f-fb56-4556-b966-fb206cb9f260",
   "metadata": {
    "slideshow": {
     "slide_type": "-"
    }
   },
   "outputs": [
    {
     "data": {
      "text/plain": [
       "bool"
      ]
     },
     "execution_count": 5,
     "metadata": {},
     "output_type": "execute_result"
    }
   ],
   "source": [
    "type(True)"
   ]
  },
  {
   "cell_type": "markdown",
   "id": "1ef27a18-67c6-4fbd-988f-2c1d2b167cac",
   "metadata": {
    "slideshow": {
     "slide_type": "subslide"
    }
   },
   "source": [
    "### Casting"
   ]
  },
  {
   "cell_type": "code",
   "execution_count": 6,
   "id": "4435780b-7698-4e7c-8b7f-b9f30fa0ba2f",
   "metadata": {
    "slideshow": {
     "slide_type": "fragment"
    }
   },
   "outputs": [
    {
     "data": {
      "text/plain": [
       "'1'"
      ]
     },
     "execution_count": 6,
     "metadata": {},
     "output_type": "execute_result"
    }
   ],
   "source": [
    "str(1)"
   ]
  },
  {
   "cell_type": "code",
   "execution_count": 7,
   "id": "e3ddfdd9-c1eb-4264-9ba9-bbbc39d61e8f",
   "metadata": {
    "slideshow": {
     "slide_type": "fragment"
    }
   },
   "outputs": [
    {
     "data": {
      "text/plain": [
       "23"
      ]
     },
     "execution_count": 7,
     "metadata": {},
     "output_type": "execute_result"
    }
   ],
   "source": [
    "int(\"23\")"
   ]
  },
  {
   "cell_type": "markdown",
   "id": "63013a7c-c6d4-4b62-b74a-cbfda67e8294",
   "metadata": {
    "slideshow": {
     "slide_type": "subslide"
    }
   },
   "source": [
    "## Variáveis"
   ]
  },
  {
   "cell_type": "code",
   "execution_count": 8,
   "id": "567d705e-e7c0-4d51-a26e-3350351211c6",
   "metadata": {
    "slideshow": {
     "slide_type": "fragment"
    }
   },
   "outputs": [
    {
     "data": {
      "text/plain": [
       "'João'"
      ]
     },
     "execution_count": 8,
     "metadata": {},
     "output_type": "execute_result"
    }
   ],
   "source": [
    "a = \"João\"\n",
    "\n",
    "a"
   ]
  },
  {
   "cell_type": "code",
   "execution_count": 9,
   "id": "6812994d-eac4-4e72-850f-7c54d3f57456",
   "metadata": {
    "slideshow": {
     "slide_type": "fragment"
    }
   },
   "outputs": [
    {
     "data": {
      "text/plain": [
       "'Sara'"
      ]
     },
     "execution_count": 9,
     "metadata": {},
     "output_type": "execute_result"
    }
   ],
   "source": [
    "a = \"Sara\"\n",
    "\n",
    "a"
   ]
  },
  {
   "cell_type": "code",
   "execution_count": 10,
   "id": "30c7c6e8-6c50-4d50-972a-9e0bbf7ebb90",
   "metadata": {
    "slideshow": {
     "slide_type": "fragment"
    }
   },
   "outputs": [
    {
     "data": {
      "text/plain": [
       "('Sara', 'Maria')"
      ]
     },
     "execution_count": 10,
     "metadata": {},
     "output_type": "execute_result"
    }
   ],
   "source": [
    "A = \"Maria\"\n",
    "\n",
    "a, A"
   ]
  },
  {
   "cell_type": "markdown",
   "id": "e311ee6d-306f-46cd-814a-3ff5ea25cb11",
   "metadata": {
    "slideshow": {
     "slide_type": "subslide"
    }
   },
   "source": [
    "$$IMC = \\frac{peso}{altura^2}$$"
   ]
  },
  {
   "cell_type": "code",
   "execution_count": 11,
   "id": "fb453460-4968-4118-b5c5-d5892aa34e14",
   "metadata": {
    "slideshow": {
     "slide_type": "fragment"
    }
   },
   "outputs": [
    {
     "name": "stdout",
     "output_type": "stream",
     "text": [
      "O meu IMC corresponde a 19.23.\n"
     ]
    }
   ],
   "source": [
    "peso = 48 #se eventualmente o peso alterasse, apenas seria necessário mudar este valor \n",
    "altura = 1.58 \n",
    "\n",
    "imc = peso/altura**2\n",
    "\n",
    "print(f\"O meu IMC corresponde a {round(imc,2)}.\")"
   ]
  },
  {
   "cell_type": "markdown",
   "id": "f17fee2c-0389-47d8-ac51-3fa8d147cf0d",
   "metadata": {
    "slideshow": {
     "slide_type": "slide"
    }
   },
   "source": [
    "# Operações aritméticas"
   ]
  },
  {
   "cell_type": "markdown",
   "id": "80101390-cea5-43f1-9bb4-6ac106213d23",
   "metadata": {
    "slideshow": {
     "slide_type": "fragment"
    }
   },
   "source": [
    "`+`: Adição"
   ]
  },
  {
   "cell_type": "code",
   "execution_count": 12,
   "id": "f68394fd-592f-4f9f-a248-b2f98ece4159",
   "metadata": {},
   "outputs": [
    {
     "data": {
      "text/plain": [
       "2"
      ]
     },
     "execution_count": 12,
     "metadata": {},
     "output_type": "execute_result"
    }
   ],
   "source": [
    "1 + 1"
   ]
  },
  {
   "cell_type": "markdown",
   "id": "55cde372-b259-4fe9-b8f6-1a4977ad27ba",
   "metadata": {
    "slideshow": {
     "slide_type": "fragment"
    }
   },
   "source": [
    "`-`: Subtração"
   ]
  },
  {
   "cell_type": "code",
   "execution_count": 13,
   "id": "964b9d7b-383f-4759-9c3c-a3c51736586b",
   "metadata": {},
   "outputs": [
    {
     "data": {
      "text/plain": [
       "3"
      ]
     },
     "execution_count": 13,
     "metadata": {},
     "output_type": "execute_result"
    }
   ],
   "source": [
    "5 - 2"
   ]
  },
  {
   "cell_type": "markdown",
   "id": "cd286593-c57b-42f6-b744-3f31c68d5b05",
   "metadata": {
    "slideshow": {
     "slide_type": "fragment"
    }
   },
   "source": [
    "`*`: Multiplicação"
   ]
  },
  {
   "cell_type": "code",
   "execution_count": 14,
   "id": "4ef1f242-cab0-4db1-93a3-f9c7380a212c",
   "metadata": {},
   "outputs": [
    {
     "data": {
      "text/plain": [
       "6"
      ]
     },
     "execution_count": 14,
     "metadata": {},
     "output_type": "execute_result"
    }
   ],
   "source": [
    "2 * 3"
   ]
  },
  {
   "cell_type": "markdown",
   "id": "eeb7affc-384d-4d51-bd69-854d0ff08e94",
   "metadata": {
    "slideshow": {
     "slide_type": "fragment"
    }
   },
   "source": [
    "`/`: Divisão"
   ]
  },
  {
   "cell_type": "code",
   "execution_count": 15,
   "id": "a3cc9f3d-4b18-48f8-ba0c-7bbd83baf596",
   "metadata": {},
   "outputs": [
    {
     "data": {
      "text/plain": [
       "2.0"
      ]
     },
     "execution_count": 15,
     "metadata": {},
     "output_type": "execute_result"
    }
   ],
   "source": [
    "4 / 2"
   ]
  },
  {
   "cell_type": "markdown",
   "id": "6ce71ff2-5533-461d-b959-790a10a28612",
   "metadata": {
    "slideshow": {
     "slide_type": "subslide"
    }
   },
   "source": [
    "`//`: Divisão inteira"
   ]
  },
  {
   "cell_type": "code",
   "execution_count": 16,
   "id": "acae4553-1cd2-4bdd-a190-134062907e20",
   "metadata": {},
   "outputs": [
    {
     "data": {
      "text/plain": [
       "3"
      ]
     },
     "execution_count": 16,
     "metadata": {},
     "output_type": "execute_result"
    }
   ],
   "source": [
    "10 // 3"
   ]
  },
  {
   "cell_type": "markdown",
   "id": "08c21465-2192-4434-aafd-d0750d69885a",
   "metadata": {
    "slideshow": {
     "slide_type": "fragment"
    }
   },
   "source": [
    "`%`: Divisão modular"
   ]
  },
  {
   "cell_type": "code",
   "execution_count": 17,
   "id": "12f191ab-f518-4ad0-91c0-d56829ab9930",
   "metadata": {},
   "outputs": [
    {
     "data": {
      "text/plain": [
       "1"
      ]
     },
     "execution_count": 17,
     "metadata": {},
     "output_type": "execute_result"
    }
   ],
   "source": [
    "7 % 3"
   ]
  },
  {
   "cell_type": "markdown",
   "id": "f3afc998-05c9-4d43-9b2b-6c02656b4eee",
   "metadata": {
    "slideshow": {
     "slide_type": "fragment"
    }
   },
   "source": [
    "`**`: Exponenciação"
   ]
  },
  {
   "cell_type": "code",
   "execution_count": 18,
   "id": "6927c873-c1ea-4d9f-91b1-73044d499c2e",
   "metadata": {},
   "outputs": [
    {
     "data": {
      "text/plain": [
       "8"
      ]
     },
     "execution_count": 18,
     "metadata": {},
     "output_type": "execute_result"
    }
   ],
   "source": [
    "2 ** 3"
   ]
  },
  {
   "cell_type": "markdown",
   "id": "74623871-28ea-4528-ba69-ecd5e96d2c85",
   "metadata": {
    "slideshow": {
     "slide_type": "fragment"
    }
   },
   "source": [
    "`sqrt`: Raíz quadrada"
   ]
  },
  {
   "cell_type": "code",
   "execution_count": 19,
   "id": "a5eb80eb-a028-495c-9e02-7d00f6c6e933",
   "metadata": {},
   "outputs": [
    {
     "data": {
      "text/plain": [
       "4.0"
      ]
     },
     "execution_count": 19,
     "metadata": {},
     "output_type": "execute_result"
    }
   ],
   "source": [
    "import math\n",
    "\n",
    "math.sqrt(16)"
   ]
  },
  {
   "cell_type": "markdown",
   "id": "fbc39a00-bad7-4741-8f23-f39c23c2d9f2",
   "metadata": {
    "slideshow": {
     "slide_type": "subslide"
    }
   },
   "source": [
    "## Diferentes tipos = diferentes comportamentos"
   ]
  },
  {
   "cell_type": "code",
   "execution_count": 20,
   "id": "entire-probability",
   "metadata": {
    "slideshow": {
     "slide_type": "fragment"
    }
   },
   "outputs": [
    {
     "data": {
      "text/plain": [
       "5"
      ]
     },
     "execution_count": 20,
     "metadata": {},
     "output_type": "execute_result"
    }
   ],
   "source": [
    "2 + 3"
   ]
  },
  {
   "cell_type": "code",
   "execution_count": 21,
   "id": "floral-egypt",
   "metadata": {},
   "outputs": [
    {
     "data": {
      "text/plain": [
       "'abcd'"
      ]
     },
     "execution_count": 21,
     "metadata": {},
     "output_type": "execute_result"
    }
   ],
   "source": [
    "'ab' + 'cd'"
   ]
  },
  {
   "cell_type": "code",
   "execution_count": 22,
   "id": "85665e67-a843-4b41-a1a9-095a6a3cdff8",
   "metadata": {
    "slideshow": {
     "slide_type": "fragment"
    }
   },
   "outputs": [
    {
     "data": {
      "text/plain": [
       "20"
      ]
     },
     "execution_count": 22,
     "metadata": {},
     "output_type": "execute_result"
    }
   ],
   "source": [
    "2 * 10"
   ]
  },
  {
   "cell_type": "code",
   "execution_count": 23,
   "id": "62458fc5-53da-4cc8-b2c2-5e276039b55e",
   "metadata": {},
   "outputs": [
    {
     "data": {
      "text/plain": [
       "'**********'"
      ]
     },
     "execution_count": 23,
     "metadata": {},
     "output_type": "execute_result"
    }
   ],
   "source": [
    "\"*\" * 10"
   ]
  },
  {
   "cell_type": "markdown",
   "id": "c2cc4dad",
   "metadata": {
    "slideshow": {
     "slide_type": "slide"
    }
   },
   "source": [
    "# Operações de atribuição"
   ]
  },
  {
   "cell_type": "markdown",
   "id": "41d28ceb",
   "metadata": {
    "slideshow": {
     "slide_type": "fragment"
    }
   },
   "source": [
    "`=`"
   ]
  },
  {
   "cell_type": "markdown",
   "id": "17250ff5",
   "metadata": {},
   "source": [
    "$x = 7$"
   ]
  },
  {
   "cell_type": "markdown",
   "id": "340a2967",
   "metadata": {
    "slideshow": {
     "slide_type": "fragment"
    }
   },
   "source": [
    "`+=`"
   ]
  },
  {
   "cell_type": "markdown",
   "id": "29d0f20c",
   "metadata": {},
   "source": [
    "$x += 3 <=> x = x + 3$"
   ]
  },
  {
   "cell_type": "markdown",
   "id": "eacad082",
   "metadata": {
    "slideshow": {
     "slide_type": "fragment"
    }
   },
   "source": [
    "`-=`"
   ]
  },
  {
   "cell_type": "markdown",
   "id": "1f066dd0",
   "metadata": {},
   "source": [
    "$x -= 1 <=> x = x - 1$"
   ]
  },
  {
   "cell_type": "markdown",
   "id": "29a22160",
   "metadata": {
    "slideshow": {
     "slide_type": "fragment"
    }
   },
   "source": [
    "`*=`"
   ]
  },
  {
   "cell_type": "markdown",
   "id": "64f3bd2b",
   "metadata": {},
   "source": [
    "$x *= 2 <=> x = x * 2$"
   ]
  },
  {
   "cell_type": "markdown",
   "id": "8a94b6a6",
   "metadata": {
    "slideshow": {
     "slide_type": "fragment"
    }
   },
   "source": [
    "`/=`"
   ]
  },
  {
   "cell_type": "markdown",
   "id": "4463d660",
   "metadata": {},
   "source": [
    "$x /= 5 <=> x = x / 5$"
   ]
  },
  {
   "cell_type": "markdown",
   "id": "d22989d6",
   "metadata": {
    "slideshow": {
     "slide_type": "fragment"
    }
   },
   "source": [
    "`//=`"
   ]
  },
  {
   "cell_type": "markdown",
   "id": "99f19888",
   "metadata": {},
   "source": [
    "$x //= 6 <=> x = x // 6$"
   ]
  },
  {
   "cell_type": "markdown",
   "id": "cd3bee94",
   "metadata": {
    "slideshow": {
     "slide_type": "fragment"
    }
   },
   "source": [
    "`%=`"
   ]
  },
  {
   "cell_type": "markdown",
   "id": "5f13c48e",
   "metadata": {},
   "source": [
    "$x \\%= 8 <=> x = x \\% 8$"
   ]
  },
  {
   "cell_type": "markdown",
   "id": "8cc25ad4",
   "metadata": {
    "slideshow": {
     "slide_type": "fragment"
    }
   },
   "source": [
    "`**=`"
   ]
  },
  {
   "cell_type": "markdown",
   "id": "ec82c873",
   "metadata": {},
   "source": [
    "$x **= 4 <=> x = x ** 4$"
   ]
  },
  {
   "cell_type": "markdown",
   "id": "ed89f5ca",
   "metadata": {
    "slideshow": {
     "slide_type": "slide"
    }
   },
   "source": [
    "# Operações de comparação "
   ]
  },
  {
   "cell_type": "markdown",
   "id": "71bc9052",
   "metadata": {
    "slideshow": {
     "slide_type": "fragment"
    }
   },
   "source": [
    "`==`: Igual"
   ]
  },
  {
   "cell_type": "code",
   "execution_count": 9,
   "id": "b3b8989d",
   "metadata": {},
   "outputs": [
    {
     "data": {
      "text/plain": [
       "True"
      ]
     },
     "execution_count": 9,
     "metadata": {},
     "output_type": "execute_result"
    }
   ],
   "source": [
    "x, y = 5, 5\n",
    "\n",
    "x == y"
   ]
  },
  {
   "cell_type": "markdown",
   "id": "e0bf653c",
   "metadata": {
    "slideshow": {
     "slide_type": "fragment"
    }
   },
   "source": [
    "`!=`: Diferente"
   ]
  },
  {
   "cell_type": "code",
   "execution_count": 11,
   "id": "b1ebad38",
   "metadata": {},
   "outputs": [
    {
     "data": {
      "text/plain": [
       "True"
      ]
     },
     "execution_count": 11,
     "metadata": {},
     "output_type": "execute_result"
    }
   ],
   "source": [
    "x, y = 3, 6\n",
    "\n",
    "x != y"
   ]
  },
  {
   "cell_type": "markdown",
   "id": "d27fcc30",
   "metadata": {
    "slideshow": {
     "slide_type": "fragment"
    }
   },
   "source": [
    "`>`: Maior"
   ]
  },
  {
   "cell_type": "code",
   "execution_count": 12,
   "id": "3deb61ed",
   "metadata": {
    "slideshow": {
     "slide_type": "-"
    }
   },
   "outputs": [
    {
     "data": {
      "text/plain": [
       "False"
      ]
     },
     "execution_count": 12,
     "metadata": {},
     "output_type": "execute_result"
    }
   ],
   "source": [
    "x, y = 2, 4\n",
    "\n",
    "x > y"
   ]
  },
  {
   "cell_type": "markdown",
   "id": "a5d89d92",
   "metadata": {
    "slideshow": {
     "slide_type": "subslide"
    }
   },
   "source": [
    "`<`: Menor"
   ]
  },
  {
   "cell_type": "code",
   "execution_count": 13,
   "id": "6ae11f86",
   "metadata": {
    "slideshow": {
     "slide_type": "-"
    }
   },
   "outputs": [
    {
     "data": {
      "text/plain": [
       "False"
      ]
     },
     "execution_count": 13,
     "metadata": {},
     "output_type": "execute_result"
    }
   ],
   "source": [
    "x, y = 1, 1\n",
    "\n",
    "x < y"
   ]
  },
  {
   "cell_type": "markdown",
   "id": "9b3849bd",
   "metadata": {
    "slideshow": {
     "slide_type": "fragment"
    }
   },
   "source": [
    "`>=`: Maior ou igual"
   ]
  },
  {
   "cell_type": "code",
   "execution_count": 15,
   "id": "1b85f9f4",
   "metadata": {
    "slideshow": {
     "slide_type": "-"
    }
   },
   "outputs": [
    {
     "data": {
      "text/plain": [
       "True"
      ]
     },
     "execution_count": 15,
     "metadata": {},
     "output_type": "execute_result"
    }
   ],
   "source": [
    "x, y = 9, 9\n",
    "\n",
    "x >= y"
   ]
  },
  {
   "cell_type": "markdown",
   "id": "766de722",
   "metadata": {
    "slideshow": {
     "slide_type": "fragment"
    }
   },
   "source": [
    "`<=`: Menor ou igual"
   ]
  },
  {
   "cell_type": "code",
   "execution_count": 16,
   "id": "7fa44a28",
   "metadata": {
    "slideshow": {
     "slide_type": "-"
    }
   },
   "outputs": [
    {
     "data": {
      "text/plain": [
       "True"
      ]
     },
     "execution_count": 16,
     "metadata": {},
     "output_type": "execute_result"
    }
   ],
   "source": [
    "x, y = 7, 10\n",
    "\n",
    "x <= y"
   ]
  },
  {
   "cell_type": "markdown",
   "id": "1ac3a5b2-3b9e-4b20-8f83-c8c1e65c5abb",
   "metadata": {
    "slideshow": {
     "slide_type": "slide"
    }
   },
   "source": [
    "# Exercícios"
   ]
  },
  {
   "cell_type": "markdown",
   "id": "7e0decd2-299e-44b9-b916-6bb45c7fae38",
   "metadata": {
    "slideshow": {
     "slide_type": "fragment"
    }
   },
   "source": [
    "[kahoot]: https://kahoot.it\n",
    "\n",
    "[![](https://img.shields.io/badge/-Kahoot-%2346178f?style=for-the-badge&logo=kahoot&logoColor=white)][kahoot]"
   ]
  }
 ],
 "metadata": {
  "celltoolbar": "Slideshow",
  "kernelspec": {
   "display_name": "Python 3",
   "language": "python",
   "name": "python3"
  },
  "language_info": {
   "codemirror_mode": {
    "name": "ipython",
    "version": 3
   },
   "file_extension": ".py",
   "mimetype": "text/x-python",
   "name": "python",
   "nbconvert_exporter": "python",
   "pygments_lexer": "ipython3",
   "version": "3.8.8"
  },
  "toc-autonumbering": false,
  "toc-showcode": false,
  "toc-showmarkdowntxt": false,
  "toc-showtags": true,
  "widgets": {
   "application/vnd.jupyter.widget-state+json": {
    "state": {},
    "version_major": 2,
    "version_minor": 0
   }
  }
 },
 "nbformat": 4,
 "nbformat_minor": 5
}
