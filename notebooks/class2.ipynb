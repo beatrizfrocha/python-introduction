{
 "cells": [
  {
   "cell_type": "markdown",
   "id": "ad458f0c",
   "metadata": {},
   "source": [
    "# Introdução a Python\n",
    "\n",
    "## Aula 2"
   ]
  },
  {
   "cell_type": "markdown",
   "id": "7d08e1db",
   "metadata": {},
   "source": [
    "# Sumário"
   ]
  },
  {
   "cell_type": "markdown",
   "id": "e749c7ca",
   "metadata": {},
   "source": [
    "- Operações lógicas\n",
    "- Operações de identidade\n",
    "- Operações de pertença\n",
    "- Fluxos de controlo\n",
    "- Scripts e comentários\n",
    "- Funções\n",
    "- Exercícios"
   ]
  },
  {
   "cell_type": "markdown",
   "id": "59d1bc49",
   "metadata": {},
   "source": [
    "# Operações lógicas"
   ]
  },
  {
   "cell_type": "markdown",
   "id": "6f603d32",
   "metadata": {},
   "source": [
    "`and`: Devolve **True** se ambas as expressões forem verdadeiras"
   ]
  },
  {
   "cell_type": "code",
   "execution_count": 2,
   "id": "6de998f7",
   "metadata": {},
   "outputs": [
    {
     "data": {
      "text/plain": [
       "True"
      ]
     },
     "execution_count": 2,
     "metadata": {},
     "output_type": "execute_result"
    }
   ],
   "source": [
    "x = 3\n",
    "\n",
    "x < 5 and x < 10"
   ]
  },
  {
   "cell_type": "markdown",
   "id": "183c3628",
   "metadata": {},
   "source": [
    "`or`: Devolve **True** se alguma das expressões for verdadeira"
   ]
  },
  {
   "cell_type": "code",
   "execution_count": 4,
   "id": "0f462153",
   "metadata": {},
   "outputs": [
    {
     "data": {
      "text/plain": [
       "False"
      ]
     },
     "execution_count": 4,
     "metadata": {},
     "output_type": "execute_result"
    }
   ],
   "source": [
    "x = 5\n",
    "\n",
    "x == 8 or x == 4"
   ]
  },
  {
   "cell_type": "markdown",
   "id": "6b192e49",
   "metadata": {},
   "source": [
    "`not`: Reverte o resultado"
   ]
  },
  {
   "cell_type": "code",
   "execution_count": 5,
   "id": "c89738d1",
   "metadata": {},
   "outputs": [
    {
     "data": {
      "text/plain": [
       "True"
      ]
     },
     "execution_count": 5,
     "metadata": {},
     "output_type": "execute_result"
    }
   ],
   "source": [
    "x = 12\n",
    "\n",
    "not(x < 5 and x < 10)"
   ]
  },
  {
   "cell_type": "markdown",
   "id": "7723c10d",
   "metadata": {},
   "source": [
    "# Operações de identidade"
   ]
  },
  {
   "cell_type": "markdown",
   "id": "3d80c2e5",
   "metadata": {},
   "source": [
    "`is`: Devolve **True** se ambas variáveis são o mesmo objeto"
   ]
  },
  {
   "cell_type": "code",
   "execution_count": 6,
   "id": "e0d0bfed",
   "metadata": {},
   "outputs": [
    {
     "data": {
      "text/plain": [
       "True"
      ]
     },
     "execution_count": 6,
     "metadata": {},
     "output_type": "execute_result"
    }
   ],
   "source": [
    "x, y = 8, 8\n",
    "\n",
    "x is y"
   ]
  },
  {
   "cell_type": "markdown",
   "id": "2fe26a48",
   "metadata": {},
   "source": [
    "`is not`: Devolve **True** se ambas as variáveis não são o mesmo objeto"
   ]
  },
  {
   "cell_type": "code",
   "execution_count": 7,
   "id": "12dc01a8",
   "metadata": {},
   "outputs": [
    {
     "data": {
      "text/plain": [
       "True"
      ]
     },
     "execution_count": 7,
     "metadata": {},
     "output_type": "execute_result"
    }
   ],
   "source": [
    "x, y = 2, 4\n",
    "\n",
    "x is not y"
   ]
  },
  {
   "cell_type": "markdown",
   "id": "1dc0c4a9",
   "metadata": {},
   "source": [
    "# Operações de pertença"
   ]
  },
  {
   "cell_type": "markdown",
   "id": "50ada790",
   "metadata": {},
   "source": [
    "`in`: Retorna **True** se a sequência com o valor especificado está presente no objeto"
   ]
  },
  {
   "cell_type": "code",
   "execution_count": 8,
   "id": "46ebc1fd",
   "metadata": {},
   "outputs": [
    {
     "data": {
      "text/plain": [
       "True"
      ]
     },
     "execution_count": 8,
     "metadata": {},
     "output_type": "execute_result"
    }
   ],
   "source": [
    "x = \"ab\"\n",
    "y = \"abcd\"\n",
    "\n",
    "x in y"
   ]
  },
  {
   "cell_type": "markdown",
   "id": "324026c9",
   "metadata": {},
   "source": [
    "`not in`: Retorna **True** se a sequência com o valor especificado não está presente no objeto"
   ]
  },
  {
   "cell_type": "code",
   "execution_count": 9,
   "id": "4cce532e",
   "metadata": {},
   "outputs": [
    {
     "data": {
      "text/plain": [
       "True"
      ]
     },
     "execution_count": 9,
     "metadata": {},
     "output_type": "execute_result"
    }
   ],
   "source": [
    "x = \"ab\"\n",
    "y = \"cd\"\n",
    "\n",
    "x not in y"
   ]
  },
  {
   "cell_type": "markdown",
   "id": "876b2dca",
   "metadata": {},
   "source": [
    "# Fluxos de controlo"
   ]
  },
  {
   "cell_type": "markdown",
   "id": "2459b3a2",
   "metadata": {},
   "source": [
    "## If... else"
   ]
  },
  {
   "cell_type": "markdown",
   "id": "6e68690f",
   "metadata": {},
   "source": [
    "`if`: Permite executar um conjunto de instruções caso a condição em questão se verifique"
   ]
  },
  {
   "cell_type": "code",
   "execution_count": 18,
   "id": "0bce4e0e",
   "metadata": {},
   "outputs": [
    {
     "name": "stdout",
     "output_type": "stream",
     "text": [
      "y é maior do que x\n"
     ]
    }
   ],
   "source": [
    "x = 2\n",
    "y = 4\n",
    "\n",
    "if y > x:\n",
    "    print(\"y é maior do que x\")"
   ]
  },
  {
   "cell_type": "markdown",
   "id": "15b2a5d1",
   "metadata": {},
   "source": [
    "`elif`: Permite executar um conjunto de instruções caso a condição em questão se verifique e todas as anteriores não"
   ]
  },
  {
   "cell_type": "code",
   "execution_count": 19,
   "id": "e10f695b",
   "metadata": {},
   "outputs": [
    {
     "name": "stdout",
     "output_type": "stream",
     "text": [
      "y é menor do que x\n"
     ]
    }
   ],
   "source": [
    "x = 4\n",
    "y = 2\n",
    "\n",
    "if y > x:\n",
    "    print(\"y é maior do que x\")\n",
    "elif y < x:\n",
    "    print(\"y é menor do que x\")\n",
    "else:\n",
    "    print(\"y é igual a x\")"
   ]
  },
  {
   "cell_type": "markdown",
   "id": "c0a1ae24",
   "metadata": {},
   "source": [
    "`else`: Permite capturar tudo o que não tenha sido capturado pelas condições anteriores"
   ]
  },
  {
   "cell_type": "code",
   "execution_count": 20,
   "id": "224bad36",
   "metadata": {},
   "outputs": [
    {
     "name": "stdout",
     "output_type": "stream",
     "text": [
      "y é igual a x\n"
     ]
    }
   ],
   "source": [
    "x = 5\n",
    "y = 5\n",
    "\n",
    "if y > x:\n",
    "    print(\"y é maior do que x\")\n",
    "elif y < x:\n",
    "    print(\"y é menor do que x\")\n",
    "else:\n",
    "    print(\"y é igual a x\")"
   ]
  },
  {
   "cell_type": "markdown",
   "id": "e2f87e89",
   "metadata": {},
   "source": [
    "## While loops"
   ]
  },
  {
   "cell_type": "markdown",
   "id": "57487a88",
   "metadata": {},
   "source": [
    "`while`: Permite executar um conjunto de instruções enquanto a condição for verdadeira"
   ]
  },
  {
   "cell_type": "code",
   "execution_count": 11,
   "id": "e3cf7933",
   "metadata": {},
   "outputs": [
    {
     "data": {
      "text/plain": [
       "6"
      ]
     },
     "execution_count": 11,
     "metadata": {},
     "output_type": "execute_result"
    }
   ],
   "source": [
    "i = 0\n",
    "\n",
    "while i<6:\n",
    "    i+=1\n",
    "    \n",
    "i"
   ]
  },
  {
   "cell_type": "markdown",
   "id": "d5e9415f",
   "metadata": {},
   "source": [
    "`break`: Permite terminar o ciclo mesmo que a condição seja verdadeira"
   ]
  },
  {
   "cell_type": "code",
   "execution_count": 13,
   "id": "66e5978c",
   "metadata": {},
   "outputs": [
    {
     "data": {
      "text/plain": [
       "0"
      ]
     },
     "execution_count": 13,
     "metadata": {},
     "output_type": "execute_result"
    }
   ],
   "source": [
    "i = 0\n",
    "\n",
    "while i<5:\n",
    "    break\n",
    "        \n",
    "i"
   ]
  },
  {
   "cell_type": "markdown",
   "id": "882e5afb",
   "metadata": {},
   "source": [
    "## For loops"
   ]
  },
  {
   "cell_type": "markdown",
   "id": "46ca238b",
   "metadata": {},
   "source": [
    "`for`: Permite executar um conjunto de instruções para cada item de uma lista, de um tuplo, etc."
   ]
  },
  {
   "cell_type": "code",
   "execution_count": 15,
   "id": "a1f12bfb",
   "metadata": {
    "scrolled": true
   },
   "outputs": [
    {
     "name": "stdout",
     "output_type": "stream",
     "text": [
      "b\n",
      "a\n",
      "n\n",
      "a\n",
      "n\n",
      "a\n"
     ]
    }
   ],
   "source": [
    "for x in \"banana\":\n",
    "    print(x)"
   ]
  },
  {
   "cell_type": "markdown",
   "id": "0d490d34",
   "metadata": {},
   "source": [
    "# Scripts e comentários"
   ]
  },
  {
   "cell_type": "markdown",
   "id": "0152326b",
   "metadata": {},
   "source": [
    "# Funções"
   ]
  },
  {
   "cell_type": "markdown",
   "id": "43bd98e9",
   "metadata": {},
   "source": [
    "# Exercícios"
   ]
  },
  {
   "cell_type": "code",
   "execution_count": null,
   "id": "5ba512c0",
   "metadata": {},
   "outputs": [],
   "source": [
    "#lambda expressions/filter/...\n",
    "#continue\n",
    "#pass"
   ]
  }
 ],
 "metadata": {
  "kernelspec": {
   "display_name": "Python 3",
   "language": "python",
   "name": "python3"
  },
  "language_info": {
   "codemirror_mode": {
    "name": "ipython",
    "version": 3
   },
   "file_extension": ".py",
   "mimetype": "text/x-python",
   "name": "python",
   "nbconvert_exporter": "python",
   "pygments_lexer": "ipython3",
   "version": "3.8.8"
  }
 },
 "nbformat": 4,
 "nbformat_minor": 5
}
