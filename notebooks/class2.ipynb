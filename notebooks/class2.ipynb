{
 "cells": [
  {
   "cell_type": "markdown",
   "id": "ad458f0c",
   "metadata": {
    "slideshow": {
     "slide_type": "-"
    }
   },
   "source": [
    "# Introdução a Python\n",
    "\n",
    "## Aula 2"
   ]
  },
  {
   "cell_type": "markdown",
   "id": "7d08e1db",
   "metadata": {
    "slideshow": {
     "slide_type": "subslide"
    }
   },
   "source": [
    "# Sumário"
   ]
  },
  {
   "cell_type": "markdown",
   "id": "e749c7ca",
   "metadata": {
    "slideshow": {
     "slide_type": "fragment"
    }
   },
   "source": [
    "- Operações lógicas\n",
    "- Operações de pertença\n",
    "- Fluxos de controlo\n",
    "- Scripts e comentários\n",
    "- Funções\n",
    "- Exercícios"
   ]
  },
  {
   "cell_type": "markdown",
   "id": "59d1bc49",
   "metadata": {
    "slideshow": {
     "slide_type": "slide"
    }
   },
   "source": [
    "# Operações lógicas"
   ]
  },
  {
   "cell_type": "markdown",
   "id": "6f603d32",
   "metadata": {
    "slideshow": {
     "slide_type": "fragment"
    }
   },
   "source": [
    "`and`: Devolve **True** se ambas as expressões forem verdadeiras"
   ]
  },
  {
   "cell_type": "code",
   "execution_count": 1,
   "id": "6de998f7",
   "metadata": {},
   "outputs": [
    {
     "data": {
      "text/plain": [
       "True"
      ]
     },
     "execution_count": 1,
     "metadata": {},
     "output_type": "execute_result"
    }
   ],
   "source": [
    "x = 3\n",
    "\n",
    "x < 10 and x < 5"
   ]
  },
  {
   "cell_type": "markdown",
   "id": "183c3628",
   "metadata": {
    "slideshow": {
     "slide_type": "fragment"
    }
   },
   "source": [
    "`or`: Devolve **True** se alguma das expressões for verdadeira"
   ]
  },
  {
   "cell_type": "code",
   "execution_count": 2,
   "id": "0f462153",
   "metadata": {},
   "outputs": [
    {
     "data": {
      "text/plain": [
       "False"
      ]
     },
     "execution_count": 2,
     "metadata": {},
     "output_type": "execute_result"
    }
   ],
   "source": [
    "x = 5\n",
    "\n",
    "x == 8 or x == 4"
   ]
  },
  {
   "cell_type": "markdown",
   "id": "6b192e49",
   "metadata": {
    "slideshow": {
     "slide_type": "fragment"
    }
   },
   "source": [
    "`not`: Reverte o resultado"
   ]
  },
  {
   "cell_type": "code",
   "execution_count": 3,
   "id": "c89738d1",
   "metadata": {},
   "outputs": [
    {
     "data": {
      "text/plain": [
       "False"
      ]
     },
     "execution_count": 3,
     "metadata": {},
     "output_type": "execute_result"
    }
   ],
   "source": [
    "x = 12\n",
    "\n",
    "not(x > 5 and x > 10)"
   ]
  },
  {
   "cell_type": "markdown",
   "id": "1dc0c4a9",
   "metadata": {
    "slideshow": {
     "slide_type": "slide"
    }
   },
   "source": [
    "# Operações de pertença"
   ]
  },
  {
   "cell_type": "markdown",
   "id": "50ada790",
   "metadata": {
    "slideshow": {
     "slide_type": "fragment"
    }
   },
   "source": [
    "`in`: Retorna **True** se a sequência com o valor especificado está presente no objeto"
   ]
  },
  {
   "cell_type": "code",
   "execution_count": 4,
   "id": "46ebc1fd",
   "metadata": {},
   "outputs": [
    {
     "data": {
      "text/plain": [
       "True"
      ]
     },
     "execution_count": 4,
     "metadata": {},
     "output_type": "execute_result"
    }
   ],
   "source": [
    "x = \"ab\"\n",
    "y = \"abcd\"\n",
    "\n",
    "x in y"
   ]
  },
  {
   "cell_type": "markdown",
   "id": "324026c9",
   "metadata": {
    "slideshow": {
     "slide_type": "fragment"
    }
   },
   "source": [
    "`not in`: Retorna **True** se a sequência com o valor especificado não está presente no objeto"
   ]
  },
  {
   "cell_type": "code",
   "execution_count": 5,
   "id": "4cce532e",
   "metadata": {},
   "outputs": [
    {
     "data": {
      "text/plain": [
       "True"
      ]
     },
     "execution_count": 5,
     "metadata": {},
     "output_type": "execute_result"
    }
   ],
   "source": [
    "x = \"ab\"\n",
    "y = \"cd\"\n",
    "\n",
    "x not in y"
   ]
  },
  {
   "cell_type": "markdown",
   "id": "876b2dca",
   "metadata": {
    "slideshow": {
     "slide_type": "slide"
    }
   },
   "source": [
    "# Fluxos de controlo"
   ]
  },
  {
   "cell_type": "markdown",
   "id": "2459b3a2",
   "metadata": {
    "slideshow": {
     "slide_type": "subslide"
    }
   },
   "source": [
    "## If... else"
   ]
  },
  {
   "cell_type": "markdown",
   "id": "6e68690f",
   "metadata": {
    "slideshow": {
     "slide_type": "fragment"
    }
   },
   "source": [
    "`if`: Permite executar um conjunto de instruções caso a condição em questão se verifique"
   ]
  },
  {
   "cell_type": "code",
   "execution_count": 6,
   "id": "0bce4e0e",
   "metadata": {},
   "outputs": [
    {
     "name": "stdout",
     "output_type": "stream",
     "text": [
      "y é maior do que x\n"
     ]
    }
   ],
   "source": [
    "x = 2\n",
    "y = 4\n",
    "\n",
    "if y > x:\n",
    "    print(\"y é maior do que x\") #atenção à indentação"
   ]
  },
  {
   "cell_type": "markdown",
   "id": "15b2a5d1",
   "metadata": {
    "slideshow": {
     "slide_type": "fragment"
    }
   },
   "source": [
    "`elif`: Permite executar um conjunto de instruções caso a condição em questão se verifique e todas as anteriores não"
   ]
  },
  {
   "cell_type": "code",
   "execution_count": 7,
   "id": "e10f695b",
   "metadata": {},
   "outputs": [
    {
     "name": "stdout",
     "output_type": "stream",
     "text": [
      "y é menor do que x\n"
     ]
    }
   ],
   "source": [
    "x = 4\n",
    "y = 2\n",
    "\n",
    "if y > x:\n",
    "    print(\"y é maior do que x\")\n",
    "elif y < x:\n",
    "    print(\"y é menor do que x\")"
   ]
  },
  {
   "cell_type": "markdown",
   "id": "c0a1ae24",
   "metadata": {
    "slideshow": {
     "slide_type": "subslide"
    }
   },
   "source": [
    "`else`: Permite capturar tudo o que não tenha sido capturado pelas condições anteriores"
   ]
  },
  {
   "cell_type": "code",
   "execution_count": 8,
   "id": "224bad36",
   "metadata": {},
   "outputs": [
    {
     "name": "stdout",
     "output_type": "stream",
     "text": [
      "y é igual a x\n"
     ]
    }
   ],
   "source": [
    "x = 5\n",
    "y = 5\n",
    "\n",
    "if y > x:\n",
    "    print(\"y é maior do que x\")\n",
    "elif y < x:\n",
    "    print(\"y é menor do que x\")\n",
    "else:\n",
    "    print(\"y é igual a x\")"
   ]
  },
  {
   "cell_type": "markdown",
   "id": "e2f87e89",
   "metadata": {
    "slideshow": {
     "slide_type": "subslide"
    }
   },
   "source": [
    "## Ciclos while"
   ]
  },
  {
   "cell_type": "markdown",
   "id": "57487a88",
   "metadata": {
    "slideshow": {
     "slide_type": "fragment"
    }
   },
   "source": [
    "`while`: Permite executar um conjunto de instruções enquanto a condição for verdadeira"
   ]
  },
  {
   "cell_type": "code",
   "execution_count": 9,
   "id": "e3cf7933",
   "metadata": {},
   "outputs": [
    {
     "data": {
      "text/plain": [
       "6"
      ]
     },
     "execution_count": 9,
     "metadata": {},
     "output_type": "execute_result"
    }
   ],
   "source": [
    "i = 0\n",
    "\n",
    "while i<6:\n",
    "    i+=1\n",
    "    \n",
    "i"
   ]
  },
  {
   "cell_type": "markdown",
   "id": "d5e9415f",
   "metadata": {
    "slideshow": {
     "slide_type": "fragment"
    }
   },
   "source": [
    "`break`: Permite terminar o ciclo mesmo que a condição seja verdadeira"
   ]
  },
  {
   "cell_type": "code",
   "execution_count": 10,
   "id": "66e5978c",
   "metadata": {},
   "outputs": [
    {
     "name": "stdout",
     "output_type": "stream",
     "text": [
      "1\n",
      "2\n"
     ]
    }
   ],
   "source": [
    "i = 0\n",
    "\n",
    "while i < 5:\n",
    "    i += 1\n",
    "    if i == 3:\n",
    "        break\n",
    "    print(i)"
   ]
  },
  {
   "cell_type": "markdown",
   "id": "63bcb4c5",
   "metadata": {
    "slideshow": {
     "slide_type": "subslide"
    }
   },
   "source": [
    "`continue`: Utiliza-se quando queremos passar uma certa iteração à frente"
   ]
  },
  {
   "cell_type": "code",
   "execution_count": 11,
   "id": "c39033c2",
   "metadata": {},
   "outputs": [
    {
     "name": "stdout",
     "output_type": "stream",
     "text": [
      "1\n",
      "2\n",
      "4\n",
      "5\n"
     ]
    }
   ],
   "source": [
    "i = 0\n",
    "\n",
    "while i < 5:\n",
    "    i += 1\n",
    "    if i == 3:\n",
    "        continue\n",
    "    print(i)"
   ]
  },
  {
   "cell_type": "markdown",
   "id": "882e5afb",
   "metadata": {
    "slideshow": {
     "slide_type": "subslide"
    }
   },
   "source": [
    "## Ciclos for"
   ]
  },
  {
   "cell_type": "markdown",
   "id": "46ca238b",
   "metadata": {
    "slideshow": {
     "slide_type": "fragment"
    }
   },
   "source": [
    "`for`: Permite executar um conjunto de instruções para cada item de uma lista, de um tuplo, etc."
   ]
  },
  {
   "cell_type": "code",
   "execution_count": 12,
   "id": "a1f12bfb",
   "metadata": {
    "scrolled": true
   },
   "outputs": [
    {
     "name": "stdout",
     "output_type": "stream",
     "text": [
      "b\n",
      "a\n",
      "n\n",
      "a\n",
      "n\n",
      "a\n"
     ]
    }
   ],
   "source": [
    "for x in \"banana\":\n",
    "    print(x)"
   ]
  },
  {
   "cell_type": "markdown",
   "id": "0d490d34",
   "metadata": {
    "slideshow": {
     "slide_type": "slide"
    }
   },
   "source": [
    "# Scripts e comentários"
   ]
  },
  {
   "cell_type": "markdown",
   "id": "20096928",
   "metadata": {
    "slideshow": {
     "slide_type": "fragment"
    }
   },
   "source": [
    "Para correr um script:\n",
    "```bash\n",
    "python nome_do_script.py\n",
    "```"
   ]
  },
  {
   "cell_type": "markdown",
   "id": "e6a3186b",
   "metadata": {
    "slideshow": {
     "slide_type": "fragment"
    }
   },
   "source": [
    "Para correr um script em modo interativo:\n",
    "```bash\n",
    "python -i nome_do_script.py\n",
    "```"
   ]
  },
  {
   "cell_type": "markdown",
   "id": "0152326b",
   "metadata": {
    "slideshow": {
     "slide_type": "slide"
    }
   },
   "source": [
    "# Funções"
   ]
  },
  {
   "cell_type": "markdown",
   "id": "d3c52766",
   "metadata": {
    "slideshow": {
     "slide_type": "subslide"
    }
   },
   "source": [
    "`def`: Utiliza-se para definir uma função"
   ]
  },
  {
   "cell_type": "code",
   "execution_count": 13,
   "id": "e6b82474",
   "metadata": {
    "slideshow": {
     "slide_type": "fragment"
    }
   },
   "outputs": [
    {
     "name": "stdout",
     "output_type": "stream",
     "text": [
      "Hello world!\n"
     ]
    }
   ],
   "source": [
    "def my_function(): #sem argumento\n",
    "    print(\"Hello world!\")\n",
    "    \n",
    "my_function() #chamada da função"
   ]
  },
  {
   "cell_type": "code",
   "execution_count": 14,
   "id": "38ac2dad",
   "metadata": {
    "slideshow": {
     "slide_type": "fragment"
    }
   },
   "outputs": [
    {
     "name": "stdout",
     "output_type": "stream",
     "text": [
      "Number 8 is even.\n"
     ]
    }
   ],
   "source": [
    "def check_parity(i): #com argumento\n",
    "    if i%2==0:\n",
    "        print(f\"Number {i} is even.\")\n",
    "    else:\n",
    "        print(f\"Number {i} is odd.\")\n",
    "        \n",
    "check_parity(8)"
   ]
  },
  {
   "cell_type": "code",
   "execution_count": 15,
   "id": "80e19806",
   "metadata": {
    "slideshow": {
     "slide_type": "fragment"
    }
   },
   "outputs": [
    {
     "name": "stdout",
     "output_type": "stream",
     "text": [
      "My favourite color is pink.\n"
     ]
    }
   ],
   "source": [
    "def favourite_color(color = \"pink\"): #argumento por omissão\n",
    "    print(f\"My favourite color is {color}.\")\n",
    "    \n",
    "favourite_color()"
   ]
  },
  {
   "cell_type": "code",
   "execution_count": 16,
   "id": "c8af6c28",
   "metadata": {
    "slideshow": {
     "slide_type": "subslide"
    }
   },
   "outputs": [
    {
     "name": "stdout",
     "output_type": "stream",
     "text": [
      "The youngest child is John.\n"
     ]
    }
   ],
   "source": [
    "def youngest_child(*args): #número indefinido de argumentos\n",
    "    print(f\"The youngest child is {args[1]}.\")\n",
    "    \n",
    "youngest_child(\"Maria\", \"John\", \"Frank\")"
   ]
  },
  {
   "cell_type": "code",
   "execution_count": 17,
   "id": "fbe58556",
   "metadata": {
    "slideshow": {
     "slide_type": "fragment"
    }
   },
   "outputs": [
    {
     "name": "stdout",
     "output_type": "stream",
     "text": [
      "He is 30 years old.\n"
     ]
    }
   ],
   "source": [
    "def get_age(**kwargs): #número indefinido de argumentos com nome\n",
    "    print(f\"He is {kwargs['age']} years old.\")\n",
    "    \n",
    "get_age(name = \"Peter\", age = \"30\")"
   ]
  },
  {
   "cell_type": "markdown",
   "id": "fc0dbf1f",
   "metadata": {
    "slideshow": {
     "slide_type": "subslide"
    }
   },
   "source": [
    "`return`: Uiliza-se para a função devolver um resultado"
   ]
  },
  {
   "cell_type": "code",
   "execution_count": 18,
   "id": "7135b0ed",
   "metadata": {
    "slideshow": {
     "slide_type": "fragment"
    }
   },
   "outputs": [
    {
     "data": {
      "text/plain": [
       "4"
      ]
     },
     "execution_count": 18,
     "metadata": {},
     "output_type": "execute_result"
    }
   ],
   "source": [
    "def double(i):\n",
    "    return i*2\n",
    "\n",
    "double(2)"
   ]
  },
  {
   "cell_type": "code",
   "execution_count": 19,
   "id": "cfb13553",
   "metadata": {
    "slideshow": {
     "slide_type": "fragment"
    }
   },
   "outputs": [
    {
     "data": {
      "text/plain": [
       "120"
      ]
     },
     "execution_count": 19,
     "metadata": {},
     "output_type": "execute_result"
    }
   ],
   "source": [
    "def factorial(i): #função recursiva\n",
    "    if i == 0:\n",
    "        return 1\n",
    "    else:\n",
    "        return i * factorial(i-1)\n",
    "    \n",
    "factorial(5)"
   ]
  },
  {
   "cell_type": "markdown",
   "id": "fc5447fc",
   "metadata": {
    "slideshow": {
     "slide_type": "subslide"
    }
   },
   "source": [
    "`pass`: Utiliza-se para definir funções sem conteúdo"
   ]
  },
  {
   "cell_type": "code",
   "execution_count": 20,
   "id": "489776b2",
   "metadata": {
    "slideshow": {
     "slide_type": "fragment"
    }
   },
   "outputs": [],
   "source": [
    "def empty_function():\n",
    "    pass"
   ]
  },
  {
   "cell_type": "markdown",
   "id": "c58e3e49",
   "metadata": {
    "slideshow": {
     "slide_type": "subslide"
    }
   },
   "source": [
    "`lambda`: função anónima que pode receber qualquer número de argumentos, mas só pode ter uma expressão"
   ]
  },
  {
   "cell_type": "code",
   "execution_count": 21,
   "id": "abae0e20",
   "metadata": {
    "slideshow": {
     "slide_type": "fragment"
    }
   },
   "outputs": [
    {
     "data": {
      "text/plain": [
       "15"
      ]
     },
     "execution_count": 21,
     "metadata": {},
     "output_type": "execute_result"
    }
   ],
   "source": [
    "x = lambda a: a+10\n",
    "\n",
    "x(5)"
   ]
  },
  {
   "cell_type": "markdown",
   "id": "604bfb18",
   "metadata": {
    "slideshow": {
     "slide_type": "subslide"
    }
   },
   "source": [
    "Algumas funções pré-definidas relevantes:\n",
    "- abs()\n",
    "- len()\n",
    "- range()\n",
    "- etc."
   ]
  },
  {
   "cell_type": "code",
   "execution_count": 22,
   "id": "7adc5428",
   "metadata": {
    "slideshow": {
     "slide_type": "fragment"
    }
   },
   "outputs": [
    {
     "data": {
      "text/plain": [
       "7"
      ]
     },
     "execution_count": 22,
     "metadata": {},
     "output_type": "execute_result"
    }
   ],
   "source": [
    "abs(-7)"
   ]
  },
  {
   "cell_type": "code",
   "execution_count": 23,
   "id": "2b9d779c",
   "metadata": {
    "slideshow": {
     "slide_type": "fragment"
    }
   },
   "outputs": [
    {
     "data": {
      "text/plain": [
       "5"
      ]
     },
     "execution_count": 23,
     "metadata": {},
     "output_type": "execute_result"
    }
   ],
   "source": [
    "len(\"abcde\")"
   ]
  },
  {
   "cell_type": "code",
   "execution_count": 24,
   "id": "13473ec5",
   "metadata": {
    "slideshow": {
     "slide_type": "subslide"
    }
   },
   "outputs": [
    {
     "name": "stdout",
     "output_type": "stream",
     "text": [
      "0\n",
      "1\n",
      "2\n",
      "3\n",
      "4\n",
      "5\n",
      "6\n",
      "7\n",
      "8\n",
      "9\n"
     ]
    }
   ],
   "source": [
    "for i in range(10):\n",
    "    print(i)"
   ]
  },
  {
   "cell_type": "markdown",
   "id": "43bd98e9",
   "metadata": {
    "slideshow": {
     "slide_type": "slide"
    }
   },
   "source": [
    "# Exercícios"
   ]
  },
  {
   "cell_type": "markdown",
   "id": "dfdbcf6e",
   "metadata": {
    "slideshow": {
     "slide_type": "fragment"
    }
   },
   "source": [
    "1) Escreva uma função que verifica se uma string contém a letra \"a\"."
   ]
  },
  {
   "cell_type": "markdown",
   "id": "55da5da5",
   "metadata": {
    "slideshow": {
     "slide_type": "fragment"
    }
   },
   "source": [
    "2) Dados dois números inteiros, escreva uma função que retorna o maior."
   ]
  },
  {
   "cell_type": "markdown",
   "id": "999960cb",
   "metadata": {
    "slideshow": {
     "slide_type": "fragment"
    }
   },
   "source": [
    "3) Dado o raio de uma circunferência, escreva uma função que retorna o seu perímetro."
   ]
  },
  {
   "cell_type": "markdown",
   "id": "41d21c43",
   "metadata": {
    "slideshow": {
     "slide_type": "fragment"
    }
   },
   "source": [
    "4) Escreva uma função que retorna um quadrado de 5 por 5 cardinais (\"#\")."
   ]
  },
  {
   "cell_type": "markdown",
   "id": "d4d8d23b",
   "metadata": {
    "slideshow": {
     "slide_type": "fragment"
    }
   },
   "source": [
    "5) Dados dois números inteiros, escreva uma função que retorna o seu produto caso este seja maior do que 1000, caso contrário retorna a sua soma."
   ]
  },
  {
   "cell_type": "markdown",
   "id": "72514f89",
   "metadata": {
    "slideshow": {
     "slide_type": "fragment"
    }
   },
   "source": [
    "6) Dados os termos $a$, $b$ e $c$ de uma equação de segundo grau, escreva uma função que retorna o resultado da aplicação da fórmula resolvente."
   ]
  },
  {
   "cell_type": "markdown",
   "id": "beaf0883",
   "metadata": {
    "slideshow": {
     "slide_type": "fragment"
    }
   },
   "source": [
    "7) Dado um número natural, escreva uma função que imprime os seus divisores. Tenha em conta que os divisores de um número natural $n$ são os inteiros $k \\leq n$ tais que o resto da divisão de $n$ por $k$ é 0."
   ]
  },
  {
   "cell_type": "markdown",
   "id": "1796e3d0",
   "metadata": {
    "slideshow": {
     "slide_type": "fragment"
    }
   },
   "source": [
    "8) Dado um número natural, escreva uma função que calcule o termo de Fibonnaci para esse número."
   ]
  },
  {
   "cell_type": "markdown",
   "id": "6e9d9fc2",
   "metadata": {
    "slideshow": {
     "slide_type": "fragment"
    }
   },
   "source": [
    "9) Escreva uma função que percorre os números inteiros de 1 até 50. Para os múltiplos de 3 imprime \"Fizz\", para os múltiplos de 5 imprime \"Buzz\" e para os múltiplos de 3 e 5 simultaneamente imprime \"FizzBuzz\"."
   ]
  },
  {
   "cell_type": "markdown",
   "id": "15a8f94e",
   "metadata": {
    "slideshow": {
     "slide_type": "subslide"
    }
   },
   "source": [
    "10) Escreva uma função que verifica a velocidade dos condutores: se a velocidade for menor que 70 deverá imprimir \"ok\", por cada 5km acima do limite de velocidade (70) deverá implicar um furo na carta e imprimir o número de furos, se o condutor tiver mais de 12 furos na carta deverá imprimir \"carta de condução suspensa\"."
   ]
  }
 ],
 "metadata": {
  "celltoolbar": "Slideshow",
  "kernelspec": {
   "display_name": "Python 3",
   "language": "python",
   "name": "python3"
  },
  "language_info": {
   "codemirror_mode": {
    "name": "ipython",
    "version": 3
   },
   "file_extension": ".py",
   "mimetype": "text/x-python",
   "name": "python",
   "nbconvert_exporter": "python",
   "pygments_lexer": "ipython3",
   "version": "3.8.8"
  }
 },
 "nbformat": 4,
 "nbformat_minor": 5
}
