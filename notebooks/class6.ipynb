{
 "cells": [
  {
   "cell_type": "markdown",
   "id": "dc6bbfd3",
   "metadata": {},
   "source": [
    "# Introdução a Python\n",
    "\n",
    "## Aula 6"
   ]
  },
  {
   "cell_type": "markdown",
   "id": "e0100a9b",
   "metadata": {},
   "source": [
    "# Sumário"
   ]
  },
  {
   "cell_type": "markdown",
   "id": "f8c3c530",
   "metadata": {},
   "source": [
    "- Instalação e setup\n",
    "- Módulo NumPy"
   ]
  },
  {
   "cell_type": "markdown",
   "id": "d224b521",
   "metadata": {},
   "source": [
    "# Instalação e setup"
   ]
  },
  {
   "cell_type": "markdown",
   "id": "60fe1e93",
   "metadata": {},
   "source": [
    "[![](https://img.shields.io/badge/Jupyter-ffffff?style=for-the-badge&logo=jupyter)](https://jupyter.org/install)"
   ]
  },
  {
   "cell_type": "markdown",
   "id": "4e5efa66",
   "metadata": {},
   "source": [
    "[![](https://img.shields.io/badge/NumPy-4c78d0?style=for-the-badge&logo=numpy)](https://numpy.org/install/)"
   ]
  },
  {
   "cell_type": "markdown",
   "id": "fc913d52",
   "metadata": {},
   "source": [
    "# Módulo NumPy"
   ]
  },
  {
   "cell_type": "markdown",
   "id": "096c8fec",
   "metadata": {},
   "source": [
    "Para importar o módulo"
   ]
  },
  {
   "cell_type": "code",
   "execution_count": 2,
   "id": "eebc79ad",
   "metadata": {},
   "outputs": [],
   "source": [
    "import numpy as np"
   ]
  },
  {
   "cell_type": "markdown",
   "id": "235a1e69",
   "metadata": {},
   "source": [
    "Para verificar a respetiva versão"
   ]
  },
  {
   "cell_type": "code",
   "execution_count": 3,
   "id": "0ce3e9d1",
   "metadata": {},
   "outputs": [
    {
     "name": "stdout",
     "output_type": "stream",
     "text": [
      "1.20.1\n"
     ]
    }
   ],
   "source": [
    "print(np.__version__)"
   ]
  },
  {
   "cell_type": "markdown",
   "id": "7d739492",
   "metadata": {},
   "source": [
    "## Criação de arrays"
   ]
  },
  {
   "cell_type": "code",
   "execution_count": 19,
   "id": "1732d688",
   "metadata": {},
   "outputs": [
    {
     "name": "stdout",
     "output_type": "stream",
     "text": [
      "1\n"
     ]
    }
   ],
   "source": [
    "array0d = np.array(1) #poderia ser passado qualquer outro objeto semelhante a um array\n",
    "\n",
    "print(array0d)"
   ]
  },
  {
   "cell_type": "code",
   "execution_count": 20,
   "id": "4b8de692",
   "metadata": {},
   "outputs": [
    {
     "name": "stdout",
     "output_type": "stream",
     "text": [
      "[1 2 3]\n"
     ]
    }
   ],
   "source": [
    "array1d = np.array([1,2,3]) \n",
    "\n",
    "print(array1d)"
   ]
  },
  {
   "cell_type": "code",
   "execution_count": 21,
   "id": "04a3f43b",
   "metadata": {},
   "outputs": [
    {
     "name": "stdout",
     "output_type": "stream",
     "text": [
      "[[1 2 3]\n",
      " [4 5 6]]\n"
     ]
    }
   ],
   "source": [
    "array2d = np.array([[1,2,3], [4,5,6]])\n",
    "\n",
    "print(array2d)"
   ]
  },
  {
   "cell_type": "code",
   "execution_count": 22,
   "id": "894d1445",
   "metadata": {},
   "outputs": [
    {
     "name": "stdout",
     "output_type": "stream",
     "text": [
      "[[[1 2 3]\n",
      "  [4 5 6]\n",
      "  [7 8 9]]]\n"
     ]
    }
   ],
   "source": [
    "array3d = np.array([[[1,2,3], [4,5,6], [7,8,9]]])\n",
    "\n",
    "print(array3d)"
   ]
  },
  {
   "cell_type": "code",
   "execution_count": 30,
   "id": "dd27db45",
   "metadata": {},
   "outputs": [
    {
     "name": "stdout",
     "output_type": "stream",
     "text": [
      "5\n"
     ]
    }
   ],
   "source": [
    "array5d = np.array([1,2,3], ndmin=5)\n",
    "\n",
    "print(array5d.ndim)"
   ]
  },
  {
   "cell_type": "markdown",
   "id": "34ab0411",
   "metadata": {},
   "source": [
    "## Indexação de arrays"
   ]
  },
  {
   "cell_type": "code",
   "execution_count": 27,
   "id": "f0f66b84",
   "metadata": {},
   "outputs": [
    {
     "data": {
      "text/plain": [
       "2"
      ]
     },
     "execution_count": 27,
     "metadata": {},
     "output_type": "execute_result"
    }
   ],
   "source": [
    "pairs = np.array([2,4,6])\n",
    "\n",
    "pairs[0]"
   ]
  },
  {
   "cell_type": "code",
   "execution_count": 33,
   "id": "7c405529",
   "metadata": {},
   "outputs": [
    {
     "data": {
      "text/plain": [
       "3"
      ]
     },
     "execution_count": 33,
     "metadata": {},
     "output_type": "execute_result"
    }
   ],
   "source": [
    "even_odd = np.array([[2,4,6],[1,3,5]])\n",
    "\n",
    "even_odd[1, 1]"
   ]
  },
  {
   "cell_type": "code",
   "execution_count": 46,
   "id": "20b16404",
   "metadata": {},
   "outputs": [
    {
     "data": {
      "text/plain": [
       "9"
      ]
     },
     "execution_count": 46,
     "metadata": {},
     "output_type": "execute_result"
    }
   ],
   "source": [
    "powers_of_3 = np.array([1,3,9,27])\n",
    "\n",
    "powers_of_3[-2]"
   ]
  },
  {
   "cell_type": "code",
   "execution_count": 52,
   "id": "656567e3",
   "metadata": {},
   "outputs": [
    {
     "data": {
      "text/plain": [
       "3"
      ]
     },
     "execution_count": 52,
     "metadata": {},
     "output_type": "execute_result"
    }
   ],
   "source": [
    "multiples_of_2_3 = np.array([[2,4,6],[3,6,9]])\n",
    "\n",
    "multiples_of_2_3[1, -3]"
   ]
  },
  {
   "cell_type": "code",
   "execution_count": 40,
   "id": "26b2844a",
   "metadata": {},
   "outputs": [
    {
     "data": {
      "text/plain": [
       "array([3, 5])"
      ]
     },
     "execution_count": 40,
     "metadata": {},
     "output_type": "execute_result"
    }
   ],
   "source": [
    "primes = np.array([2, 3, 5, 7])\n",
    "\n",
    "primes[1:3]"
   ]
  },
  {
   "cell_type": "code",
   "execution_count": 53,
   "id": "de9d692e",
   "metadata": {},
   "outputs": [
    {
     "data": {
      "text/plain": [
       "array([2, 4, 8])"
      ]
     },
     "execution_count": 53,
     "metadata": {},
     "output_type": "execute_result"
    }
   ],
   "source": [
    "divisors_of_6_8 = np.array([[1, 2, 3, 6], [1, 2, 4, 8]]) \n",
    "\n",
    "divisors_of_6_8[1, 1:4]"
   ]
  },
  {
   "cell_type": "code",
   "execution_count": 45,
   "id": "56953b59",
   "metadata": {},
   "outputs": [
    {
     "data": {
      "text/plain": [
       "array([2, 4])"
      ]
     },
     "execution_count": 45,
     "metadata": {},
     "output_type": "execute_result"
    }
   ],
   "source": [
    "powers_of_2 = np.array([1,2,4,8])\n",
    "\n",
    "powers_of_2[-3:-1]"
   ]
  },
  {
   "cell_type": "code",
   "execution_count": 51,
   "id": "f28b5ff6",
   "metadata": {},
   "outputs": [
    {
     "data": {
      "text/plain": [
       "array([-1, -2])"
      ]
     },
     "execution_count": 51,
     "metadata": {},
     "output_type": "execute_result"
    }
   ],
   "source": [
    "negative_positive = np.array([[-1,-2,-3,-4], [1,2,3,4]])\n",
    "\n",
    "negative_positive[0, -4:-2]"
   ]
  },
  {
   "cell_type": "code",
   "execution_count": 43,
   "id": "5dfa0ef4",
   "metadata": {},
   "outputs": [
    {
     "data": {
      "text/plain": [
       "array([10, 15, 20])"
      ]
     },
     "execution_count": 43,
     "metadata": {},
     "output_type": "execute_result"
    }
   ],
   "source": [
    "multiples_of_5 = np.array([5,10,15,20])\n",
    "\n",
    "multiples_of_5[1:]"
   ]
  },
  {
   "cell_type": "code",
   "execution_count": 54,
   "id": "87201cea",
   "metadata": {},
   "outputs": [
    {
     "data": {
      "text/plain": [
       "array([3.3, 4.4])"
      ]
     },
     "execution_count": 54,
     "metadata": {},
     "output_type": "execute_result"
    }
   ],
   "source": [
    "int_float = np.array([[1,2,3,4],[1.1,2.2,3.3,4.4]])\n",
    "\n",
    "int_float[1, 2:]"
   ]
  },
  {
   "cell_type": "code",
   "execution_count": 49,
   "id": "fe6912da",
   "metadata": {},
   "outputs": [
    {
     "data": {
      "text/plain": [
       "array([1, 4])"
      ]
     },
     "execution_count": 49,
     "metadata": {},
     "output_type": "execute_result"
    }
   ],
   "source": [
    "perfect_squares = np.array([1,4,9,16,25])\n",
    "\n",
    "perfect_squares[:2]"
   ]
  },
  {
   "cell_type": "code",
   "execution_count": 58,
   "id": "b8626811",
   "metadata": {},
   "outputs": [
    {
     "data": {
      "text/plain": [
       "array([ 4, 14, 24])"
      ]
     },
     "execution_count": 58,
     "metadata": {},
     "output_type": "execute_result"
    }
   ],
   "source": [
    "end_in_4_8 = np.array([[4,14,24,34],[8,18,28,38]])\n",
    "\n",
    "end_in_4_8[0, :3]"
   ]
  },
  {
   "cell_type": "code",
   "execution_count": 59,
   "id": "a4b4e658",
   "metadata": {},
   "outputs": [
    {
     "data": {
      "text/plain": [
       "array([1.3 , 1.33])"
      ]
     },
     "execution_count": 59,
     "metadata": {},
     "output_type": "execute_result"
    }
   ],
   "source": [
    "decimal_places_1_2 = np.array([[1.1, 1.2, 1.3], [1.11, 1.22, 1.33]])\n",
    "\n",
    "decimal_places_1_2[0:2, 2]"
   ]
  },
  {
   "cell_type": "code",
   "execution_count": 60,
   "id": "ab057048",
   "metadata": {},
   "outputs": [
    {
     "data": {
      "text/plain": [
       "array([[20, 21],\n",
       "       [60, 61]])"
      ]
     },
     "execution_count": 60,
     "metadata": {},
     "output_type": "execute_result"
    }
   ],
   "source": [
    "start_in_2_6 = np.array([[2,20,21,22], [6,60,61,62]])\n",
    "\n",
    "start_in_2_6[0:2, 1:3]"
   ]
  },
  {
   "cell_type": "markdown",
   "id": "80e1ec2c",
   "metadata": {},
   "source": [
    "## Tipos"
   ]
  },
  {
   "cell_type": "markdown",
   "id": "2f706785",
   "metadata": {},
   "source": [
    "`S`: string"
   ]
  },
  {
   "cell_type": "markdown",
   "id": "7a6267bb",
   "metadata": {},
   "source": [
    "`i`: integer"
   ]
  },
  {
   "cell_type": "markdown",
   "id": "979ca113",
   "metadata": {},
   "source": [
    "`f`: float"
   ]
  },
  {
   "cell_type": "markdown",
   "id": "2f04781f",
   "metadata": {},
   "source": [
    "`c`: complex"
   ]
  },
  {
   "cell_type": "markdown",
   "id": "efa94e8d",
   "metadata": {},
   "source": [
    "`b`: boolean"
   ]
  },
  {
   "cell_type": "markdown",
   "id": "8e1cd423",
   "metadata": {},
   "source": [
    "## Copy vs View"
   ]
  },
  {
   "cell_type": "code",
   "execution_count": 63,
   "id": "3e5b7e5e",
   "metadata": {},
   "outputs": [
    {
     "name": "stdout",
     "output_type": "stream",
     "text": [
      "[-2  2  2  2]\n",
      "[2 2 2 2]\n"
     ]
    }
   ],
   "source": [
    "repeated = np.array([2,2,2,2])\n",
    "\n",
    "copy_repeated = repeated.copy()\n",
    "\n",
    "repeated[0] = -2\n",
    "\n",
    "print(repeated)\n",
    "print(copy_repeated)"
   ]
  },
  {
   "cell_type": "code",
   "execution_count": 65,
   "id": "17cbcbd3",
   "metadata": {},
   "outputs": [
    {
     "name": "stdout",
     "output_type": "stream",
     "text": [
      "[0 2 3 4 5]\n",
      "[0 2 3 4 5]\n"
     ]
    }
   ],
   "source": [
    "numbers_1_to_5 = np.array([1,2,3,4,5])\n",
    "\n",
    "view_numbers_1_to_5 = numbers_1_to_5.view()\n",
    "\n",
    "numbers_1_to_5[0] = 0\n",
    "\n",
    "print(numbers_1_to_5)\n",
    "print(view_numbers_1_to_5)"
   ]
  },
  {
   "cell_type": "code",
   "execution_count": 66,
   "id": "85e630df",
   "metadata": {},
   "outputs": [
    {
     "name": "stdout",
     "output_type": "stream",
     "text": [
      "None\n",
      "[1 1 1 1 1]\n"
     ]
    }
   ],
   "source": [
    "ones = np.array([1,1,1,1,1])\n",
    "\n",
    "copy_ones = ones.copy()\n",
    "view_ones = ones.view()\n",
    "\n",
    "print(copy_ones.base)\n",
    "print(view_ones.base)"
   ]
  },
  {
   "cell_type": "code",
   "execution_count": 61,
   "id": "d5896154",
   "metadata": {
    "scrolled": true
   },
   "outputs": [
    {
     "data": {
      "text/plain": [
       "(2, 4)"
      ]
     },
     "execution_count": 61,
     "metadata": {},
     "output_type": "execute_result"
    }
   ],
   "source": [
    "ascending_descending = np.array([[1,2,3,4], [4,3,2,1]])\n",
    "\n",
    "ascending_descending.shape"
   ]
  },
  {
   "cell_type": "markdown",
   "id": "20707e9a",
   "metadata": {},
   "source": [
    "# Exercícios"
   ]
  }
 ],
 "metadata": {
  "celltoolbar": "Slideshow",
  "kernelspec": {
   "display_name": "Python 3",
   "language": "python",
   "name": "python3"
  },
  "language_info": {
   "codemirror_mode": {
    "name": "ipython",
    "version": 3
   },
   "file_extension": ".py",
   "mimetype": "text/x-python",
   "name": "python",
   "nbconvert_exporter": "python",
   "pygments_lexer": "ipython3",
   "version": "3.8.8"
  }
 },
 "nbformat": 4,
 "nbformat_minor": 5
}
