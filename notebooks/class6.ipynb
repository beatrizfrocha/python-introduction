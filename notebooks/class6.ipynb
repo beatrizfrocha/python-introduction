{
 "cells": [
  {
   "cell_type": "markdown",
   "id": "dc6bbfd3",
   "metadata": {},
   "source": [
    "# Introdução a Python\n",
    "\n",
    "## Aula 6"
   ]
  },
  {
   "cell_type": "markdown",
   "id": "e0100a9b",
   "metadata": {},
   "source": [
    "# Sumário"
   ]
  },
  {
   "cell_type": "markdown",
   "id": "f8c3c530",
   "metadata": {},
   "source": [
    "- Instalação e setup\n",
    "- Módulo NumPy"
   ]
  },
  {
   "cell_type": "markdown",
   "id": "d224b521",
   "metadata": {},
   "source": [
    "# Instalação e setup"
   ]
  },
  {
   "cell_type": "markdown",
   "id": "60fe1e93",
   "metadata": {},
   "source": [
    "[![](https://img.shields.io/badge/Jupyter-ffffff?style=for-the-badge&logo=jupyter)](https://jupyter.org/install)"
   ]
  },
  {
   "cell_type": "markdown",
   "id": "4e5efa66",
   "metadata": {},
   "source": [
    "[![](https://img.shields.io/badge/NumPy-4c78d0?style=for-the-badge&logo=numpy)](https://numpy.org/install/)"
   ]
  },
  {
   "cell_type": "markdown",
   "id": "fc913d52",
   "metadata": {},
   "source": [
    "# Módulo NumPy"
   ]
  },
  {
   "cell_type": "markdown",
   "id": "096c8fec",
   "metadata": {},
   "source": [
    "Para importar o módulo"
   ]
  },
  {
   "cell_type": "code",
   "execution_count": 2,
   "id": "eebc79ad",
   "metadata": {},
   "outputs": [],
   "source": [
    "import numpy as np"
   ]
  },
  {
   "cell_type": "markdown",
   "id": "235a1e69",
   "metadata": {},
   "source": [
    "Para verificar a respetiva versão"
   ]
  },
  {
   "cell_type": "code",
   "execution_count": 3,
   "id": "0ce3e9d1",
   "metadata": {},
   "outputs": [
    {
     "name": "stdout",
     "output_type": "stream",
     "text": [
      "1.20.1\n"
     ]
    }
   ],
   "source": [
    "print(np.__version__)"
   ]
  },
  {
   "cell_type": "markdown",
   "id": "7d739492",
   "metadata": {},
   "source": [
    "## Criar arrays"
   ]
  },
  {
   "cell_type": "code",
   "execution_count": 9,
   "id": "4b8de692",
   "metadata": {},
   "outputs": [
    {
     "data": {
      "text/plain": [
       "numpy.ndarray"
      ]
     },
     "execution_count": 9,
     "metadata": {},
     "output_type": "execute_result"
    }
   ],
   "source": [
    "array = np.array([1,2,3]) #poderia ser passado qualquer outro objeto semelhante a um array\n",
    "\n",
    "type(array)"
   ]
  },
  {
   "cell_type": "code",
   "execution_count": 8,
   "id": "04a3f43b",
   "metadata": {},
   "outputs": [
    {
     "name": "stdout",
     "output_type": "stream",
     "text": [
      "[[1 2 3]\n",
      " [4 5 6]]\n"
     ]
    }
   ],
   "source": [
    "array2d = np.array([[1,2,3], [4,5,6]])\n",
    "\n",
    "print(array2d)"
   ]
  },
  {
   "cell_type": "code",
   "execution_count": 12,
   "id": "894d1445",
   "metadata": {},
   "outputs": [
    {
     "data": {
      "text/plain": [
       "3"
      ]
     },
     "execution_count": 12,
     "metadata": {},
     "output_type": "execute_result"
    }
   ],
   "source": [
    "array3d = np.array([[[1,2,3], [4,5,6], [7,8,9]]])\n",
    "\n",
    "array3d.ndim"
   ]
  }
 ],
 "metadata": {
  "celltoolbar": "Slideshow",
  "kernelspec": {
   "display_name": "Python 3",
   "language": "python",
   "name": "python3"
  },
  "language_info": {
   "codemirror_mode": {
    "name": "ipython",
    "version": 3
   },
   "file_extension": ".py",
   "mimetype": "text/x-python",
   "name": "python",
   "nbconvert_exporter": "python",
   "pygments_lexer": "ipython3",
   "version": "3.8.8"
  }
 },
 "nbformat": 4,
 "nbformat_minor": 5
}
