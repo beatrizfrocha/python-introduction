{
 "cells": [
  {
   "cell_type": "markdown",
   "id": "dc6bbfd3",
   "metadata": {},
   "source": [
    "# Introdução a Python\n",
    "\n",
    "## Aula 6"
   ]
  },
  {
   "cell_type": "markdown",
   "id": "e0100a9b",
   "metadata": {},
   "source": [
    "# Sumário"
   ]
  },
  {
   "cell_type": "markdown",
   "id": "f8c3c530",
   "metadata": {},
   "source": [
    "- Instalação e setup\n",
    "- Módulo NumPy"
   ]
  },
  {
   "cell_type": "markdown",
   "id": "d224b521",
   "metadata": {},
   "source": [
    "# Instalação e setup"
   ]
  },
  {
   "cell_type": "markdown",
   "id": "60fe1e93",
   "metadata": {},
   "source": [
    "[![](https://img.shields.io/badge/Jupyter-ffffff?style=for-the-badge&logo=jupyter)](https://jupyter.org/install)"
   ]
  },
  {
   "cell_type": "markdown",
   "id": "4e5efa66",
   "metadata": {},
   "source": [
    "[![](https://img.shields.io/badge/NumPy-4c78d0?style=for-the-badge&logo=numpy)](https://numpy.org/install/)"
   ]
  },
  {
   "cell_type": "markdown",
   "id": "fc913d52",
   "metadata": {},
   "source": [
    "# Módulo NumPy"
   ]
  },
  {
   "cell_type": "markdown",
   "id": "096c8fec",
   "metadata": {},
   "source": [
    "Para importar o módulo"
   ]
  },
  {
   "cell_type": "code",
   "execution_count": 1,
   "id": "eebc79ad",
   "metadata": {},
   "outputs": [],
   "source": [
    "import numpy as np"
   ]
  },
  {
   "cell_type": "markdown",
   "id": "235a1e69",
   "metadata": {},
   "source": [
    "Para verificar a respetiva versão"
   ]
  },
  {
   "cell_type": "code",
   "execution_count": 3,
   "id": "0ce3e9d1",
   "metadata": {},
   "outputs": [
    {
     "name": "stdout",
     "output_type": "stream",
     "text": [
      "1.20.1\n"
     ]
    }
   ],
   "source": [
    "print(np.__version__)"
   ]
  },
  {
   "cell_type": "markdown",
   "id": "7d739492",
   "metadata": {},
   "source": [
    "## Criação de arrays"
   ]
  },
  {
   "cell_type": "code",
   "execution_count": 19,
   "id": "1732d688",
   "metadata": {},
   "outputs": [
    {
     "name": "stdout",
     "output_type": "stream",
     "text": [
      "1\n"
     ]
    }
   ],
   "source": [
    "array0d = np.array(1) #poderia ser passado qualquer outro objeto semelhante a um array\n",
    "\n",
    "print(array0d)"
   ]
  },
  {
   "cell_type": "code",
   "execution_count": 20,
   "id": "4b8de692",
   "metadata": {},
   "outputs": [
    {
     "name": "stdout",
     "output_type": "stream",
     "text": [
      "[1 2 3]\n"
     ]
    }
   ],
   "source": [
    "array1d = np.array([1,2,3]) \n",
    "\n",
    "print(array1d)"
   ]
  },
  {
   "cell_type": "code",
   "execution_count": 21,
   "id": "04a3f43b",
   "metadata": {},
   "outputs": [
    {
     "name": "stdout",
     "output_type": "stream",
     "text": [
      "[[1 2 3]\n",
      " [4 5 6]]\n"
     ]
    }
   ],
   "source": [
    "array2d = np.array([[1,2,3], [4,5,6]])\n",
    "\n",
    "print(array2d)"
   ]
  },
  {
   "cell_type": "code",
   "execution_count": 22,
   "id": "894d1445",
   "metadata": {},
   "outputs": [
    {
     "name": "stdout",
     "output_type": "stream",
     "text": [
      "[[[1 2 3]\n",
      "  [4 5 6]\n",
      "  [7 8 9]]]\n"
     ]
    }
   ],
   "source": [
    "array3d = np.array([[[1,2,3], [4,5,6], [7,8,9]]])\n",
    "\n",
    "print(array3d)"
   ]
  },
  {
   "cell_type": "code",
   "execution_count": 30,
   "id": "dd27db45",
   "metadata": {},
   "outputs": [
    {
     "name": "stdout",
     "output_type": "stream",
     "text": [
      "5\n"
     ]
    }
   ],
   "source": [
    "array5d = np.array([1,2,3], ndmin=5)\n",
    "\n",
    "print(array5d.ndim)"
   ]
  },
  {
   "cell_type": "markdown",
   "id": "34ab0411",
   "metadata": {},
   "source": [
    "## Indexação de arrays"
   ]
  },
  {
   "cell_type": "code",
   "execution_count": 27,
   "id": "f0f66b84",
   "metadata": {},
   "outputs": [
    {
     "data": {
      "text/plain": [
       "2"
      ]
     },
     "execution_count": 27,
     "metadata": {},
     "output_type": "execute_result"
    }
   ],
   "source": [
    "pairs = np.array([2,4,6])\n",
    "\n",
    "pairs[0]"
   ]
  },
  {
   "cell_type": "code",
   "execution_count": 33,
   "id": "7c405529",
   "metadata": {},
   "outputs": [
    {
     "data": {
      "text/plain": [
       "3"
      ]
     },
     "execution_count": 33,
     "metadata": {},
     "output_type": "execute_result"
    }
   ],
   "source": [
    "even_odd = np.array([[2,4,6],[1,3,5]])\n",
    "\n",
    "even_odd[1, 1]"
   ]
  },
  {
   "cell_type": "code",
   "execution_count": 46,
   "id": "20b16404",
   "metadata": {},
   "outputs": [
    {
     "data": {
      "text/plain": [
       "9"
      ]
     },
     "execution_count": 46,
     "metadata": {},
     "output_type": "execute_result"
    }
   ],
   "source": [
    "powers_of_3 = np.array([1,3,9,27])\n",
    "\n",
    "powers_of_3[-2]"
   ]
  },
  {
   "cell_type": "code",
   "execution_count": 52,
   "id": "656567e3",
   "metadata": {},
   "outputs": [
    {
     "data": {
      "text/plain": [
       "3"
      ]
     },
     "execution_count": 52,
     "metadata": {},
     "output_type": "execute_result"
    }
   ],
   "source": [
    "multiples_of_2_3 = np.array([[2,4,6],[3,6,9]])\n",
    "\n",
    "multiples_of_2_3[1, -3]"
   ]
  },
  {
   "cell_type": "code",
   "execution_count": 40,
   "id": "26b2844a",
   "metadata": {},
   "outputs": [
    {
     "data": {
      "text/plain": [
       "array([3, 5])"
      ]
     },
     "execution_count": 40,
     "metadata": {},
     "output_type": "execute_result"
    }
   ],
   "source": [
    "primes = np.array([2, 3, 5, 7])\n",
    "\n",
    "primes[1:3]"
   ]
  },
  {
   "cell_type": "code",
   "execution_count": 53,
   "id": "de9d692e",
   "metadata": {},
   "outputs": [
    {
     "data": {
      "text/plain": [
       "array([2, 4, 8])"
      ]
     },
     "execution_count": 53,
     "metadata": {},
     "output_type": "execute_result"
    }
   ],
   "source": [
    "divisors_of_6_8 = np.array([[1, 2, 3, 6], [1, 2, 4, 8]]) \n",
    "\n",
    "divisors_of_6_8[1, 1:4]"
   ]
  },
  {
   "cell_type": "code",
   "execution_count": 45,
   "id": "56953b59",
   "metadata": {},
   "outputs": [
    {
     "data": {
      "text/plain": [
       "array([2, 4])"
      ]
     },
     "execution_count": 45,
     "metadata": {},
     "output_type": "execute_result"
    }
   ],
   "source": [
    "powers_of_2 = np.array([1,2,4,8])\n",
    "\n",
    "powers_of_2[-3:-1]"
   ]
  },
  {
   "cell_type": "code",
   "execution_count": 51,
   "id": "f28b5ff6",
   "metadata": {},
   "outputs": [
    {
     "data": {
      "text/plain": [
       "array([-1, -2])"
      ]
     },
     "execution_count": 51,
     "metadata": {},
     "output_type": "execute_result"
    }
   ],
   "source": [
    "negative_positive = np.array([[-1,-2,-3,-4], [1,2,3,4]])\n",
    "\n",
    "negative_positive[0, -4:-2]"
   ]
  },
  {
   "cell_type": "code",
   "execution_count": 43,
   "id": "5dfa0ef4",
   "metadata": {},
   "outputs": [
    {
     "data": {
      "text/plain": [
       "array([10, 15, 20])"
      ]
     },
     "execution_count": 43,
     "metadata": {},
     "output_type": "execute_result"
    }
   ],
   "source": [
    "multiples_of_5 = np.array([5,10,15,20])\n",
    "\n",
    "multiples_of_5[1:]"
   ]
  },
  {
   "cell_type": "code",
   "execution_count": 54,
   "id": "87201cea",
   "metadata": {},
   "outputs": [
    {
     "data": {
      "text/plain": [
       "array([3.3, 4.4])"
      ]
     },
     "execution_count": 54,
     "metadata": {},
     "output_type": "execute_result"
    }
   ],
   "source": [
    "int_float = np.array([[1,2,3,4],[1.1,2.2,3.3,4.4]])\n",
    "\n",
    "int_float[1, 2:]"
   ]
  },
  {
   "cell_type": "code",
   "execution_count": 49,
   "id": "fe6912da",
   "metadata": {},
   "outputs": [
    {
     "data": {
      "text/plain": [
       "array([1, 4])"
      ]
     },
     "execution_count": 49,
     "metadata": {},
     "output_type": "execute_result"
    }
   ],
   "source": [
    "perfect_squares = np.array([1,4,9,16,25])\n",
    "\n",
    "perfect_squares[:2]"
   ]
  },
  {
   "cell_type": "code",
   "execution_count": 58,
   "id": "b8626811",
   "metadata": {},
   "outputs": [
    {
     "data": {
      "text/plain": [
       "array([ 4, 14, 24])"
      ]
     },
     "execution_count": 58,
     "metadata": {},
     "output_type": "execute_result"
    }
   ],
   "source": [
    "end_in_4_8 = np.array([[4,14,24,34],[8,18,28,38]])\n",
    "\n",
    "end_in_4_8[0, :3]"
   ]
  },
  {
   "cell_type": "code",
   "execution_count": 59,
   "id": "a4b4e658",
   "metadata": {},
   "outputs": [
    {
     "data": {
      "text/plain": [
       "array([1.3 , 1.33])"
      ]
     },
     "execution_count": 59,
     "metadata": {},
     "output_type": "execute_result"
    }
   ],
   "source": [
    "decimal_places_1_2 = np.array([[1.1, 1.2, 1.3], [1.11, 1.22, 1.33]])\n",
    "\n",
    "decimal_places_1_2[0:2, 2]"
   ]
  },
  {
   "cell_type": "code",
   "execution_count": 60,
   "id": "ab057048",
   "metadata": {},
   "outputs": [
    {
     "data": {
      "text/plain": [
       "array([[20, 21],\n",
       "       [60, 61]])"
      ]
     },
     "execution_count": 60,
     "metadata": {},
     "output_type": "execute_result"
    }
   ],
   "source": [
    "start_in_2_6 = np.array([[2,20,21,22], [6,60,61,62]])\n",
    "\n",
    "start_in_2_6[0:2, 1:3]"
   ]
  },
  {
   "cell_type": "markdown",
   "id": "80e1ec2c",
   "metadata": {},
   "source": [
    "## Tipos de dados"
   ]
  },
  {
   "cell_type": "markdown",
   "id": "2f706785",
   "metadata": {},
   "source": [
    "`S`: string"
   ]
  },
  {
   "cell_type": "markdown",
   "id": "7a6267bb",
   "metadata": {},
   "source": [
    "`i`: integer"
   ]
  },
  {
   "cell_type": "markdown",
   "id": "979ca113",
   "metadata": {},
   "source": [
    "`f`: float"
   ]
  },
  {
   "cell_type": "markdown",
   "id": "2f04781f",
   "metadata": {},
   "source": [
    "`c`: complex"
   ]
  },
  {
   "cell_type": "markdown",
   "id": "efa94e8d",
   "metadata": {},
   "source": [
    "`b`: boolean"
   ]
  },
  {
   "cell_type": "code",
   "execution_count": 2,
   "id": "096042e1",
   "metadata": {},
   "outputs": [
    {
     "data": {
      "text/plain": [
       "dtype('int64')"
      ]
     },
     "execution_count": 2,
     "metadata": {},
     "output_type": "execute_result"
    }
   ],
   "source": [
    "array_of_ints = np.array([1,2,3,4])\n",
    "\n",
    "array_of_ints.dtype"
   ]
  },
  {
   "cell_type": "code",
   "execution_count": 5,
   "id": "8a67d56e",
   "metadata": {},
   "outputs": [
    {
     "data": {
      "text/plain": [
       "dtype('S1')"
      ]
     },
     "execution_count": 5,
     "metadata": {},
     "output_type": "execute_result"
    }
   ],
   "source": [
    "array_of_strings = np.array([2,4,6,8], dtype = \"S\") #também poderíamos definir o tamanho\n",
    "\n",
    "array_of_strings.dtype"
   ]
  },
  {
   "cell_type": "code",
   "execution_count": 9,
   "id": "3ec59de5",
   "metadata": {},
   "outputs": [
    {
     "data": {
      "text/plain": [
       "dtype('int32')"
      ]
     },
     "execution_count": 9,
     "metadata": {},
     "output_type": "execute_result"
    }
   ],
   "source": [
    "string_to_int = np.array([\"1\", \"2\", \"3\"])\n",
    "\n",
    "new_string_to_int = string_to_int.astype(\"i\") #também poderíamos colocar int\n",
    "\n",
    "new_string_to_int.dtype"
   ]
  },
  {
   "cell_type": "markdown",
   "id": "8e1cd423",
   "metadata": {},
   "source": [
    "## Copy vs View"
   ]
  },
  {
   "cell_type": "code",
   "execution_count": 63,
   "id": "3e5b7e5e",
   "metadata": {},
   "outputs": [
    {
     "name": "stdout",
     "output_type": "stream",
     "text": [
      "[-2  2  2  2]\n",
      "[2 2 2 2]\n"
     ]
    }
   ],
   "source": [
    "repeated = np.array([2,2,2,2])\n",
    "\n",
    "copy_repeated = repeated.copy()\n",
    "\n",
    "repeated[0] = -2\n",
    "\n",
    "print(repeated)\n",
    "print(copy_repeated)"
   ]
  },
  {
   "cell_type": "code",
   "execution_count": 65,
   "id": "17cbcbd3",
   "metadata": {},
   "outputs": [
    {
     "name": "stdout",
     "output_type": "stream",
     "text": [
      "[0 2 3 4 5]\n",
      "[0 2 3 4 5]\n"
     ]
    }
   ],
   "source": [
    "numbers_1_to_5 = np.array([1,2,3,4,5])\n",
    "\n",
    "view_numbers_1_to_5 = numbers_1_to_5.view()\n",
    "\n",
    "numbers_1_to_5[0] = 0\n",
    "\n",
    "print(numbers_1_to_5)\n",
    "print(view_numbers_1_to_5)"
   ]
  },
  {
   "cell_type": "code",
   "execution_count": 66,
   "id": "85e630df",
   "metadata": {},
   "outputs": [
    {
     "name": "stdout",
     "output_type": "stream",
     "text": [
      "None\n",
      "[1 1 1 1 1]\n"
     ]
    }
   ],
   "source": [
    "ones = np.array([1,1,1,1,1])\n",
    "\n",
    "copy_ones = ones.copy()\n",
    "view_ones = ones.view()\n",
    "\n",
    "print(copy_ones.base)\n",
    "print(view_ones.base)"
   ]
  },
  {
   "cell_type": "markdown",
   "id": "d63b38b7",
   "metadata": {},
   "source": [
    "## Forma e remodelação de arrays"
   ]
  },
  {
   "cell_type": "code",
   "execution_count": 61,
   "id": "d5896154",
   "metadata": {
    "scrolled": true
   },
   "outputs": [
    {
     "data": {
      "text/plain": [
       "(2, 4)"
      ]
     },
     "execution_count": 61,
     "metadata": {},
     "output_type": "execute_result"
    }
   ],
   "source": [
    "ascending_descending = np.array([[1,2,3,4], [4,3,2,1]])\n",
    "\n",
    "ascending_descending.shape"
   ]
  },
  {
   "cell_type": "code",
   "execution_count": 11,
   "id": "8599632e",
   "metadata": {},
   "outputs": [
    {
     "data": {
      "text/plain": [
       "array([[ 1,  2,  3],\n",
       "       [ 4,  5,  6],\n",
       "       [ 7,  8,  9],\n",
       "       [10, 11, 12]])"
      ]
     },
     "execution_count": 11,
     "metadata": {},
     "output_type": "execute_result"
    }
   ],
   "source": [
    "huge_array = np.array([1,2,3,4,5,6,7,8,9,10,11,12])\n",
    "\n",
    "new_huge_array = huge_array.reshape(4,3)\n",
    "\n",
    "new_huge_array"
   ]
  },
  {
   "cell_type": "code",
   "execution_count": 13,
   "id": "7b2e901f",
   "metadata": {},
   "outputs": [
    {
     "data": {
      "text/plain": [
       "array([[[11, 12],\n",
       "        [13, 14],\n",
       "        [15, 16]],\n",
       "\n",
       "       [[17, 18],\n",
       "        [19, 20],\n",
       "        [21, 22]]])"
      ]
     },
     "execution_count": 13,
     "metadata": {},
     "output_type": "execute_result"
    }
   ],
   "source": [
    "dim1_to_dim3 = np.array([11,12,13,14,15,16,17,18,19,20,21,22])\n",
    "\n",
    "new_dim1_to_dim3 = dim1_to_dim3.reshape(2,3,2)\n",
    "\n",
    "new_dim1_to_dim3"
   ]
  },
  {
   "cell_type": "code",
   "execution_count": 48,
   "id": "6eac706b",
   "metadata": {},
   "outputs": [
    {
     "data": {
      "text/plain": [
       "array([[[1, 2],\n",
       "        [3, 4]],\n",
       "\n",
       "       [[5, 6],\n",
       "        [7, 8]]])"
      ]
     },
     "execution_count": 48,
     "metadata": {},
     "output_type": "execute_result"
    }
   ],
   "source": [
    "calculate_last_dimension = np.array([1,2,3,4,5,6,7,8])\n",
    "\n",
    "new_calculate_last_dimension = calculate_last_dimension.reshape(2,2,-1)\n",
    "\n",
    "new_calculate_last_dimension"
   ]
  },
  {
   "cell_type": "code",
   "execution_count": 12,
   "id": "7a0f1fdb",
   "metadata": {},
   "outputs": [
    {
     "data": {
      "text/plain": [
       "array([3, 6, 7, 1, 3, 7])"
      ]
     },
     "execution_count": 12,
     "metadata": {},
     "output_type": "execute_result"
    }
   ],
   "source": [
    "separate_arrays = np.array([[3,6,7], [1,3,7]])\n",
    "\n",
    "joint_arrays = separate_arrays.reshape(-1)\n",
    "\n",
    "joint_arrays"
   ]
  },
  {
   "cell_type": "markdown",
   "id": "47aee995",
   "metadata": {},
   "source": [
    "## Iteração de arrays"
   ]
  },
  {
   "cell_type": "code",
   "execution_count": 20,
   "id": "c63ab9b9",
   "metadata": {},
   "outputs": [
    {
     "name": "stdout",
     "output_type": "stream",
     "text": [
      "1\n",
      "2\n",
      "3\n",
      "4\n",
      "5\n",
      "6\n",
      "7\n",
      "8\n"
     ]
    }
   ],
   "source": [
    "high_dimensionality_array = np.array([[[[1,2],[3,4]], [[5,6], [7,8]]]])\n",
    "\n",
    "for x in np.nditer(high_dimensionality_array):\n",
    "    print(x)"
   ]
  },
  {
   "cell_type": "code",
   "execution_count": 23,
   "id": "ff437895",
   "metadata": {},
   "outputs": [
    {
     "name": "stdout",
     "output_type": "stream",
     "text": [
      "(0, 0) a\n",
      "(0, 1) b\n",
      "(0, 2) c\n",
      "(1, 0) d\n",
      "(1, 1) e\n",
      "(1, 2) f\n"
     ]
    }
   ],
   "source": [
    "array_of_chars = np.array([[\"a\", \"b\", \"c\"], [\"d\", \"e\", \"f\"]])\n",
    "\n",
    "for idx, x in np.ndenumerate(array_of_chars):\n",
    "    print(idx, x)"
   ]
  },
  {
   "cell_type": "markdown",
   "id": "603f0350",
   "metadata": {},
   "source": [
    "## Junção de arrays"
   ]
  },
  {
   "cell_type": "code",
   "execution_count": 18,
   "id": "6a722db5",
   "metadata": {},
   "outputs": [
    {
     "data": {
      "text/plain": [
       "array([1, 2, 3, 4, 5, 6])"
      ]
     },
     "execution_count": 18,
     "metadata": {},
     "output_type": "execute_result"
    }
   ],
   "source": [
    "first_array = np.array([1,2,3])\n",
    "\n",
    "second_array = np.array([4,5,6])\n",
    "\n",
    "resulting_array = np.concatenate((first_array, second_array))\n",
    "\n",
    "resulting_array"
   ]
  },
  {
   "cell_type": "code",
   "execution_count": 26,
   "id": "5c969721",
   "metadata": {},
   "outputs": [
    {
     "data": {
      "text/plain": [
       "array([[1, 2, 5, 6],\n",
       "       [3, 4, 7, 8]])"
      ]
     },
     "execution_count": 26,
     "metadata": {},
     "output_type": "execute_result"
    }
   ],
   "source": [
    "array1 = np.array([[1,2], [3,4]])\n",
    "\n",
    "array2 = np.array([[5,6], [7,8]])\n",
    "\n",
    "final_array = np.concatenate((array1, array2), axis = 1) #axis toma o valor 0 por omissão\n",
    "\n",
    "final_array"
   ]
  },
  {
   "cell_type": "code",
   "execution_count": 38,
   "id": "fe2e7c58",
   "metadata": {},
   "outputs": [
    {
     "data": {
      "text/plain": [
       "array([[ 6,  7,  8],\n",
       "       [ 9, 10, 11]])"
      ]
     },
     "execution_count": 38,
     "metadata": {},
     "output_type": "execute_result"
    }
   ],
   "source": [
    "top = np.array([6,7,8])\n",
    "bottom = np.array([9,10,11])\n",
    "\n",
    "top_and_bottom = np.stack((top, bottom))\n",
    "\n",
    "top_and_bottom"
   ]
  },
  {
   "cell_type": "code",
   "execution_count": 39,
   "id": "f297aa4b",
   "metadata": {},
   "outputs": [
    {
     "data": {
      "text/plain": [
       "array([[ 6,  7,  8],\n",
       "       [ 9, 10, 11]])"
      ]
     },
     "execution_count": 39,
     "metadata": {},
     "output_type": "execute_result"
    }
   ],
   "source": [
    "top = np.array([6,7,8])\n",
    "bottom = np.array([9,10,11])\n",
    "\n",
    "top_and_bottom = np.vstack((top, bottom))\n",
    "\n",
    "top_and_bottom"
   ]
  },
  {
   "cell_type": "code",
   "execution_count": 40,
   "id": "62e3b65c",
   "metadata": {},
   "outputs": [
    {
     "data": {
      "text/plain": [
       "array([[10, 13],\n",
       "       [11, 14],\n",
       "       [12, 15]])"
      ]
     },
     "execution_count": 40,
     "metadata": {},
     "output_type": "execute_result"
    }
   ],
   "source": [
    "first = np.array([10,11,12])\n",
    "\n",
    "second = np.array([13,14,15])\n",
    "\n",
    "first_and_second = np.stack((first, second), axis=1)\n",
    "\n",
    "first_and_second"
   ]
  },
  {
   "cell_type": "code",
   "execution_count": 42,
   "id": "d529579a",
   "metadata": {},
   "outputs": [
    {
     "data": {
      "text/plain": [
       "array([[[10, 13],\n",
       "        [11, 14],\n",
       "        [12, 15]]])"
      ]
     },
     "execution_count": 42,
     "metadata": {},
     "output_type": "execute_result"
    }
   ],
   "source": [
    "first = np.array([10,11,12])\n",
    "\n",
    "second = np.array([13,14,15])\n",
    "\n",
    "first_and_second = np.dstack((first, second))\n",
    "\n",
    "first_and_second"
   ]
  },
  {
   "cell_type": "code",
   "execution_count": 43,
   "id": "445edb22",
   "metadata": {},
   "outputs": [
    {
     "data": {
      "text/plain": [
       "array([10,  9,  8,  7,  6,  5])"
      ]
     },
     "execution_count": 43,
     "metadata": {},
     "output_type": "execute_result"
    }
   ],
   "source": [
    "begin = np.array([10,9,8])\n",
    "\n",
    "end = np.array([7,6,5])\n",
    "\n",
    "begin_and_end = np.hstack((begin, end))\n",
    "\n",
    "begin_and_end"
   ]
  },
  {
   "cell_type": "markdown",
   "id": "35d35714",
   "metadata": {},
   "source": [
    "## Separação de arrays"
   ]
  },
  {
   "cell_type": "code",
   "execution_count": 44,
   "id": "78a5b8da",
   "metadata": {},
   "outputs": [
    {
     "data": {
      "text/plain": [
       "[array([1, 2]), array([3, 4]), array([5, 6])]"
      ]
     },
     "execution_count": 44,
     "metadata": {},
     "output_type": "execute_result"
    }
   ],
   "source": [
    "array_with_6_elems = np.array([1,2,3,4,5,6])\n",
    "\n",
    "new_array_with_6_elems = np.array_split(array_with_6_elems,3)\n",
    "\n",
    "new_array_with_6_elems"
   ]
  },
  {
   "cell_type": "code",
   "execution_count": 50,
   "id": "139305e9",
   "metadata": {},
   "outputs": [
    {
     "data": {
      "text/plain": [
       "[array([1, 2]), array([3]), array([4]), array([5])]"
      ]
     },
     "execution_count": 50,
     "metadata": {},
     "output_type": "execute_result"
    }
   ],
   "source": [
    "array_with_5_elems = np.array([1,2,3,4,5])\n",
    "\n",
    "new_array_with_5_elems = np.array_split(array_with_5_elems, 4)\n",
    "\n",
    "new_array_with_5_elems"
   ]
  },
  {
   "cell_type": "code",
   "execution_count": 46,
   "id": "cd3a6ed2",
   "metadata": {},
   "outputs": [
    {
     "data": {
      "text/plain": [
       "[array([[1, 2],\n",
       "        [3, 4]]),\n",
       " array([[5, 6],\n",
       "        [7, 8]]),\n",
       " array([[ 9, 10],\n",
       "        [11, 12]])]"
      ]
     },
     "execution_count": 46,
     "metadata": {},
     "output_type": "execute_result"
    }
   ],
   "source": [
    "array_with_12_elems = np.array([[1,2], [3,4], [5,6], [7,8], [9,10], [11,12]])\n",
    "\n",
    "new_array_with_12_elems = np.array_split(array_with_12_elems,3)\n",
    "\n",
    "new_array_with_12_elems"
   ]
  },
  {
   "cell_type": "code",
   "execution_count": 21,
   "id": "a86e5bf8",
   "metadata": {},
   "outputs": [
    {
     "data": {
      "text/plain": [
       "[array([[1, 2],\n",
       "        [3, 4]]),\n",
       " array([[5, 6]]),\n",
       " array([[7, 8]]),\n",
       " array([[ 9, 10]])]"
      ]
     },
     "execution_count": 21,
     "metadata": {},
     "output_type": "execute_result"
    }
   ],
   "source": [
    "array_with_10_elems = np.array([[1,2], [3,4], [5,6], [7,8], [9,10]])\n",
    "\n",
    "new_array_with_10_elems = np.array_split(array_with_10_elems,4)\n",
    "\n",
    "new_array_with_10_elems"
   ]
  },
  {
   "cell_type": "markdown",
   "id": "077d8e42",
   "metadata": {},
   "source": [
    "## Pesquisa em arrays"
   ]
  },
  {
   "cell_type": "code",
   "execution_count": 29,
   "id": "b1417fc5",
   "metadata": {},
   "outputs": [
    {
     "data": {
      "text/plain": [
       "(array([2, 3, 6]),)"
      ]
     },
     "execution_count": 29,
     "metadata": {},
     "output_type": "execute_result"
    }
   ],
   "source": [
    "array_with_repeated_elems = np.array([1,2,3,3,4,5,3])\n",
    "\n",
    "positions = np.where(array_with_repeated_elems == 3) #para além da condição pode receber mais dois \n",
    "#argumentos x (que vai ser executado caso a condição seja verdadeira) e y (que vai ser executado \n",
    "#caso a condição seja falsa)\n",
    "\n",
    "positions"
   ]
  },
  {
   "cell_type": "code",
   "execution_count": 32,
   "id": "c6d80d03",
   "metadata": {},
   "outputs": [
    {
     "data": {
      "text/plain": [
       "1"
      ]
     },
     "execution_count": 32,
     "metadata": {},
     "output_type": "execute_result"
    }
   ],
   "source": [
    "initial_array = np.array([1,2,3,4])\n",
    "\n",
    "position = np.searchsorted(initial_array, 2) #é suposto este método ser usado em arrays ordenados\n",
    "\n",
    "position"
   ]
  },
  {
   "cell_type": "code",
   "execution_count": 33,
   "id": "e27b2a3c",
   "metadata": {},
   "outputs": [
    {
     "data": {
      "text/plain": [
       "2"
      ]
     },
     "execution_count": 33,
     "metadata": {},
     "output_type": "execute_result"
    }
   ],
   "source": [
    "initial_array = np.array([1,2,3,4])\n",
    "\n",
    "index = np.searchsorted(initial_array, 2, side = \"right\")\n",
    "\n",
    "index"
   ]
  },
  {
   "cell_type": "code",
   "execution_count": 34,
   "id": "06944e62",
   "metadata": {},
   "outputs": [
    {
     "data": {
      "text/plain": [
       "array([0, 1, 2])"
      ]
     },
     "execution_count": 34,
     "metadata": {},
     "output_type": "execute_result"
    }
   ],
   "source": [
    "starting_array = np.array([2,4,6,8])\n",
    "\n",
    "indexes = np.searchsorted(starting_array, [1,3,5])\n",
    "\n",
    "indexes"
   ]
  },
  {
   "cell_type": "markdown",
   "id": "65dcb518",
   "metadata": {},
   "source": [
    "## Ordenação de arrays"
   ]
  },
  {
   "cell_type": "code",
   "execution_count": 35,
   "id": "e2d8e8b2",
   "metadata": {},
   "outputs": [
    {
     "data": {
      "text/plain": [
       "array([1, 2, 3, 6, 9])"
      ]
     },
     "execution_count": 35,
     "metadata": {},
     "output_type": "execute_result"
    }
   ],
   "source": [
    "unordered_array = np.array([9,1,6,3,2])\n",
    "\n",
    "np.sort(unordered_array) #também funciona para outros tipos de dados"
   ]
  },
  {
   "cell_type": "code",
   "execution_count": 27,
   "id": "d0f08468",
   "metadata": {},
   "outputs": [
    {
     "data": {
      "text/plain": [
       "array([[1, 5, 6],\n",
       "       [1, 5, 9]])"
      ]
     },
     "execution_count": 27,
     "metadata": {},
     "output_type": "execute_result"
    }
   ],
   "source": [
    "unordered_array_2d = np.array([[6,1,5], [5,9,1]])\n",
    "\n",
    "np.sort(unordered_array_2d)"
   ]
  },
  {
   "cell_type": "markdown",
   "id": "2f9270ea",
   "metadata": {},
   "source": [
    "## Filtragem de arrays"
   ]
  },
  {
   "cell_type": "code",
   "execution_count": 37,
   "id": "d7ef6d40",
   "metadata": {},
   "outputs": [
    {
     "data": {
      "text/plain": [
       "array([10, 12, 13, 15])"
      ]
     },
     "execution_count": 37,
     "metadata": {},
     "output_type": "execute_result"
    }
   ],
   "source": [
    "array_from_10_to_15 = np.array([10,11,12,13,14,15])\n",
    "\n",
    "booleans = [True, False, True, True, False, True]\n",
    "\n",
    "filtered_array = array_from_10_to_15[booleans]\n",
    "\n",
    "filtered_array"
   ]
  },
  {
   "cell_type": "code",
   "execution_count": null,
   "id": "edc1b971",
   "metadata": {},
   "outputs": [],
   "source": [
    "# falta terminar"
   ]
  },
  {
   "cell_type": "code",
   "execution_count": null,
   "id": "a3e9b860",
   "metadata": {},
   "outputs": [],
   "source": [
    "# numpy.mat"
   ]
  },
  {
   "cell_type": "code",
   "execution_count": 7,
   "id": "e3199f3f",
   "metadata": {},
   "outputs": [
    {
     "data": {
      "text/plain": [
       "array([ 6,  8, 10, 12])"
      ]
     },
     "execution_count": 7,
     "metadata": {},
     "output_type": "execute_result"
    }
   ],
   "source": [
    "first_addend = np.array([1,2,3,4])\n",
    "\n",
    "second_addend = np.array([5,6,7,8])\n",
    "\n",
    "result_addition = np.add(first_addend, second_addend)\n",
    "\n",
    "result_addition"
   ]
  },
  {
   "cell_type": "code",
   "execution_count": 8,
   "id": "368ae77b",
   "metadata": {},
   "outputs": [
    {
     "data": {
      "text/plain": [
       "array([5, 7, 9])"
      ]
     },
     "execution_count": 8,
     "metadata": {},
     "output_type": "execute_result"
    }
   ],
   "source": [
    "minuend = np.array([10,11,12])\n",
    "\n",
    "subtrahend = np.array([5,4,3])\n",
    "\n",
    "result_subtraction = np.subtract(minuend, subtrahend)\n",
    "\n",
    "result_subtraction"
   ]
  },
  {
   "cell_type": "code",
   "execution_count": 9,
   "id": "563f8353",
   "metadata": {},
   "outputs": [
    {
     "data": {
      "text/plain": [
       "array([   5,  100, 1500])"
      ]
     },
     "execution_count": 9,
     "metadata": {},
     "output_type": "execute_result"
    }
   ],
   "source": [
    "multiplicand = np.array([5,10,15])\n",
    "\n",
    "multiplier = np.array([1,10,100])\n",
    "\n",
    "result_multiplication = np.multiply(multiplicand, multiplier)\n",
    "\n",
    "result_multiplication"
   ]
  },
  {
   "cell_type": "code",
   "execution_count": 11,
   "id": "608a7fe8",
   "metadata": {},
   "outputs": [
    {
     "data": {
      "text/plain": [
       "array([10.,  2., 25.])"
      ]
     },
     "execution_count": 11,
     "metadata": {},
     "output_type": "execute_result"
    }
   ],
   "source": [
    "dividend = np.array([30,40,50])\n",
    "\n",
    "divisor = np.array([3,20,2])\n",
    "\n",
    "result_division = np.divide(dividend, divisor)\n",
    "\n",
    "result_division"
   ]
  },
  {
   "cell_type": "code",
   "execution_count": 12,
   "id": "7f178f1c",
   "metadata": {},
   "outputs": [
    {
     "data": {
      "text/plain": [
       "array([ 1,  3, 16])"
      ]
     },
     "execution_count": 12,
     "metadata": {},
     "output_type": "execute_result"
    }
   ],
   "source": [
    "base = np.array([2,3,4])\n",
    "\n",
    "exponent = np.array([0,1,2])\n",
    "\n",
    "result_power = np.power(base, exponent)\n",
    "\n",
    "result_power"
   ]
  },
  {
   "cell_type": "code",
   "execution_count": 13,
   "id": "c8f4b78d",
   "metadata": {},
   "outputs": [
    {
     "data": {
      "text/plain": [
       "array([2, 6, 0])"
      ]
     },
     "execution_count": 13,
     "metadata": {},
     "output_type": "execute_result"
    }
   ],
   "source": [
    "dividend = np.array([10, 20, 30])\n",
    "\n",
    "divisor = np.array([4,7,3])\n",
    "\n",
    "remainder = np.remainder(dividend, divisor) #também poderíamos usar a função mod()\n",
    "\n",
    "remainder"
   ]
  },
  {
   "cell_type": "code",
   "execution_count": 15,
   "id": "cc2ed932",
   "metadata": {},
   "outputs": [
    {
     "data": {
      "text/plain": [
       "(array([ 2,  2, 10]), array([2, 6, 0]))"
      ]
     },
     "execution_count": 15,
     "metadata": {},
     "output_type": "execute_result"
    }
   ],
   "source": [
    "dividend = np.array([10, 20, 30])\n",
    "\n",
    "divisor = np.array([4,7,3])\n",
    "\n",
    "result_divmod = np.divmod(dividend, divisor)\n",
    "\n",
    "result_divmod"
   ]
  },
  {
   "cell_type": "code",
   "execution_count": 16,
   "id": "3b8873e8",
   "metadata": {},
   "outputs": [
    {
     "data": {
      "text/plain": [
       "array([4, 5, 8])"
      ]
     },
     "execution_count": 16,
     "metadata": {},
     "output_type": "execute_result"
    }
   ],
   "source": [
    "negative_values = np.array([-4,-5,-8])\n",
    "\n",
    "absolute_values = np.absolute(negative_values) #também poderíamos usar a função abs()\n",
    "\n",
    "absolute_values"
   ]
  },
  {
   "cell_type": "markdown",
   "id": "123c8d31",
   "metadata": {},
   "source": [
    "## Outras funções relevantes"
   ]
  },
  {
   "cell_type": "markdown",
   "id": "e7c62bb8",
   "metadata": {},
   "source": [
    "- arange()"
   ]
  },
  {
   "cell_type": "code",
   "execution_count": 36,
   "id": "a8e170bf",
   "metadata": {},
   "outputs": [
    {
     "data": {
      "text/plain": [
       "array([5, 6, 7, 8, 9])"
      ]
     },
     "execution_count": 36,
     "metadata": {},
     "output_type": "execute_result"
    }
   ],
   "source": [
    "array_with_arange = np.arange(5, 10) #por omissão o primeiro argumento é 0\n",
    "\n",
    "array_with_arange"
   ]
  },
  {
   "cell_type": "markdown",
   "id": "077aa1ed",
   "metadata": {},
   "source": [
    "- isnan()"
   ]
  },
  {
   "cell_type": "code",
   "execution_count": 38,
   "id": "939078dd",
   "metadata": {},
   "outputs": [
    {
     "data": {
      "text/plain": [
       "array([False, False,  True, False])"
      ]
     },
     "execution_count": 38,
     "metadata": {},
     "output_type": "execute_result"
    }
   ],
   "source": [
    "array_with_nan_values = np.array([1, 2, np.nan, 4])\n",
    "\n",
    "np.isnan(array_with_nan_values)"
   ]
  },
  {
   "cell_type": "markdown",
   "id": "20707e9a",
   "metadata": {},
   "source": [
    "# Exercícios"
   ]
  },
  {
   "cell_type": "markdown",
   "id": "36f73de2",
   "metadata": {},
   "source": [
    "1) Escreva uma função que substitui todos os valores de um array (passado como argumento) que sejam inferiores a um número (também passado como argumento) por -100."
   ]
  },
  {
   "cell_type": "markdown",
   "id": "b9f6f23c",
   "metadata": {},
   "source": [
    "2) Escreva uma função que recebe um array com valores em falta como argumento e retorna as posições dos mesmos."
   ]
  },
  {
   "cell_type": "markdown",
   "id": "caf1cb8f",
   "metadata": {},
   "source": [
    "3) Escreva uma função que devolve uma matriz 3x3 com valores desde 2 até 10."
   ]
  },
  {
   "cell_type": "markdown",
   "id": "385dea6e",
   "metadata": {},
   "source": [
    "4) Escreva uma função que recebe um array como argumento cujos valores correspondem a graus centígrados e retorna a sua conversão para graus Fahrenheit."
   ]
  },
  {
   "cell_type": "code",
   "execution_count": null,
   "id": "cb973628",
   "metadata": {},
   "outputs": [],
   "source": [
    "#type"
   ]
  },
  {
   "cell_type": "code",
   "execution_count": null,
   "id": "f986286e",
   "metadata": {},
   "outputs": [],
   "source": [
    "#forma e remodelaçao - rot90..."
   ]
  },
  {
   "cell_type": "code",
   "execution_count": null,
   "id": "60f2acf9",
   "metadata": {},
   "outputs": [],
   "source": [
    "#separacao - axis = 1..."
   ]
  }
 ],
 "metadata": {
  "celltoolbar": "Slideshow",
  "kernelspec": {
   "display_name": "Python 3",
   "language": "python",
   "name": "python3"
  },
  "language_info": {
   "codemirror_mode": {
    "name": "ipython",
    "version": 3
   },
   "file_extension": ".py",
   "mimetype": "text/x-python",
   "name": "python",
   "nbconvert_exporter": "python",
   "pygments_lexer": "ipython3",
   "version": "3.8.8"
  }
 },
 "nbformat": 4,
 "nbformat_minor": 5
}
