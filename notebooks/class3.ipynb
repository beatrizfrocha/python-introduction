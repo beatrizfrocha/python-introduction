{
 "cells": [
  {
   "cell_type": "markdown",
   "id": "60c20acb",
   "metadata": {},
   "source": [
    "# Introdução a Python"
   ]
  },
  {
   "cell_type": "markdown",
   "id": "f9fadaf5",
   "metadata": {},
   "source": [
    "## Aula 3"
   ]
  },
  {
   "cell_type": "markdown",
   "id": "46a42f00",
   "metadata": {},
   "source": [
    "# Sumário"
   ]
  },
  {
   "cell_type": "markdown",
   "id": "11220a4f",
   "metadata": {},
   "source": [
    "- Coleções de dados\n",
    "- Exercícios"
   ]
  },
  {
   "cell_type": "markdown",
   "id": "d94f0e9c",
   "metadata": {},
   "source": [
    "# Coleções de dados"
   ]
  },
  {
   "cell_type": "markdown",
   "id": "ff7127bf",
   "metadata": {},
   "source": [
    "## List"
   ]
  },
  {
   "cell_type": "markdown",
   "id": "647356a6",
   "metadata": {},
   "source": [
    "`[]`: Utilizam-se para criar uma lista"
   ]
  },
  {
   "cell_type": "code",
   "execution_count": 2,
   "id": "23e4e451",
   "metadata": {},
   "outputs": [
    {
     "data": {
      "text/plain": [
       "list"
      ]
     },
     "execution_count": 2,
     "metadata": {},
     "output_type": "execute_result"
    }
   ],
   "source": [
    "fruits = [\"banana\", \"apple\", \"orange\"]\n",
    "\n",
    "type(fruits)"
   ]
  },
  {
   "cell_type": "markdown",
   "id": "ce9595b7",
   "metadata": {},
   "source": [
    "`list()`: Construtor também utilizado para criar uma lista"
   ]
  },
  {
   "cell_type": "code",
   "execution_count": 5,
   "id": "f0e41918",
   "metadata": {},
   "outputs": [
    {
     "data": {
      "text/plain": [
       "list"
      ]
     },
     "execution_count": 5,
     "metadata": {},
     "output_type": "execute_result"
    }
   ],
   "source": [
    "brand = \"volvo\"\n",
    "\n",
    "car = list(brand)\n",
    "\n",
    "type(car)"
   ]
  },
  {
   "cell_type": "markdown",
   "id": "7af88bf1",
   "metadata": {},
   "source": [
    "Propriedades de uma lista:"
   ]
  },
  {
   "cell_type": "markdown",
   "id": "da21cacf",
   "metadata": {},
   "source": [
    "- Permite duplicados"
   ]
  },
  {
   "cell_type": "code",
   "execution_count": 8,
   "id": "fb3d4bd6",
   "metadata": {},
   "outputs": [
    {
     "data": {
      "text/plain": [
       "[1, 1, 1]"
      ]
     },
     "execution_count": 8,
     "metadata": {},
     "output_type": "execute_result"
    }
   ],
   "source": [
    "my_list = [1, 1, 1]\n",
    "\n",
    "my_list"
   ]
  },
  {
   "cell_type": "markdown",
   "id": "f07056bf",
   "metadata": {},
   "source": [
    "- Permite vários tipos diferentes"
   ]
  },
  {
   "cell_type": "code",
   "execution_count": 7,
   "id": "c14f151b",
   "metadata": {},
   "outputs": [
    {
     "data": {
      "text/plain": [
       "[1, 'sand', 1.75, True]"
      ]
     },
     "execution_count": 7,
     "metadata": {},
     "output_type": "execute_result"
    }
   ],
   "source": [
    "diff_types = [1, \"sand\", 1.75, True]\n",
    "\n",
    "diff_types"
   ]
  },
  {
   "cell_type": "markdown",
   "id": "b9bec7ce",
   "metadata": {},
   "source": [
    "- Ordenada"
   ]
  },
  {
   "cell_type": "markdown",
   "id": "5e40cf7c",
   "metadata": {},
   "source": [
    "Os seus elementos têm uma ordem definida e essa ordem não se irá alterar. Se algum novo elemento for adicionado, será adicionado no final da lista."
   ]
  },
  {
   "cell_type": "markdown",
   "id": "10d28be7",
   "metadata": {},
   "source": [
    "- Mutável"
   ]
  },
  {
   "cell_type": "markdown",
   "id": "56278d37",
   "metadata": {},
   "source": [
    "É possível alterar, adicionar e remover itens numa lista, após esta ter sido criada."
   ]
  },
  {
   "cell_type": "markdown",
   "id": "eeb8fddc",
   "metadata": {},
   "source": [
    "### Aceder a elementos"
   ]
  },
  {
   "cell_type": "code",
   "execution_count": null,
   "id": "9e429495",
   "metadata": {},
   "outputs": [],
   "source": [
    "#começa em 0, ..."
   ]
  },
  {
   "cell_type": "markdown",
   "id": "09e55e12",
   "metadata": {},
   "source": [
    "## Tuple"
   ]
  },
  {
   "cell_type": "markdown",
   "id": "48ad7d26",
   "metadata": {},
   "source": [
    "## Set"
   ]
  },
  {
   "cell_type": "markdown",
   "id": "1d14d146",
   "metadata": {},
   "source": [
    "## Dictionary"
   ]
  },
  {
   "cell_type": "markdown",
   "id": "10f1b4cb",
   "metadata": {},
   "source": [
    "## Array"
   ]
  },
  {
   "cell_type": "markdown",
   "id": "ad34a546",
   "metadata": {},
   "source": [
    "# Exercícios"
   ]
  }
 ],
 "metadata": {
  "celltoolbar": "Slideshow",
  "kernelspec": {
   "display_name": "Python 3",
   "language": "python",
   "name": "python3"
  },
  "language_info": {
   "codemirror_mode": {
    "name": "ipython",
    "version": 3
   },
   "file_extension": ".py",
   "mimetype": "text/x-python",
   "name": "python",
   "nbconvert_exporter": "python",
   "pygments_lexer": "ipython3",
   "version": "3.8.8"
  }
 },
 "nbformat": 4,
 "nbformat_minor": 5
}
