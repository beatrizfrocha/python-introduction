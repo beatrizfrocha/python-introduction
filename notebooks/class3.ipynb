{
 "cells": [
  {
   "cell_type": "markdown",
   "id": "0f0828c8",
   "metadata": {},
   "source": [
    "# Introdução a Python"
   ]
  },
  {
   "cell_type": "markdown",
   "id": "5b0be525",
   "metadata": {},
   "source": [
    "## Aula 3"
   ]
  },
  {
   "cell_type": "markdown",
   "id": "61d0e9e2",
   "metadata": {},
   "source": [
    "# Sumário"
   ]
  },
  {
   "cell_type": "markdown",
   "id": "d28ac010",
   "metadata": {},
   "source": [
    "- Coleções de dados\n",
    "- Exercícios"
   ]
  },
  {
   "cell_type": "markdown",
   "id": "cdf65bb9",
   "metadata": {},
   "source": [
    "# Coleções de dados"
   ]
  },
  {
   "cell_type": "markdown",
   "id": "7fcde480",
   "metadata": {},
   "source": [
    "## List"
   ]
  },
  {
   "cell_type": "markdown",
   "id": "00e0cbe3",
   "metadata": {},
   "source": [
    "`[]`: Utilizam-se para criar uma lista"
   ]
  },
  {
   "cell_type": "code",
   "execution_count": 58,
   "id": "7e78c743",
   "metadata": {},
   "outputs": [
    {
     "data": {
      "text/plain": [
       "list"
      ]
     },
     "execution_count": 58,
     "metadata": {},
     "output_type": "execute_result"
    }
   ],
   "source": [
    "my_list = [1, 2, 3]\n",
    "\n",
    "type(my_list)"
   ]
  },
  {
   "cell_type": "markdown",
   "id": "a64f5877",
   "metadata": {},
   "source": [
    "`list()`: Construtor também utilizado para criar uma lista"
   ]
  },
  {
   "cell_type": "code",
   "execution_count": 60,
   "id": "8d336ea9",
   "metadata": {},
   "outputs": [
    {
     "data": {
      "text/plain": [
       "list"
      ]
     },
     "execution_count": 60,
     "metadata": {},
     "output_type": "execute_result"
    }
   ],
   "source": [
    "this_list = list(\"volvo\")\n",
    "\n",
    "type(this_list)"
   ]
  },
  {
   "cell_type": "markdown",
   "id": "1e162a9a",
   "metadata": {},
   "source": [
    "Propriedades de uma lista:"
   ]
  },
  {
   "cell_type": "markdown",
   "id": "f7192095",
   "metadata": {},
   "source": [
    "- Permite duplicados"
   ]
  },
  {
   "cell_type": "code",
   "execution_count": 63,
   "id": "5e5f76a0",
   "metadata": {},
   "outputs": [
    {
     "data": {
      "text/plain": [
       "[2, 2]"
      ]
     },
     "execution_count": 63,
     "metadata": {},
     "output_type": "execute_result"
    }
   ],
   "source": [
    "duplicates_list = [2, 2]\n",
    "\n",
    "duplicates_list"
   ]
  },
  {
   "cell_type": "markdown",
   "id": "a6fdc345",
   "metadata": {},
   "source": [
    "- Permite vários tipos diferentes"
   ]
  },
  {
   "cell_type": "code",
   "execution_count": 64,
   "id": "480607b1",
   "metadata": {},
   "outputs": [
    {
     "data": {
      "text/plain": [
       "[1, 'sand', 1.75, True]"
      ]
     },
     "execution_count": 64,
     "metadata": {},
     "output_type": "execute_result"
    }
   ],
   "source": [
    "diff_types_list = [1, \"sand\", 1.75, True]\n",
    "\n",
    "diff_types_list"
   ]
  },
  {
   "cell_type": "markdown",
   "id": "75c864c1",
   "metadata": {},
   "source": [
    "- Ordenada"
   ]
  },
  {
   "cell_type": "markdown",
   "id": "afc29719",
   "metadata": {},
   "source": [
    "Os seus elementos têm uma ordem definida e essa ordem não se irá alterar. Consequentemente, podem ser acedidos através de um índice."
   ]
  },
  {
   "cell_type": "markdown",
   "id": "0788ea0f",
   "metadata": {},
   "source": [
    "- Mutável"
   ]
  },
  {
   "cell_type": "markdown",
   "id": "4edb9f48",
   "metadata": {},
   "source": [
    "É possível alterar, adicionar e remover itens numa lista, após esta ter sido criada."
   ]
  },
  {
   "cell_type": "markdown",
   "id": "e2736081",
   "metadata": {},
   "source": [
    "### Aceder a elementos"
   ]
  },
  {
   "cell_type": "code",
   "execution_count": 10,
   "id": "100d0706",
   "metadata": {},
   "outputs": [
    {
     "data": {
      "text/plain": [
       "'yellow'"
      ]
     },
     "execution_count": 10,
     "metadata": {},
     "output_type": "execute_result"
    }
   ],
   "source": [
    "colors = [\"blue\", \"red\", \"yellow\"] #índices começam em 0\n",
    "\n",
    "colors[2]"
   ]
  },
  {
   "cell_type": "code",
   "execution_count": 11,
   "id": "8046ec7d",
   "metadata": {},
   "outputs": [
    {
     "data": {
      "text/plain": [
       "'plane'"
      ]
     },
     "execution_count": 11,
     "metadata": {},
     "output_type": "execute_result"
    }
   ],
   "source": [
    "transports = [\"car\", \"plane\", \"bike\"] #neste caso, o índice -1 refere-se ao último elemento\n",
    "\n",
    "transports[-2]"
   ]
  },
  {
   "cell_type": "code",
   "execution_count": 14,
   "id": "42e983a7",
   "metadata": {},
   "outputs": [
    {
     "data": {
      "text/plain": [
       "['brocolli', 'mushroom', 'spinach']"
      ]
     },
     "execution_count": 14,
     "metadata": {},
     "output_type": "execute_result"
    }
   ],
   "source": [
    "vegetables = [\"carrot\", \"brocolli\", \"mushroom\", \"spinach\"]\n",
    "\n",
    "vegetables[1:]"
   ]
  },
  {
   "cell_type": "code",
   "execution_count": 15,
   "id": "7ddea647",
   "metadata": {},
   "outputs": [
    {
     "data": {
      "text/plain": [
       "['cat', 'dog']"
      ]
     },
     "execution_count": 15,
     "metadata": {},
     "output_type": "execute_result"
    }
   ],
   "source": [
    "animals = [\"cat\", \"dog\", \"bird\", \"elephant\", \"zebra\"]\n",
    "\n",
    "animals[:2]"
   ]
  },
  {
   "cell_type": "code",
   "execution_count": 12,
   "id": "fc74fd00",
   "metadata": {},
   "outputs": [
    {
     "data": {
      "text/plain": [
       "['burguer']"
      ]
     },
     "execution_count": 12,
     "metadata": {},
     "output_type": "execute_result"
    }
   ],
   "source": [
    "food = [\"spaghetti\", \"burguer\", \"pizza\"]\n",
    "\n",
    "food[1:2]"
   ]
  },
  {
   "cell_type": "code",
   "execution_count": 13,
   "id": "a271da72",
   "metadata": {},
   "outputs": [
    {
     "data": {
      "text/plain": [
       "['C#', 'C++', 'Java']"
      ]
     },
     "execution_count": 13,
     "metadata": {},
     "output_type": "execute_result"
    }
   ],
   "source": [
    "prog_languages = [\"C\", \"C#\", \"C++\", \"Java\", \"R\"]\n",
    "\n",
    "prog_languages[-4:-1]"
   ]
  },
  {
   "cell_type": "markdown",
   "id": "1a257cd0",
   "metadata": {},
   "source": [
    "### Alterar elementos"
   ]
  },
  {
   "cell_type": "code",
   "execution_count": 16,
   "id": "07514613",
   "metadata": {},
   "outputs": [
    {
     "data": {
      "text/plain": [
       "['a', 'e', 'I', 'o', 'u']"
      ]
     },
     "execution_count": 16,
     "metadata": {},
     "output_type": "execute_result"
    }
   ],
   "source": [
    "vowels = [\"a\", \"e\", \"i\", \"o\", \"u\"]\n",
    "\n",
    "vowels[2] = \"I\"\n",
    "\n",
    "vowels"
   ]
  },
  {
   "cell_type": "code",
   "execution_count": 30,
   "id": "514759d2",
   "metadata": {},
   "outputs": [
    {
     "data": {
      "text/plain": [
       "['maths', 'english', 'german', 'chemistry']"
      ]
     },
     "execution_count": 30,
     "metadata": {},
     "output_type": "execute_result"
    }
   ],
   "source": [
    "subjects = [\"maths\", \"physics\", \"geometry\", \"chemistry\"]\n",
    "\n",
    "subjects[1:3] = [\"english\", \"german\"]\n",
    "\n",
    "subjects"
   ]
  },
  {
   "cell_type": "code",
   "execution_count": 19,
   "id": "4d4bba47",
   "metadata": {},
   "outputs": [
    {
     "data": {
      "text/plain": [
       "['portugal', 'belgium', 'switzerland', 'mozambique', 'brazil']"
      ]
     },
     "execution_count": 19,
     "metadata": {},
     "output_type": "execute_result"
    }
   ],
   "source": [
    "countries = [\"portugal\", \"denmark\", \"mozambique\", \"brazil\"]\n",
    "\n",
    "countries[1:2] = [\"belgium\", \"switzerland\"]\n",
    "\n",
    "countries"
   ]
  },
  {
   "cell_type": "code",
   "execution_count": 21,
   "id": "45658dcf",
   "metadata": {},
   "outputs": [
    {
     "data": {
      "text/plain": [
       "['viseu', 'braga']"
      ]
     },
     "execution_count": 21,
     "metadata": {},
     "output_type": "execute_result"
    }
   ],
   "source": [
    "cities = [\"viseu\", \"coimbra\", \"aveiro\"]\n",
    "\n",
    "cities[1:3] = [\"braga\"]\n",
    "\n",
    "cities"
   ]
  },
  {
   "cell_type": "markdown",
   "id": "920df3cf",
   "metadata": {},
   "source": [
    "### Adicionar elementos"
   ]
  },
  {
   "cell_type": "code",
   "execution_count": 22,
   "id": "836c024f",
   "metadata": {},
   "outputs": [
    {
     "data": {
      "text/plain": [
       "['one', 'two', 'three', 'four']"
      ]
     },
     "execution_count": 22,
     "metadata": {},
     "output_type": "execute_result"
    }
   ],
   "source": [
    "numbers = [\"one\", \"two\", \"three\"]\n",
    "\n",
    "numbers.append(\"four\")\n",
    "\n",
    "numbers"
   ]
  },
  {
   "cell_type": "code",
   "execution_count": 20,
   "id": "d5a2ee14",
   "metadata": {},
   "outputs": [
    {
     "data": {
      "text/plain": [
       "['football', 'rugby', 'tennis']"
      ]
     },
     "execution_count": 20,
     "metadata": {},
     "output_type": "execute_result"
    }
   ],
   "source": [
    "sports = [\"football\", \"tennis\"]\n",
    "\n",
    "sports.insert(1, \"rugby\")\n",
    "\n",
    "sports"
   ]
  },
  {
   "cell_type": "code",
   "execution_count": 2,
   "id": "ad3253d3",
   "metadata": {},
   "outputs": [
    {
     "data": {
      "text/plain": [
       "['trousers', 'skirts', 'boots', 'slippers']"
      ]
     },
     "execution_count": 2,
     "metadata": {},
     "output_type": "execute_result"
    }
   ],
   "source": [
    "apparel = [\"trousers\", \"skirts\"]\n",
    "shoes = [\"boots\", \"slippers\"] #também poderia ser um tuplo, por exemplo\n",
    "\n",
    "apparel.extend(shoes)\n",
    "\n",
    "apparel"
   ]
  },
  {
   "cell_type": "markdown",
   "id": "e97d4a48",
   "metadata": {},
   "source": [
    "### Remover elementos"
   ]
  },
  {
   "cell_type": "code",
   "execution_count": 25,
   "id": "e5cb48a6",
   "metadata": {},
   "outputs": [
    {
     "data": {
      "text/plain": [
       "['mercury', 'venus', 'earth']"
      ]
     },
     "execution_count": 25,
     "metadata": {},
     "output_type": "execute_result"
    }
   ],
   "source": [
    "planets = [\"mercury\", \"venus\", \"earth\", \"pluto\"]\n",
    "\n",
    "planets.remove(\"pluto\")\n",
    "\n",
    "planets"
   ]
  },
  {
   "cell_type": "code",
   "execution_count": 4,
   "id": "0caa0ee5",
   "metadata": {},
   "outputs": [
    {
     "data": {
      "text/plain": [
       "['arms', 'head']"
      ]
     },
     "execution_count": 4,
     "metadata": {},
     "output_type": "execute_result"
    }
   ],
   "source": [
    "body_parts = [\"arms\", \"legs\", \"head\"]\n",
    "\n",
    "body_parts.pop(1) #se o índice não for especificado, remove o último elemento\n",
    "\n",
    "body_parts"
   ]
  },
  {
   "cell_type": "code",
   "execution_count": 29,
   "id": "1b6cea53",
   "metadata": {},
   "outputs": [
    {
     "data": {
      "text/plain": [
       "['summer', 'winter', 'spring']"
      ]
     },
     "execution_count": 29,
     "metadata": {},
     "output_type": "execute_result"
    }
   ],
   "source": [
    "seasons = [\"summer\", \"autumn\", \"winter\", \"spring\"]\n",
    "\n",
    "del seasons[1]\n",
    "\n",
    "seasons"
   ]
  },
  {
   "cell_type": "code",
   "execution_count": 27,
   "id": "9398e837",
   "metadata": {},
   "outputs": [
    {
     "data": {
      "text/plain": [
       "[]"
      ]
     },
     "execution_count": 27,
     "metadata": {},
     "output_type": "execute_result"
    }
   ],
   "source": [
    "summer = [\"sun\", \"beach\"]\n",
    "\n",
    "summer.clear()\n",
    "\n",
    "summer"
   ]
  },
  {
   "cell_type": "markdown",
   "id": "ff86830e",
   "metadata": {},
   "source": [
    "### Listas em compreensão"
   ]
  },
  {
   "cell_type": "markdown",
   "id": "bfe21fc6",
   "metadata": {},
   "source": [
    "` newlist = [expression for item in iterable if condition == True]`: Sintaxe de uma lista em compreensão (a condição é opcional)"
   ]
  },
  {
   "cell_type": "code",
   "execution_count": 7,
   "id": "06ee92a3",
   "metadata": {},
   "outputs": [
    {
     "data": {
      "text/plain": [
       "['rose', 'cactus', 'daisy']"
      ]
     },
     "execution_count": 7,
     "metadata": {},
     "output_type": "execute_result"
    }
   ],
   "source": [
    "plants = [\"rose\", \"cactus\", \"bamboo\", \"daisy\"]\n",
    "\n",
    "plants_with_s = []\n",
    "\n",
    "for plant in plants:\n",
    "    if \"s\" in plant:\n",
    "        plants_with_s.append(plant)\n",
    "        \n",
    "plants_with_s"
   ]
  },
  {
   "cell_type": "code",
   "execution_count": 8,
   "id": "1d03c2bb",
   "metadata": {},
   "outputs": [
    {
     "data": {
      "text/plain": [
       "['rose', 'cactus', 'daisy']"
      ]
     },
     "execution_count": 8,
     "metadata": {},
     "output_type": "execute_result"
    }
   ],
   "source": [
    "plants = [\"rose\", \"cactus\", \"bamboo\", \"daisy\"]\n",
    "\n",
    "plants_with_s = [plant for plant in plants if \"s\" in plant]\n",
    "\n",
    "plants_with_s"
   ]
  },
  {
   "cell_type": "code",
   "execution_count": 15,
   "id": "844bf7b2",
   "metadata": {},
   "outputs": [
    {
     "data": {
      "text/plain": [
       "['chicken', 'common blackbird', 'flamingo']"
      ]
     },
     "execution_count": 15,
     "metadata": {},
     "output_type": "execute_result"
    }
   ],
   "source": [
    "birds = [\"chicken\", \"blackbird\", \"flamingo\"]\n",
    "\n",
    "birds_fixed = [bird if bird!=\"blackbird\" else \"common blackbird\" for bird in birds] \n",
    "\n",
    "birds_fixed"
   ]
  },
  {
   "cell_type": "markdown",
   "id": "8045d59c",
   "metadata": {},
   "source": [
    "### Ordenar listas"
   ]
  },
  {
   "cell_type": "code",
   "execution_count": 36,
   "id": "df0ee3a5",
   "metadata": {},
   "outputs": [
    {
     "data": {
      "text/plain": [
       "['Tuesday', 'friday', 'monday', 'thursday', 'wednesday']"
      ]
     },
     "execution_count": 36,
     "metadata": {},
     "output_type": "execute_result"
    }
   ],
   "source": [
    "weekdays = [\"monday\", \"Tuesday\", \"wednesday\", \"thursday\", \"friday\"]\n",
    "\n",
    "weekdays.sort() #também funciona para números\n",
    "\n",
    "weekdays"
   ]
  },
  {
   "cell_type": "code",
   "execution_count": 34,
   "id": "05dfc23a",
   "metadata": {},
   "outputs": [
    {
     "data": {
      "text/plain": [
       "['lipgloss', 'eyeshadow', 'blush']"
      ]
     },
     "execution_count": 34,
     "metadata": {},
     "output_type": "execute_result"
    }
   ],
   "source": [
    "makeup = [\"blush\", \"eyeshadow\", \"lipgloss\"]\n",
    "\n",
    "makeup.sort(reverse=True)\n",
    "\n",
    "makeup"
   ]
  },
  {
   "cell_type": "code",
   "execution_count": 35,
   "id": "e0a04bfd",
   "metadata": {},
   "outputs": [
    {
     "data": {
      "text/plain": [
       "[-1, -2, 3, 4, -17]"
      ]
     },
     "execution_count": 35,
     "metadata": {},
     "output_type": "execute_result"
    }
   ],
   "source": [
    "def my_sort_function(x):\n",
    "    return abs(x)\n",
    "\n",
    "x = [-17, -1, 3, -2, 4]\n",
    "\n",
    "x.sort(key=my_sort_function)\n",
    "\n",
    "x"
   ]
  },
  {
   "cell_type": "code",
   "execution_count": 38,
   "id": "6a311b79",
   "metadata": {},
   "outputs": [
    {
     "data": {
      "text/plain": [
       "['sunday', 'saturday']"
      ]
     },
     "execution_count": 38,
     "metadata": {},
     "output_type": "execute_result"
    }
   ],
   "source": [
    "weekend = [\"saturday\", \"sunday\"]\n",
    "\n",
    "weekend.reverse()\n",
    "\n",
    "weekend"
   ]
  },
  {
   "cell_type": "markdown",
   "id": "731d7ae1",
   "metadata": {},
   "source": [
    "### Copiar listas"
   ]
  },
  {
   "cell_type": "code",
   "execution_count": 43,
   "id": "de649dba",
   "metadata": {},
   "outputs": [
    {
     "data": {
      "text/plain": [
       "['january',\n",
       " 'february',\n",
       " 'march',\n",
       " 'april',\n",
       " 'may',\n",
       " 'june',\n",
       " 'july',\n",
       " 'august',\n",
       " 'september',\n",
       " 'october',\n",
       " 'november',\n",
       " 'december']"
      ]
     },
     "execution_count": 43,
     "metadata": {},
     "output_type": "execute_result"
    }
   ],
   "source": [
    "months = [\"january\", \"february\", \"march\", \"april\", \"may\", \"june\", \"july\", \"august\", \"september\", \"october\", \"november\", \"december\"]\n",
    "\n",
    "new_list = months.copy()\n",
    "\n",
    "new_list"
   ]
  },
  {
   "cell_type": "code",
   "execution_count": 44,
   "id": "83a593f4",
   "metadata": {},
   "outputs": [
    {
     "data": {
      "text/plain": [
       "['attic', 'bedroom', 'bathroom', 'garage']"
      ]
     },
     "execution_count": 44,
     "metadata": {},
     "output_type": "execute_result"
    }
   ],
   "source": [
    "house_parts = [\"attic\", \"bedroom\", \"bathroom\", \"garage\"]\n",
    "\n",
    "my_new_list = list(house_parts)\n",
    "\n",
    "my_new_list"
   ]
  },
  {
   "cell_type": "markdown",
   "id": "6bb1fa0d",
   "metadata": {},
   "source": [
    "### Outros métodos relevantes"
   ]
  },
  {
   "cell_type": "markdown",
   "id": "33dc119b",
   "metadata": {},
   "source": [
    "- count()"
   ]
  },
  {
   "cell_type": "code",
   "execution_count": 46,
   "id": "59aeb97a",
   "metadata": {},
   "outputs": [
    {
     "data": {
      "text/plain": [
       "2"
      ]
     },
     "execution_count": 46,
     "metadata": {},
     "output_type": "execute_result"
    }
   ],
   "source": [
    "money = [\"euro\", \"pound\", \"dollar\", \"euro\"]\n",
    "\n",
    "money.count(\"euro\")"
   ]
  },
  {
   "cell_type": "markdown",
   "id": "33a70f35",
   "metadata": {},
   "source": [
    "- index()"
   ]
  },
  {
   "cell_type": "code",
   "execution_count": 50,
   "id": "ec5a2b5f",
   "metadata": {},
   "outputs": [
    {
     "data": {
      "text/plain": [
       "1"
      ]
     },
     "execution_count": 50,
     "metadata": {},
     "output_type": "execute_result"
    }
   ],
   "source": [
    "teams = [\"slbenfica\", \"fcporto\", \"scbraga\"]\n",
    "\n",
    "teams.index(\"fcporto\")"
   ]
  },
  {
   "cell_type": "markdown",
   "id": "b7a65d71",
   "metadata": {},
   "source": [
    "## Tuple"
   ]
  },
  {
   "cell_type": "markdown",
   "id": "b7bdd9ca",
   "metadata": {},
   "source": [
    "`()`: Utilizam-se para criar um tuplo"
   ]
  },
  {
   "cell_type": "code",
   "execution_count": 51,
   "id": "741704ef",
   "metadata": {},
   "outputs": [
    {
     "data": {
      "text/plain": [
       "tuple"
      ]
     },
     "execution_count": 51,
     "metadata": {},
     "output_type": "execute_result"
    }
   ],
   "source": [
    "my_tuple = (1,2,3) #para criar um tuplo com um único elemento, é necessário colocar uma vírgula no fim\n",
    "\n",
    "type(my_tuple)"
   ]
  },
  {
   "cell_type": "markdown",
   "id": "bfba5e45",
   "metadata": {},
   "source": [
    "`tuple()` - Construtor também utilizado para criar um tuplo"
   ]
  },
  {
   "cell_type": "code",
   "execution_count": 59,
   "id": "b193c6e4",
   "metadata": {},
   "outputs": [
    {
     "data": {
      "text/plain": [
       "tuple"
      ]
     },
     "execution_count": 59,
     "metadata": {},
     "output_type": "execute_result"
    }
   ],
   "source": [
    "this_tuple = tuple((4,8))\n",
    "\n",
    "type(this_tuple)"
   ]
  },
  {
   "cell_type": "markdown",
   "id": "6ac23dcc",
   "metadata": {},
   "source": [
    "Propriedades de um tuplo:"
   ]
  },
  {
   "cell_type": "markdown",
   "id": "053d9d85",
   "metadata": {},
   "source": [
    "- Permite duplicados"
   ]
  },
  {
   "cell_type": "code",
   "execution_count": 61,
   "id": "db20f3c8",
   "metadata": {},
   "outputs": [
    {
     "data": {
      "text/plain": [
       "(2, 2)"
      ]
     },
     "execution_count": 61,
     "metadata": {},
     "output_type": "execute_result"
    }
   ],
   "source": [
    "duplicates_tuple = (2,2)\n",
    "\n",
    "duplicates_tuple"
   ]
  },
  {
   "cell_type": "markdown",
   "id": "15ca9a5b",
   "metadata": {},
   "source": [
    "- Permite vários tipos diferentes"
   ]
  },
  {
   "cell_type": "code",
   "execution_count": 65,
   "id": "8b09d340",
   "metadata": {},
   "outputs": [
    {
     "data": {
      "text/plain": [
       "(2, 'ana', 3.45, False)"
      ]
     },
     "execution_count": 65,
     "metadata": {},
     "output_type": "execute_result"
    }
   ],
   "source": [
    "diff_types_tuple = (2, \"ana\", 3.45, False)\n",
    "\n",
    "diff_types_tuple"
   ]
  },
  {
   "cell_type": "markdown",
   "id": "450b2f9b",
   "metadata": {},
   "source": [
    "- Ordenado"
   ]
  },
  {
   "cell_type": "markdown",
   "id": "acffce58",
   "metadata": {},
   "source": [
    "Os seus elementos têm uma ordem definida e essa ordem não se irá alterar. Consequentemente, podem ser acedidos através de um índice."
   ]
  },
  {
   "cell_type": "markdown",
   "id": "eaa29784",
   "metadata": {},
   "source": [
    "- Imutável"
   ]
  },
  {
   "cell_type": "markdown",
   "id": "cd619246",
   "metadata": {},
   "source": [
    "Não é possível alterar, adicionar e remover itens num tuplo, após este ter sido criado."
   ]
  },
  {
   "cell_type": "markdown",
   "id": "59ed1a6b",
   "metadata": {},
   "source": [
    "### Aceder a elementos"
   ]
  },
  {
   "cell_type": "markdown",
   "id": "5a854b3b",
   "metadata": {},
   "source": [
    "Análogo à lista"
   ]
  },
  {
   "cell_type": "markdown",
   "id": "d7717770",
   "metadata": {},
   "source": [
    "### Atualizar tuplos"
   ]
  },
  {
   "cell_type": "markdown",
   "id": "f8892ef9",
   "metadata": {},
   "source": [
    "#### Alterar elementos"
   ]
  },
  {
   "cell_type": "code",
   "execution_count": 20,
   "id": "7f900ee4",
   "metadata": {},
   "outputs": [
    {
     "data": {
      "text/plain": [
       "('doctor', 'engineer', 'hairdresser')"
      ]
     },
     "execution_count": 20,
     "metadata": {},
     "output_type": "execute_result"
    }
   ],
   "source": [
    "jobs = (\"doctor\", \"engineer\", \"teacher\")\n",
    "\n",
    "aux_jobs = list(jobs)\n",
    "\n",
    "aux_jobs[2] = \"hairdresser\"\n",
    "\n",
    "jobs = tuple(aux_jobs)\n",
    "\n",
    "jobs"
   ]
  },
  {
   "cell_type": "markdown",
   "id": "162b248c",
   "metadata": {},
   "source": [
    "#### Adicionar elementos"
   ]
  },
  {
   "cell_type": "code",
   "execution_count": 21,
   "id": "87d9c6aa",
   "metadata": {},
   "outputs": [
    {
     "data": {
      "text/plain": [
       "('Game of Thrones', 'Friends', 'Suits', 'Vikings')"
      ]
     },
     "execution_count": 21,
     "metadata": {},
     "output_type": "execute_result"
    }
   ],
   "source": [
    "series = (\"Game of Thrones\", \"Friends\", \"Suits\")\n",
    "\n",
    "aux_series = list(series)\n",
    "\n",
    "aux_series.append(\"Vikings\")\n",
    "\n",
    "series = tuple(aux_series)\n",
    "\n",
    "series"
   ]
  },
  {
   "cell_type": "code",
   "execution_count": 27,
   "id": "b6a6d432",
   "metadata": {},
   "outputs": [
    {
     "data": {
      "text/plain": [
       "('Game of Thrones', 'Friends', 'Suits', 'Vikings')"
      ]
     },
     "execution_count": 27,
     "metadata": {},
     "output_type": "execute_result"
    }
   ],
   "source": [
    "series = (\"Game of Thrones\", \"Friends\", \"Suits\")\n",
    "\n",
    "series += (\"Vikings\",)\n",
    "\n",
    "series"
   ]
  },
  {
   "cell_type": "markdown",
   "id": "cd672944",
   "metadata": {},
   "source": [
    "#### Remover elementos"
   ]
  },
  {
   "cell_type": "code",
   "execution_count": 22,
   "id": "4c95c5d2",
   "metadata": {},
   "outputs": [
    {
     "data": {
      "text/plain": [
       "('Godfather', 'Avengers')"
      ]
     },
     "execution_count": 22,
     "metadata": {},
     "output_type": "execute_result"
    }
   ],
   "source": [
    "movies = (\"Godfather\", \"Django\", \"Avengers\")\n",
    "\n",
    "aux_movies = list(movies)\n",
    "\n",
    "aux_movies.remove(\"Django\")\n",
    "\n",
    "movies = tuple(aux_movies)\n",
    "\n",
    "movies"
   ]
  },
  {
   "cell_type": "markdown",
   "id": "44f2c867",
   "metadata": {},
   "source": [
    "### Desconstruir tuplos"
   ]
  },
  {
   "cell_type": "code",
   "execution_count": 31,
   "id": "48e8dd39",
   "metadata": {},
   "outputs": [
    {
     "name": "stdout",
     "output_type": "stream",
     "text": [
      "cardiology\n",
      "dermatology\n",
      "neurology\n"
     ]
    }
   ],
   "source": [
    "specialty = (\"cardiology\", \"dermatology\", \"neurology\")\n",
    "\n",
    "(heart, skin, brain) = specialty\n",
    "\n",
    "print(heart)\n",
    "print(skin)\n",
    "print(brain)"
   ]
  },
  {
   "cell_type": "code",
   "execution_count": 32,
   "id": "13d9b08e",
   "metadata": {},
   "outputs": [
    {
     "name": "stdout",
     "output_type": "stream",
     "text": [
      "The Great Gatsby\n",
      "Don Quixote\n",
      "['War and Peace', 'Anna Karenina']\n"
     ]
    }
   ],
   "source": [
    "books = (\"The Great Gatsby\", \"Don Quixote\", \"War and Peace\", \"Anna Karenina\")\n",
    "\n",
    "(fitzgerald, cervantes, *tolstoi) = books\n",
    "\n",
    "print(fitzgerald)\n",
    "print(cervantes)\n",
    "print(tolstoi)"
   ]
  },
  {
   "cell_type": "markdown",
   "id": "e865d2ae",
   "metadata": {},
   "source": [
    "### Métodos"
   ]
  },
  {
   "cell_type": "markdown",
   "id": "2a90acba",
   "metadata": {},
   "source": [
    "## Set"
   ]
  },
  {
   "cell_type": "markdown",
   "id": "c897d738",
   "metadata": {},
   "source": [
    "`{}`: Utilizam-se para criar um conjunto"
   ]
  },
  {
   "cell_type": "code",
   "execution_count": 66,
   "id": "dbcb8df9",
   "metadata": {},
   "outputs": [
    {
     "data": {
      "text/plain": [
       "set"
      ]
     },
     "execution_count": 66,
     "metadata": {},
     "output_type": "execute_result"
    }
   ],
   "source": [
    "my_set = {1,2,3} #caso não tenha elementos já não se trata de um conjunto, mas sim de um dicionário\n",
    "\n",
    "type(my_set)"
   ]
  },
  {
   "cell_type": "markdown",
   "id": "06216489",
   "metadata": {},
   "source": [
    "`set()` - Construtor também utilizado para criar um conjunto"
   ]
  },
  {
   "cell_type": "code",
   "execution_count": 68,
   "id": "c1343e95",
   "metadata": {},
   "outputs": [
    {
     "data": {
      "text/plain": [
       "set"
      ]
     },
     "execution_count": 68,
     "metadata": {},
     "output_type": "execute_result"
    }
   ],
   "source": [
    "this_set = set((\"banana\", \"apple\", \"orange\"))\n",
    "\n",
    "type(this_set)"
   ]
  },
  {
   "cell_type": "markdown",
   "id": "f5d25282",
   "metadata": {},
   "source": [
    "Propriedades de um conjunto:"
   ]
  },
  {
   "cell_type": "markdown",
   "id": "45bbff3c",
   "metadata": {},
   "source": [
    "- Não permite duplicados "
   ]
  },
  {
   "cell_type": "code",
   "execution_count": 78,
   "id": "b7ced1dc",
   "metadata": {},
   "outputs": [
    {
     "data": {
      "text/plain": [
       "{'tree'}"
      ]
     },
     "execution_count": 78,
     "metadata": {},
     "output_type": "execute_result"
    }
   ],
   "source": [
    "no_duplicates_set = {\"tree\", \"tree\"}\n",
    "\n",
    "no_duplicates_set"
   ]
  },
  {
   "cell_type": "markdown",
   "id": "cfdc5383",
   "metadata": {},
   "source": [
    "- Permite vários tipos diferentes"
   ]
  },
  {
   "cell_type": "code",
   "execution_count": 76,
   "id": "2953225c",
   "metadata": {},
   "outputs": [
    {
     "data": {
      "text/plain": [
       "{2, 5.67, False, 'cinema'}"
      ]
     },
     "execution_count": 76,
     "metadata": {},
     "output_type": "execute_result"
    }
   ],
   "source": [
    "diff_types_set = {2, \"cinema\", 5.67, False}\n",
    "\n",
    "diff_types_set"
   ]
  },
  {
   "cell_type": "markdown",
   "id": "6503d409",
   "metadata": {},
   "source": [
    "- Não ordenado"
   ]
  },
  {
   "cell_type": "markdown",
   "id": "b2249926",
   "metadata": {},
   "source": [
    "Os seus elementos não têm uma ordem definida e essa ordem pode alterar-se. Consequentemente, não podem ser acedidos através de um índice ou de uma chave."
   ]
  },
  {
   "cell_type": "markdown",
   "id": "6e5178b7",
   "metadata": {},
   "source": [
    "- Imutável"
   ]
  },
  {
   "cell_type": "markdown",
   "id": "827797b3",
   "metadata": {},
   "source": [
    "Não é possível alterar, adicionar e remover itens num conjunto, após este ter sido criado."
   ]
  },
  {
   "cell_type": "markdown",
   "id": "aea6c20f",
   "metadata": {},
   "source": [
    "### Adicionar elementos"
   ]
  },
  {
   "cell_type": "code",
   "execution_count": 33,
   "id": "5ad244b0",
   "metadata": {},
   "outputs": [
    {
     "data": {
      "text/plain": [
       "{'Beyoncé', 'Lady Gaga', 'Shakira'}"
      ]
     },
     "execution_count": 33,
     "metadata": {},
     "output_type": "execute_result"
    }
   ],
   "source": [
    "singers = {\"Lady Gaga\", \"Shakira\"}\n",
    "\n",
    "singers.add(\"Beyoncé\")\n",
    "\n",
    "singers"
   ]
  },
  {
   "cell_type": "code",
   "execution_count": 36,
   "id": "2b05e4f0",
   "metadata": {},
   "outputs": [
    {
     "data": {
      "text/plain": [
       "{'Maroon 5', 'Nirvana', 'Queen', 'The Script'}"
      ]
     },
     "execution_count": 36,
     "metadata": {},
     "output_type": "execute_result"
    }
   ],
   "source": [
    "bands = {\"Maroon 5\", \"The Script\"}\n",
    "dead_bands = {\"Nirvana\", \"Queen\"} #também poderia ser uma lista, por exemplo\n",
    "\n",
    "bands.update(dead_bands)\n",
    "\n",
    "bands"
   ]
  },
  {
   "cell_type": "markdown",
   "id": "9335a155",
   "metadata": {},
   "source": [
    "### Remover elementos"
   ]
  },
  {
   "cell_type": "code",
   "execution_count": null,
   "id": "82379413",
   "metadata": {},
   "outputs": [],
   "source": [
    "#remove\n",
    "#discard\n",
    "#pop\n",
    "#clear"
   ]
  },
  {
   "cell_type": "markdown",
   "id": "3f1060e6",
   "metadata": {},
   "source": [
    "### Juntar sets"
   ]
  },
  {
   "cell_type": "code",
   "execution_count": 38,
   "id": "f219f6a3",
   "metadata": {},
   "outputs": [
    {
     "data": {
      "text/plain": [
       "{'Cindy Sherman', 'Liu Xiaodong', 'Pablo Picasso', 'Vincent van Gogh'}"
      ]
     },
     "execution_count": 38,
     "metadata": {},
     "output_type": "execute_result"
    }
   ],
   "source": [
    "living_painters = {\"Cindy Sherman\", \"Liu Xiaodong\"}\n",
    "dead_painters = {\"Vincent van Gogh\", \"Pablo Picasso\"}\n",
    "\n",
    "painters = living_painters.union(dead_painters)\n",
    "\n",
    "painters"
   ]
  },
  {
   "cell_type": "code",
   "execution_count": 40,
   "id": "28ee2903",
   "metadata": {},
   "outputs": [
    {
     "data": {
      "text/plain": [
       "{'apple'}"
      ]
     },
     "execution_count": 40,
     "metadata": {},
     "output_type": "execute_result"
    }
   ],
   "source": [
    "it_brands = {\"microsoft\", \"apple\", \"google\"}\n",
    "fruits = {\"apple\", \"cherry\", \"strawberry\"}\n",
    "\n",
    "it_brands.intersection_update(fruits)\n",
    "\n",
    "it_brands"
   ]
  },
  {
   "cell_type": "code",
   "execution_count": 41,
   "id": "d3a8a9fc",
   "metadata": {},
   "outputs": [
    {
     "data": {
      "text/plain": [
       "{3}"
      ]
     },
     "execution_count": 41,
     "metadata": {},
     "output_type": "execute_result"
    }
   ],
   "source": [
    "x = {1,2,3}\n",
    "y = {3,4,5}\n",
    "\n",
    "z = x.intersection(y)\n",
    "\n",
    "z"
   ]
  },
  {
   "cell_type": "code",
   "execution_count": 58,
   "id": "d42f490b",
   "metadata": {},
   "outputs": [
    {
     "data": {
      "text/plain": [
       "{'ducati'}"
      ]
     },
     "execution_count": 58,
     "metadata": {},
     "output_type": "execute_result"
    }
   ],
   "source": [
    "motorcycle_brands = {\"ducati\", \"yamaha\"}\n",
    "piano_brands = {\"yamaha\"}\n",
    "\n",
    "motorcycle_brands.symmetric_difference_update(piano_brands)\n",
    "\n",
    "motorcycle_brands"
   ]
  },
  {
   "cell_type": "code",
   "execution_count": 45,
   "id": "57b5bc80",
   "metadata": {},
   "outputs": [
    {
     "data": {
      "text/plain": [
       "{'chocolate', 'strawberry'}"
      ]
     },
     "execution_count": 45,
     "metadata": {},
     "output_type": "execute_result"
    }
   ],
   "source": [
    "chocolate_cake_ingredients = {\"eggs\", \"sugar\", \"flour\", \"chocolate\"}\n",
    "strawberry_cake_ingredients = {\"eggs\", \"sugar\", \"flour\", \"strawberry\"}\n",
    "\n",
    "flavours = chocolate_cake_ingredients.symmetric_difference(strawberry_cake_ingredients)\n",
    "\n",
    "flavours"
   ]
  },
  {
   "cell_type": "markdown",
   "id": "8ce073e8",
   "metadata": {},
   "source": [
    "### Outros métodos relevantes"
   ]
  },
  {
   "cell_type": "markdown",
   "id": "b8842560",
   "metadata": {},
   "source": [
    "- issuperset()"
   ]
  },
  {
   "cell_type": "code",
   "execution_count": 48,
   "id": "7280a5ea",
   "metadata": {},
   "outputs": [
    {
     "data": {
      "text/plain": [
       "True"
      ]
     },
     "execution_count": 48,
     "metadata": {},
     "output_type": "execute_result"
    }
   ],
   "source": [
    "s1 = {\"a\", \"b\", \"c\", \"d\", \"e\"}\n",
    "s2 = {\"a\", \"b\"}\n",
    "\n",
    "s1.issuperset(s2)"
   ]
  },
  {
   "cell_type": "markdown",
   "id": "5ddda096",
   "metadata": {},
   "source": [
    "- issubset()"
   ]
  },
  {
   "cell_type": "code",
   "execution_count": 49,
   "id": "e4274732",
   "metadata": {},
   "outputs": [
    {
     "data": {
      "text/plain": [
       "True"
      ]
     },
     "execution_count": 49,
     "metadata": {},
     "output_type": "execute_result"
    }
   ],
   "source": [
    "set1 = {1,2}\n",
    "set2 = {1,2,3,4}\n",
    "\n",
    "set1.issubset(set2)"
   ]
  },
  {
   "cell_type": "markdown",
   "id": "e9c475fb",
   "metadata": {},
   "source": [
    "- isdisjoint()"
   ]
  },
  {
   "cell_type": "code",
   "execution_count": 51,
   "id": "f0d62535",
   "metadata": {},
   "outputs": [
    {
     "data": {
      "text/plain": [
       "False"
      ]
     },
     "execution_count": 51,
     "metadata": {},
     "output_type": "execute_result"
    }
   ],
   "source": [
    "first_set = {True, False}\n",
    "second_set = {False}\n",
    "\n",
    "first_set.isdisjoint(second_set)"
   ]
  },
  {
   "cell_type": "markdown",
   "id": "795376ff",
   "metadata": {},
   "source": [
    "- copy()"
   ]
  },
  {
   "cell_type": "code",
   "execution_count": 59,
   "id": "56bcdd27",
   "metadata": {},
   "outputs": [
    {
     "data": {
      "text/plain": [
       "{'ball'}"
      ]
     },
     "execution_count": 59,
     "metadata": {},
     "output_type": "execute_result"
    }
   ],
   "source": [
    "original_set = {\"ball\"}\n",
    "copied_set = original_set.copy()\n",
    "\n",
    "copied_set"
   ]
  },
  {
   "cell_type": "markdown",
   "id": "2905ebd0",
   "metadata": {},
   "source": [
    "- difference()"
   ]
  },
  {
   "cell_type": "code",
   "execution_count": 52,
   "id": "3b802024",
   "metadata": {},
   "outputs": [
    {
     "data": {
      "text/plain": [
       "{3.45}"
      ]
     },
     "execution_count": 52,
     "metadata": {},
     "output_type": "execute_result"
    }
   ],
   "source": [
    "a = {1.5, 3.45}\n",
    "b = {4.75, 1.5}\n",
    "\n",
    "c = a.difference(b)\n",
    "\n",
    "c"
   ]
  },
  {
   "cell_type": "markdown",
   "id": "25440048",
   "metadata": {},
   "source": [
    "- difference_update()"
   ]
  },
  {
   "cell_type": "code",
   "execution_count": 55,
   "id": "be9b99cd",
   "metadata": {},
   "outputs": [
    {
     "data": {
      "text/plain": [
       "{True}"
      ]
     },
     "execution_count": 55,
     "metadata": {},
     "output_type": "execute_result"
    }
   ],
   "source": [
    "d = {True, 3}\n",
    "e = {3, 4}\n",
    "\n",
    "d.difference_update(e)\n",
    "\n",
    "d"
   ]
  },
  {
   "cell_type": "markdown",
   "id": "d0af17cd",
   "metadata": {},
   "source": [
    "## Dictionary"
   ]
  },
  {
   "cell_type": "markdown",
   "id": "b88754db",
   "metadata": {},
   "source": [
    "`{}`: Utilizam-se para criar um dicionário"
   ]
  },
  {
   "cell_type": "code",
   "execution_count": 60,
   "id": "8799cdce",
   "metadata": {},
   "outputs": [
    {
     "data": {
      "text/plain": [
       "dict"
      ]
     },
     "execution_count": 60,
     "metadata": {},
     "output_type": "execute_result"
    }
   ],
   "source": [
    "my_dict = {\n",
    "    \"name\": \"John\",\n",
    "    \"surname\": \"Doe\",\n",
    "    \"job\": \"lawyer\"\n",
    "}\n",
    "\n",
    "type(my_dict)"
   ]
  },
  {
   "cell_type": "markdown",
   "id": "56c1d30c",
   "metadata": {},
   "source": [
    "Propriedades de um dicionário:"
   ]
  },
  {
   "cell_type": "markdown",
   "id": "60c16339",
   "metadata": {},
   "source": [
    "- Não permite duplicados "
   ]
  },
  {
   "cell_type": "code",
   "execution_count": 79,
   "id": "4e9346c6",
   "metadata": {},
   "outputs": [
    {
     "data": {
      "text/plain": [
       "{'university': 'Minho', 'location': 'Braga', 'campus': 'Gualtar'}"
      ]
     },
     "execution_count": 79,
     "metadata": {},
     "output_type": "execute_result"
    }
   ],
   "source": [
    "no_duplicates_dict = {\n",
    "    \"university\": \"Minho\",\n",
    "    \"location\": \"Braga\",\n",
    "    \"campus\": \"Azurém\",\n",
    "    \"campus\": \"Gualtar\"\n",
    "}\n",
    "\n",
    "no_duplicates_dict #o valor duplicado irá sobrescrever o valor existente"
   ]
  },
  {
   "cell_type": "markdown",
   "id": "bcaf0dc8",
   "metadata": {},
   "source": [
    "- Permite vários tipos diferentes"
   ]
  },
  {
   "cell_type": "code",
   "execution_count": 81,
   "id": "37dbfc02",
   "metadata": {},
   "outputs": [
    {
     "data": {
      "text/plain": [
       "{'brand': 'Toshiba', 'touch': True, 'colours': ['grey', 'black', 'white']}"
      ]
     },
     "execution_count": 81,
     "metadata": {},
     "output_type": "execute_result"
    }
   ],
   "source": [
    "computer = {\n",
    "    \"brand\": \"Toshiba\",\n",
    "    \"touch\": True,\n",
    "    \"colours\": [\"grey\", \"black\", \"white\"]\n",
    "}\n",
    "\n",
    "computer"
   ]
  },
  {
   "cell_type": "markdown",
   "id": "261f9366",
   "metadata": {},
   "source": [
    "- Ordenado (a partir da versão 3.7)"
   ]
  },
  {
   "cell_type": "markdown",
   "id": "9354e66a",
   "metadata": {},
   "source": [
    "Os seus elementos têm uma ordem definida e essa ordem pode alterar-se. Consequentemente, podem ser acedidos através de uma chave."
   ]
  },
  {
   "cell_type": "markdown",
   "id": "d05cedb4",
   "metadata": {},
   "source": [
    "- Mutável"
   ]
  },
  {
   "cell_type": "markdown",
   "id": "1d15680a",
   "metadata": {},
   "source": [
    "É possível alterar, adicionar e remover itens num dicionário, após este ter sido criado."
   ]
  },
  {
   "cell_type": "markdown",
   "id": "d5a760f1",
   "metadata": {},
   "source": [
    "# Exercícios"
   ]
  },
  {
   "cell_type": "markdown",
   "id": "efd5f9cb",
   "metadata": {},
   "source": [
    "1) Escreva uma função que recebe uma lista e retorna um par com o primeiro e o último elemento dessa lista."
   ]
  },
  {
   "cell_type": "markdown",
   "id": "bddc7636",
   "metadata": {},
   "source": [
    "2) Escreva uma função que retorna o primeiro conjunto atualizado com os elementos que existem apenas no primeiro conjunto e não no segundo conjunto."
   ]
  },
  {
   "cell_type": "markdown",
   "id": "20cb43a4",
   "metadata": {},
   "source": [
    "3) Escreva uma função que retorna o maior elemento de uma lista."
   ]
  },
  {
   "cell_type": "markdown",
   "id": "0f96c6eb",
   "metadata": {},
   "source": [
    "4) Escreva uma função que retorna a distância euclidiana entre dois pontos."
   ]
  }
 ],
 "metadata": {
  "celltoolbar": "Slideshow",
  "kernelspec": {
   "display_name": "Python 3",
   "language": "python",
   "name": "python3"
  },
  "language_info": {
   "codemirror_mode": {
    "name": "ipython",
    "version": 3
   },
   "file_extension": ".py",
   "mimetype": "text/x-python",
   "name": "python",
   "nbconvert_exporter": "python",
   "pygments_lexer": "ipython3",
   "version": "3.8.8"
  }
 },
 "nbformat": 4,
 "nbformat_minor": 5
}
