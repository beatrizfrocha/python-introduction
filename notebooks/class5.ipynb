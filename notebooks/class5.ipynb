{
 "cells": [
  {
   "cell_type": "markdown",
   "id": "09ddd1d8",
   "metadata": {
    "slideshow": {
     "slide_type": "slide"
    }
   },
   "source": [
    "# Introdução a Python\n",
    "\n",
    "## Aula 5"
   ]
  },
  {
   "cell_type": "markdown",
   "id": "863104ba",
   "metadata": {
    "slideshow": {
     "slide_type": "subslide"
    }
   },
   "source": [
    "# Sumário"
   ]
  },
  {
   "cell_type": "markdown",
   "id": "31d8664a",
   "metadata": {
    "slideshow": {
     "slide_type": "fragment"
    }
   },
   "source": [
    "- Classes e objetos\n",
    "- Iteradores e geradores\n",
    "- Erros e exceções\n",
    "- Exercícios"
   ]
  },
  {
   "cell_type": "markdown",
   "id": "ddd79aec",
   "metadata": {
    "slideshow": {
     "slide_type": "slide"
    }
   },
   "source": [
    "# Classes e objetos"
   ]
  },
  {
   "cell_type": "code",
   "execution_count": 40,
   "id": "ba9dbdbb",
   "metadata": {},
   "outputs": [],
   "source": [
    "class Point:\n",
    "    \n",
    "    x = 0\n",
    "    y = 0"
   ]
  },
  {
   "cell_type": "code",
   "execution_count": 42,
   "id": "54332bfb",
   "metadata": {},
   "outputs": [
    {
     "data": {
      "text/plain": [
       "(0, 0)"
      ]
     },
     "execution_count": 42,
     "metadata": {},
     "output_type": "execute_result"
    }
   ],
   "source": [
    "point = Point()\n",
    "\n",
    "point.x, point.y"
   ]
  },
  {
   "cell_type": "code",
   "execution_count": 57,
   "id": "f65d0439",
   "metadata": {},
   "outputs": [],
   "source": [
    "class Person:\n",
    "    \n",
    "    def __init__(self, name, age, sex):\n",
    "        self.name = name\n",
    "        self.age = age\n",
    "        self.sex = sex"
   ]
  },
  {
   "cell_type": "code",
   "execution_count": 45,
   "id": "3ed3750a",
   "metadata": {},
   "outputs": [
    {
     "data": {
      "text/plain": [
       "('John', 35, 'male')"
      ]
     },
     "execution_count": 45,
     "metadata": {},
     "output_type": "execute_result"
    }
   ],
   "source": [
    "person = Person(\"John\", 35, \"male\")\n",
    "\n",
    "person.name, person.age, person.sex"
   ]
  },
  {
   "cell_type": "code",
   "execution_count": 46,
   "id": "ece3b2b8",
   "metadata": {},
   "outputs": [],
   "source": [
    "class Triangle:\n",
    "    \n",
    "    def __init__(self, base, height):\n",
    "        self.base = base\n",
    "        self.height = height\n",
    "        \n",
    "    def area(self):\n",
    "        return 0.5 * self.base * self.height"
   ]
  },
  {
   "cell_type": "code",
   "execution_count": 48,
   "id": "8acdc483",
   "metadata": {},
   "outputs": [
    {
     "data": {
      "text/plain": [
       "70.0"
      ]
     },
     "execution_count": 48,
     "metadata": {},
     "output_type": "execute_result"
    }
   ],
   "source": [
    "triangle = Triangle(14, 10)\n",
    "\n",
    "triangle.area()"
   ]
  },
  {
   "cell_type": "code",
   "execution_count": 49,
   "id": "72fe81b0",
   "metadata": {},
   "outputs": [
    {
     "data": {
      "text/plain": [
       "12"
      ]
     },
     "execution_count": 49,
     "metadata": {},
     "output_type": "execute_result"
    }
   ],
   "source": [
    "triangle.base = 12\n",
    "\n",
    "triangle.base"
   ]
  },
  {
   "cell_type": "code",
   "execution_count": 36,
   "id": "d1d6c092",
   "metadata": {},
   "outputs": [],
   "source": [
    "class Vehicle:\n",
    "    def __init__(self, brand, model):\n",
    "        self.brand = brand\n",
    "        self.model = model\n",
    "        \n",
    "    def print_characteristics(self):\n",
    "        print(f\"The vehicle has the following characteristics: brand = {self.brand} and model = {self.model}.\")"
   ]
  },
  {
   "cell_type": "code",
   "execution_count": 29,
   "id": "255a0dad",
   "metadata": {},
   "outputs": [],
   "source": [
    "class Car(Vehicle):\n",
    "    def __init__(self, brand, model):\n",
    "        super().__init__(brand, model)"
   ]
  },
  {
   "cell_type": "code",
   "execution_count": 30,
   "id": "2a542732",
   "metadata": {
    "scrolled": true
   },
   "outputs": [
    {
     "name": "stdout",
     "output_type": "stream",
     "text": [
      "The vehicle has the following characteristics: brand = Ford and model = Mustang.\n"
     ]
    }
   ],
   "source": [
    "car = Car(\"Ford\", \"Mustang\")\n",
    "\n",
    "car.print_characteristics()"
   ]
  },
  {
   "cell_type": "code",
   "execution_count": 31,
   "id": "a3129c83",
   "metadata": {},
   "outputs": [],
   "source": [
    "class Motorcycle(Vehicle):\n",
    "    def __init__(self, brand, model, year):\n",
    "        super().__init__(brand, model)\n",
    "        self.year = year"
   ]
  },
  {
   "cell_type": "code",
   "execution_count": 32,
   "id": "725229c1",
   "metadata": {},
   "outputs": [
    {
     "data": {
      "text/plain": [
       "('Ducati', 'Multistrada V4', '2021')"
      ]
     },
     "execution_count": 32,
     "metadata": {},
     "output_type": "execute_result"
    }
   ],
   "source": [
    "motorcycle = Motorcycle(\"Ducati\", \"Multistrada V4\", \"2021\")\n",
    "\n",
    "motorcycle.brand, motorcycle.model, motorcycle.year"
   ]
  },
  {
   "cell_type": "code",
   "execution_count": 33,
   "id": "c9474c91",
   "metadata": {},
   "outputs": [],
   "source": [
    "class Boat(Vehicle):\n",
    "    def __init__(self, brand, model, passengers):\n",
    "        super().__init__(brand, model)\n",
    "        self.passengers = passengers\n",
    "    \n",
    "    def capacity(self): #se o nome fosse igual a algum dos métodos da classe pai, esse método seria sobrescrito\n",
    "        print(f\"This boat can take up to {self.passengers} passengers.\")"
   ]
  },
  {
   "cell_type": "code",
   "execution_count": 34,
   "id": "4fe17663",
   "metadata": {},
   "outputs": [
    {
     "name": "stdout",
     "output_type": "stream",
     "text": [
      "This boat can take up to 6 passengers.\n"
     ]
    }
   ],
   "source": [
    "boat = Boat(\"Quicksilver\", \"605 Pilothouse\", 6)\n",
    "\n",
    "boat.capacity()"
   ]
  },
  {
   "cell_type": "code",
   "execution_count": 35,
   "id": "39abce35",
   "metadata": {},
   "outputs": [
    {
     "data": {
      "text/plain": [
       "True"
      ]
     },
     "execution_count": 35,
     "metadata": {},
     "output_type": "execute_result"
    }
   ],
   "source": [
    "isinstance(boat,Vehicle)"
   ]
  },
  {
   "cell_type": "markdown",
   "id": "1c7808ee",
   "metadata": {
    "slideshow": {
     "slide_type": "slide"
    }
   },
   "source": [
    "# Erros e exceções"
   ]
  },
  {
   "cell_type": "markdown",
   "id": "e3527b6d",
   "metadata": {},
   "source": [
    "`try`: Permite testar se um bloco de código levanta erros"
   ]
  },
  {
   "cell_type": "markdown",
   "id": "74cd427c",
   "metadata": {},
   "source": [
    "`except`: Permite lidar com o erro"
   ]
  },
  {
   "cell_type": "markdown",
   "id": "99ec5702",
   "metadata": {},
   "source": [
    "`finally`: Permite executar código, independentemente do resultado dos blocos try/except"
   ]
  },
  {
   "cell_type": "code",
   "execution_count": 17,
   "id": "85aed909",
   "metadata": {},
   "outputs": [
    {
     "name": "stdout",
     "output_type": "stream",
     "text": [
      "Something went wrong\n"
     ]
    }
   ],
   "source": [
    "try:\n",
    "    print(a)\n",
    "except:\n",
    "    print(\"Something went wrong\")"
   ]
  },
  {
   "cell_type": "code",
   "execution_count": 18,
   "id": "92744cfd",
   "metadata": {},
   "outputs": [
    {
     "name": "stdout",
     "output_type": "stream",
     "text": [
      "Undefined variable\n"
     ]
    }
   ],
   "source": [
    "try:\n",
    "    print(a)\n",
    "except NameError:\n",
    "    print(\"Undefined variable\")\n",
    "except:\n",
    "    print(\"Something else went wrong\")"
   ]
  },
  {
   "cell_type": "code",
   "execution_count": 19,
   "id": "2f9d695e",
   "metadata": {},
   "outputs": [
    {
     "name": "stdout",
     "output_type": "stream",
     "text": [
      "This is class number 5\n",
      "Nothing went wrong\n"
     ]
    }
   ],
   "source": [
    "try:\n",
    "    print(\"This is class number 5\")\n",
    "except:\n",
    "    print(\"Something went wrong\")\n",
    "else:\n",
    "    print(\"Nothing went wrong\")"
   ]
  },
  {
   "cell_type": "code",
   "execution_count": 20,
   "id": "dfe7dadc",
   "metadata": {},
   "outputs": [
    {
     "name": "stdout",
     "output_type": "stream",
     "text": [
      "Something went wrong\n",
      "Reached the end of the try/except block\n"
     ]
    }
   ],
   "source": [
    "try:\n",
    "    print(a)\n",
    "except: \n",
    "    print(\"Something went wrong\")\n",
    "finally:\n",
    "    print(\"Reached the end of the try/except block\")"
   ]
  },
  {
   "cell_type": "code",
   "execution_count": 21,
   "id": "87bc7aa1",
   "metadata": {},
   "outputs": [
    {
     "ename": "Exception",
     "evalue": "Only integers allowed",
     "output_type": "error",
     "traceback": [
      "\u001b[0;31m---------------------------------------------------------------------------\u001b[0m",
      "\u001b[0;31mException\u001b[0m                                 Traceback (most recent call last)",
      "\u001b[0;32m<ipython-input-21-c18ce0487a58>\u001b[0m in \u001b[0;36m<module>\u001b[0;34m\u001b[0m\n\u001b[1;32m      2\u001b[0m \u001b[0;34m\u001b[0m\u001b[0m\n\u001b[1;32m      3\u001b[0m \u001b[0;32mif\u001b[0m \u001b[0mx\u001b[0m \u001b[0;32mis\u001b[0m \u001b[0;32mnot\u001b[0m \u001b[0mtype\u001b[0m\u001b[0;34m(\u001b[0m\u001b[0mint\u001b[0m\u001b[0;34m)\u001b[0m\u001b[0;34m:\u001b[0m\u001b[0;34m\u001b[0m\u001b[0;34m\u001b[0m\u001b[0m\n\u001b[0;32m----> 4\u001b[0;31m     \u001b[0;32mraise\u001b[0m \u001b[0mException\u001b[0m\u001b[0;34m(\u001b[0m\u001b[0;34m\"Only integers allowed\"\u001b[0m\u001b[0;34m)\u001b[0m \u001b[0;31m#podíamos optar por levantar uma exceção pré-definida, como TypeError\u001b[0m\u001b[0;34m\u001b[0m\u001b[0;34m\u001b[0m\u001b[0m\n\u001b[0m",
      "\u001b[0;31mException\u001b[0m: Only integers allowed"
     ]
    }
   ],
   "source": [
    "x = \"car\"\n",
    "\n",
    "if x is not type(int):\n",
    "    raise Exception(\"Only integers allowed\") #podíamos optar por levantar uma exceção pré-definida, como TypeError"
   ]
  },
  {
   "cell_type": "markdown",
   "id": "591a87fc",
   "metadata": {
    "slideshow": {
     "slide_type": "slide"
    }
   },
   "source": [
    "# Iteradores e geradores"
   ]
  },
  {
   "cell_type": "markdown",
   "id": "bc7115df",
   "metadata": {},
   "source": [
    "## Iteradores"
   ]
  },
  {
   "cell_type": "code",
   "execution_count": 49,
   "id": "30a76bc5",
   "metadata": {},
   "outputs": [
    {
     "data": {
      "text/plain": [
       "'iPhone'"
      ]
     },
     "execution_count": 49,
     "metadata": {},
     "output_type": "execute_result"
    }
   ],
   "source": [
    "phones = [\"iPhone\", \"Samsung\", \"Xiaomi\"] #poderia ser qualquer iterável\n",
    "\n",
    "phones_iterator = iter(phones)\n",
    "\n",
    "next(phones_iterator)"
   ]
  },
  {
   "cell_type": "code",
   "execution_count": 60,
   "id": "96205b70",
   "metadata": {},
   "outputs": [
    {
     "name": "stdout",
     "output_type": "stream",
     "text": [
      "1\n",
      "2\n",
      "3\n"
     ]
    }
   ],
   "source": [
    "class Numbers():\n",
    "    \n",
    "    def __init__(self):\n",
    "        self.x = 1\n",
    "    \n",
    "    def __iter__(self):\n",
    "        return self #tem necessariamente de retornar o próprio iterador\n",
    "    \n",
    "    def __next__(self):\n",
    "        y = self.x\n",
    "        self.x += 1\n",
    "        return y #tem necessariamente de retornar o próximo item da sequência\n",
    "    \n",
    "numbers = Numbers()\n",
    "numbers_iterator = iter(numbers)\n",
    "\n",
    "print(next(numbers_iterator))\n",
    "print(next(numbers_iterator))\n",
    "print(next(numbers_iterator))"
   ]
  },
  {
   "cell_type": "code",
   "execution_count": 61,
   "id": "a1a10981",
   "metadata": {},
   "outputs": [
    {
     "name": "stdout",
     "output_type": "stream",
     "text": [
      "2\n",
      "4\n",
      "6\n"
     ]
    }
   ],
   "source": [
    "class Even():\n",
    "    \n",
    "    def __init__(self):\n",
    "        self.x = 2\n",
    "    \n",
    "    def __iter__(self):\n",
    "        return self\n",
    "    \n",
    "    def __next__(self):\n",
    "        if self.x > 6:\n",
    "            raise StopIteration\n",
    "            \n",
    "        y = self.x\n",
    "        self.x += 2\n",
    "        return y\n",
    "            \n",
    "even = Even()\n",
    "even_iterator = iter(even)\n",
    "\n",
    "for i in even_iterator:\n",
    "    print(i)"
   ]
  },
  {
   "cell_type": "markdown",
   "id": "2450fb61",
   "metadata": {},
   "source": [
    "## Geradores"
   ]
  },
  {
   "cell_type": "code",
   "execution_count": 69,
   "id": "5b778f02",
   "metadata": {},
   "outputs": [
    {
     "name": "stdout",
     "output_type": "stream",
     "text": [
      "1\n",
      "3\n",
      "5\n"
     ]
    }
   ],
   "source": [
    "def odd():\n",
    "    n = -1\n",
    "    \n",
    "    n += 2\n",
    "    yield n\n",
    "    \n",
    "    n += 2\n",
    "    yield n\n",
    "    \n",
    "    n += 2\n",
    "    yield n\n",
    "    \n",
    "odd = odd()\n",
    "\n",
    "print(next(odd))\n",
    "print(next(odd))\n",
    "print(next(odd))"
   ]
  },
  {
   "cell_type": "code",
   "execution_count": 79,
   "id": "3ee7ae16",
   "metadata": {},
   "outputs": [
    {
     "name": "stdout",
     "output_type": "stream",
     "text": [
      "3\n",
      "9\n",
      "27\n",
      "81\n"
     ]
    },
    {
     "ename": "StopIteration",
     "evalue": "",
     "output_type": "error",
     "traceback": [
      "\u001b[0;31m---------------------------------------------------------------------------\u001b[0m",
      "\u001b[0;31mStopIteration\u001b[0m                             Traceback (most recent call last)",
      "\u001b[0;32m<ipython-input-79-0422e99d47e8>\u001b[0m in \u001b[0;36m<module>\u001b[0;34m\u001b[0m\n\u001b[1;32m     11\u001b[0m \u001b[0mprint\u001b[0m\u001b[0;34m(\u001b[0m\u001b[0mnext\u001b[0m\u001b[0;34m(\u001b[0m\u001b[0mpowers_of_3\u001b[0m\u001b[0;34m)\u001b[0m\u001b[0;34m)\u001b[0m\u001b[0;34m\u001b[0m\u001b[0;34m\u001b[0m\u001b[0m\n\u001b[1;32m     12\u001b[0m \u001b[0mprint\u001b[0m\u001b[0;34m(\u001b[0m\u001b[0mnext\u001b[0m\u001b[0;34m(\u001b[0m\u001b[0mpowers_of_3\u001b[0m\u001b[0;34m)\u001b[0m\u001b[0;34m)\u001b[0m\u001b[0;34m\u001b[0m\u001b[0;34m\u001b[0m\u001b[0m\n\u001b[0;32m---> 13\u001b[0;31m \u001b[0mprint\u001b[0m\u001b[0;34m(\u001b[0m\u001b[0mnext\u001b[0m\u001b[0;34m(\u001b[0m\u001b[0mpowers_of_3\u001b[0m\u001b[0;34m)\u001b[0m\u001b[0;34m)\u001b[0m\u001b[0;34m\u001b[0m\u001b[0;34m\u001b[0m\u001b[0m\n\u001b[0m",
      "\u001b[0;31mStopIteration\u001b[0m: "
     ]
    }
   ],
   "source": [
    "def powers_of_3(max):\n",
    "    n = 3\n",
    "    while n <= max:\n",
    "        yield n\n",
    "        n *= 3\n",
    "    \n",
    "powers_of_3 = powers_of_3(81)\n",
    "\n",
    "print(next(powers_of_3))\n",
    "print(next(powers_of_3))\n",
    "print(next(powers_of_3))\n",
    "print(next(powers_of_3))\n",
    "print(next(powers_of_3))"
   ]
  },
  {
   "cell_type": "markdown",
   "id": "213ba889",
   "metadata": {},
   "source": [
    "# Exercícios"
   ]
  },
  {
   "cell_type": "markdown",
   "id": "6bd1a9e1",
   "metadata": {},
   "source": [
    "1) Escreva uma função que calcula o inverso de um número recebido como argumento, sendo que levanta uma exceção caso esse número seja igual a 0."
   ]
  },
  {
   "cell_type": "markdown",
   "id": "812bc71c",
   "metadata": {},
   "source": [
    "2) Escreva uma função que tenta ler um ficheiro que não existe."
   ]
  },
  {
   "cell_type": "markdown",
   "id": "d436e5fe",
   "metadata": {},
   "source": [
    "3) Escreva a classe **Esfera** que contém o atributo __raio__ e o método volume() que irá devolver o volume de uma esfera."
   ]
  },
  {
   "cell_type": "markdown",
   "id": "f2d2993f",
   "metadata": {},
   "source": [
    "4) Escreva a classe **Animal** que poderá ser reutilizada pelas classes **Cao** e **Ave**. A primeira deverá ter os seguintes atributos: _cor_ e _peso_. Para além disso, nas classes filhas não só deverá complementar com uma característica específica, como também deverá implementar o método som() que deverá simular o som feito por cada."
   ]
  },
  {
   "cell_type": "markdown",
   "id": "8c092c21",
   "metadata": {},
   "source": [
    "5) Escreva a classe **Compra** que poderá ser reutilizada pela classe **CompraOnline**. A primeira deverá ter os seguintes atributos: _preco_ e _quantidade_. Para além disso deverá implementar o método total() que devolve o total gasto nessa compra. Já a classe filha deverá implementar o mesmo método, mas tenha em conta que a taxa de entrega corresponde a 5% do valor total."
   ]
  },
  {
   "cell_type": "markdown",
   "id": "98cd7253",
   "metadata": {},
   "source": [
    "6) Crie um iterador que emule o comportamento da função enumerate() (tenha em conta que esta função não só devolve os itens de um iterável, como também os respetivos índices)."
   ]
  },
  {
   "cell_type": "markdown",
   "id": "3e4f7fbe",
   "metadata": {},
   "source": [
    "7) Crie um gerador que retorne a sequência de Fibonacci."
   ]
  },
  {
   "cell_type": "markdown",
   "id": "b7df4fd1",
   "metadata": {},
   "source": [
    "8) Crie um gerador que seja capaz de ler e imprimir todas as linhas de todos os ficheiros de uma determinada diretoria passada como argumento. Caso encontre um ficheiro que não possa ser aberto, porque não tem permissões para tal (por exemplo), simplesmente ignore o mesmo."
   ]
  },
  {
   "cell_type": "code",
   "execution_count": 87,
   "id": "8dcbc799",
   "metadata": {},
   "outputs": [],
   "source": [
    "import os\n",
    "\n",
    "def read_all_files(path):\n",
    "    for filename in path:\n",
    "        full_path = os.path.join(path, filename)\n",
    "        try:\n",
    "            for line in open(full_path):\n",
    "                yield line\n",
    "        except:\n",
    "            pass"
   ]
  },
  {
   "cell_type": "code",
   "execution_count": 92,
   "id": "fb225458",
   "metadata": {},
   "outputs": [
    {
     "ename": "TypeError",
     "evalue": "'generator' object is not callable",
     "output_type": "error",
     "traceback": [
      "\u001b[0;31m---------------------------------------------------------------------------\u001b[0m",
      "\u001b[0;31mTypeError\u001b[0m                                 Traceback (most recent call last)",
      "\u001b[0;32m<ipython-input-92-b8249e67293c>\u001b[0m in \u001b[0;36m<module>\u001b[0;34m\u001b[0m\n\u001b[0;32m----> 1\u001b[0;31m \u001b[0;32mfor\u001b[0m \u001b[0mone_line\u001b[0m \u001b[0;32min\u001b[0m \u001b[0mread_all_files\u001b[0m\u001b[0;34m(\u001b[0m\u001b[0;34m'/home/beatriz/generator'\u001b[0m\u001b[0;34m)\u001b[0m\u001b[0;34m:\u001b[0m\u001b[0;34m\u001b[0m\u001b[0;34m\u001b[0m\u001b[0m\n\u001b[0m\u001b[1;32m      2\u001b[0m     \u001b[0mprint\u001b[0m\u001b[0;34m(\u001b[0m\u001b[0mone_line\u001b[0m\u001b[0;34m)\u001b[0m\u001b[0;34m\u001b[0m\u001b[0;34m\u001b[0m\u001b[0m\n",
      "\u001b[0;31mTypeError\u001b[0m: 'generator' object is not callable"
     ]
    }
   ],
   "source": [
    "for one_line in read_all_files('/home/beatriz/generator'):\n",
    "    print(one_line)"
   ]
  }
 ],
 "metadata": {
  "celltoolbar": "Slideshow",
  "kernelspec": {
   "display_name": "Python 3",
   "language": "python",
   "name": "python3"
  },
  "language_info": {
   "codemirror_mode": {
    "name": "ipython",
    "version": 3
   },
   "file_extension": ".py",
   "mimetype": "text/x-python",
   "name": "python",
   "nbconvert_exporter": "python",
   "pygments_lexer": "ipython3",
   "version": "3.8.8"
  }
 },
 "nbformat": 4,
 "nbformat_minor": 5
}
