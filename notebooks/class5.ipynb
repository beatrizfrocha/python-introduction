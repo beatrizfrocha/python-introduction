{
 "cells": [
  {
   "cell_type": "markdown",
   "id": "09ddd1d8",
   "metadata": {
    "slideshow": {
     "slide_type": "slide"
    }
   },
   "source": [
    "# Introdução a Python\n",
    "\n",
    "## Aula 5"
   ]
  },
  {
   "cell_type": "markdown",
   "id": "863104ba",
   "metadata": {
    "slideshow": {
     "slide_type": "subslide"
    }
   },
   "source": [
    "# Sumário"
   ]
  },
  {
   "cell_type": "markdown",
   "id": "31d8664a",
   "metadata": {
    "slideshow": {
     "slide_type": "fragment"
    }
   },
   "source": [
    "- Classes e objetos\n",
    "- Erros e exceções\n",
    "- Iteradores e geradores\n",
    "- Exercícios"
   ]
  },
  {
   "cell_type": "markdown",
   "id": "ddd79aec",
   "metadata": {
    "slideshow": {
     "slide_type": "slide"
    }
   },
   "source": [
    "# Classes e objetos"
   ]
  },
  {
   "cell_type": "code",
   "execution_count": 1,
   "id": "f65d0439",
   "metadata": {
    "slideshow": {
     "slide_type": "fragment"
    }
   },
   "outputs": [],
   "source": [
    "class Person:\n",
    "    \n",
    "    def __init__(self, name, age, sex):\n",
    "        self.name = name\n",
    "        self.age = age\n",
    "        self.sex = sex"
   ]
  },
  {
   "cell_type": "code",
   "execution_count": 2,
   "id": "3ed3750a",
   "metadata": {
    "slideshow": {
     "slide_type": "fragment"
    }
   },
   "outputs": [
    {
     "data": {
      "text/plain": [
       "('John', 35, 'male')"
      ]
     },
     "execution_count": 2,
     "metadata": {},
     "output_type": "execute_result"
    }
   ],
   "source": [
    "person = Person(\"John\", 35, \"male\")\n",
    "\n",
    "person.name, person.age, person.sex"
   ]
  },
  {
   "cell_type": "code",
   "execution_count": 3,
   "id": "ba9dbdbb",
   "metadata": {
    "slideshow": {
     "slide_type": "subslide"
    }
   },
   "outputs": [],
   "source": [
    "class Point:\n",
    "    \n",
    "    n = 0\n",
    "    \n",
    "    def __init__(self, x, y):\n",
    "        self.x = x\n",
    "        self.y = y\n",
    "        Point.n += 1"
   ]
  },
  {
   "cell_type": "code",
   "execution_count": 4,
   "id": "54332bfb",
   "metadata": {
    "slideshow": {
     "slide_type": "fragment"
    }
   },
   "outputs": [
    {
     "data": {
      "text/plain": [
       "(1, 2, 1)"
      ]
     },
     "execution_count": 4,
     "metadata": {},
     "output_type": "execute_result"
    }
   ],
   "source": [
    "point1 = Point(1,2)\n",
    "\n",
    "point1.x, point1.y, point1.n"
   ]
  },
  {
   "cell_type": "code",
   "execution_count": 5,
   "id": "fe32f77c",
   "metadata": {
    "slideshow": {
     "slide_type": "fragment"
    }
   },
   "outputs": [
    {
     "data": {
      "text/plain": [
       "(3, 4, 2)"
      ]
     },
     "execution_count": 5,
     "metadata": {},
     "output_type": "execute_result"
    }
   ],
   "source": [
    "point2 = Point(3,4)\n",
    "\n",
    "point2.x, point2.y, point2.n"
   ]
  },
  {
   "cell_type": "code",
   "execution_count": 6,
   "id": "ece3b2b8",
   "metadata": {
    "slideshow": {
     "slide_type": "subslide"
    }
   },
   "outputs": [],
   "source": [
    "class Triangle:\n",
    "    \n",
    "    def __init__(self, base, height):\n",
    "        self.base = base\n",
    "        self.height = height\n",
    "        \n",
    "    def area(self):\n",
    "        return 0.5 * self.base * self.height"
   ]
  },
  {
   "cell_type": "code",
   "execution_count": 7,
   "id": "8acdc483",
   "metadata": {
    "slideshow": {
     "slide_type": "fragment"
    }
   },
   "outputs": [
    {
     "data": {
      "text/plain": [
       "70.0"
      ]
     },
     "execution_count": 7,
     "metadata": {},
     "output_type": "execute_result"
    }
   ],
   "source": [
    "triangle = Triangle(14, 10)\n",
    "\n",
    "triangle.area()"
   ]
  },
  {
   "cell_type": "code",
   "execution_count": 8,
   "id": "72fe81b0",
   "metadata": {
    "slideshow": {
     "slide_type": "fragment"
    }
   },
   "outputs": [
    {
     "data": {
      "text/plain": [
       "12"
      ]
     },
     "execution_count": 8,
     "metadata": {},
     "output_type": "execute_result"
    }
   ],
   "source": [
    "triangle.base = 12\n",
    "\n",
    "triangle.base"
   ]
  },
  {
   "cell_type": "code",
   "execution_count": 9,
   "id": "20b5c92b",
   "metadata": {
    "slideshow": {
     "slide_type": "subslide"
    }
   },
   "outputs": [],
   "source": [
    "class Vehicle:\n",
    "    def __init__(self, brand, model):\n",
    "        self.brand = brand\n",
    "        self.model = model\n",
    "        \n",
    "    def print_characteristics(self):\n",
    "        print(f\"Brand = {self.brand} | Model = {self.model}\")"
   ]
  },
  {
   "cell_type": "code",
   "execution_count": 10,
   "id": "255a0dad",
   "metadata": {
    "slideshow": {
     "slide_type": "subslide"
    }
   },
   "outputs": [],
   "source": [
    "class Car(Vehicle):\n",
    "    def __init__(self, brand, model):\n",
    "        super().__init__(brand, model)"
   ]
  },
  {
   "cell_type": "code",
   "execution_count": 11,
   "id": "2a542732",
   "metadata": {
    "scrolled": true,
    "slideshow": {
     "slide_type": "fragment"
    }
   },
   "outputs": [
    {
     "name": "stdout",
     "output_type": "stream",
     "text": [
      "Brand = Ford | Model = Mustang\n"
     ]
    }
   ],
   "source": [
    "car = Car(\"Ford\", \"Mustang\")\n",
    "\n",
    "car.print_characteristics()"
   ]
  },
  {
   "cell_type": "code",
   "execution_count": 12,
   "id": "c1117ad0",
   "metadata": {
    "slideshow": {
     "slide_type": "subslide"
    }
   },
   "outputs": [],
   "source": [
    "class Motorcycle(Vehicle):\n",
    "    def __init__(self, brand, model, year):\n",
    "        super().__init__(brand, model)\n",
    "        self.year = year"
   ]
  },
  {
   "cell_type": "code",
   "execution_count": 13,
   "id": "e57c4baa",
   "metadata": {
    "slideshow": {
     "slide_type": "fragment"
    }
   },
   "outputs": [
    {
     "data": {
      "text/plain": [
       "('Ducati', 'Multistrada V4', 2021)"
      ]
     },
     "execution_count": 13,
     "metadata": {},
     "output_type": "execute_result"
    }
   ],
   "source": [
    "motorcycle = Motorcycle(\"Ducati\", \"Multistrada V4\", 2021)\n",
    "\n",
    "motorcycle.brand, motorcycle.model, motorcycle.year"
   ]
  },
  {
   "cell_type": "code",
   "execution_count": 14,
   "id": "6d791d25",
   "metadata": {
    "slideshow": {
     "slide_type": "subslide"
    }
   },
   "outputs": [],
   "source": [
    "class Boat(Vehicle):\n",
    "    def __init__(self, brand, model, passengers):\n",
    "        super().__init__(brand, model)\n",
    "        self.passengers = passengers\n",
    "    \n",
    "    def capacity(self): #se o nome fosse igual a algum dos métodos da superclasse, esse método seria sobrescrito\n",
    "        print(f\"This boat can take up to {self.passengers} passengers.\")"
   ]
  },
  {
   "cell_type": "code",
   "execution_count": 15,
   "id": "c89906fe",
   "metadata": {
    "slideshow": {
     "slide_type": "fragment"
    }
   },
   "outputs": [
    {
     "name": "stdout",
     "output_type": "stream",
     "text": [
      "This boat can take up to 6 passengers.\n"
     ]
    }
   ],
   "source": [
    "boat = Boat(\"Quicksilver\", \"605 Pilothouse\", 6)\n",
    "\n",
    "boat.capacity()"
   ]
  },
  {
   "cell_type": "code",
   "execution_count": 16,
   "id": "2f92244a",
   "metadata": {
    "slideshow": {
     "slide_type": "fragment"
    }
   },
   "outputs": [
    {
     "data": {
      "text/plain": [
       "True"
      ]
     },
     "execution_count": 16,
     "metadata": {},
     "output_type": "execute_result"
    }
   ],
   "source": [
    "isinstance(boat,Vehicle)"
   ]
  },
  {
   "cell_type": "markdown",
   "id": "1c7808ee",
   "metadata": {
    "slideshow": {
     "slide_type": "slide"
    }
   },
   "source": [
    "# Erros e exceções"
   ]
  },
  {
   "cell_type": "markdown",
   "id": "e3527b6d",
   "metadata": {
    "slideshow": {
     "slide_type": "fragment"
    }
   },
   "source": [
    "`try`: Permite testar se um bloco de código levanta erros"
   ]
  },
  {
   "cell_type": "markdown",
   "id": "74cd427c",
   "metadata": {
    "slideshow": {
     "slide_type": "fragment"
    }
   },
   "source": [
    "`except`: Permite lidar com o erro"
   ]
  },
  {
   "cell_type": "markdown",
   "id": "99ec5702",
   "metadata": {
    "slideshow": {
     "slide_type": "fragment"
    }
   },
   "source": [
    "`finally`: Permite executar código, independentemente do resultado dos blocos try/except"
   ]
  },
  {
   "cell_type": "code",
   "execution_count": 17,
   "id": "85aed909",
   "metadata": {
    "slideshow": {
     "slide_type": "fragment"
    }
   },
   "outputs": [
    {
     "name": "stdout",
     "output_type": "stream",
     "text": [
      "Something went wrong\n"
     ]
    }
   ],
   "source": [
    "try:\n",
    "    print(a)\n",
    "except:\n",
    "    print(\"Something went wrong\")"
   ]
  },
  {
   "cell_type": "code",
   "execution_count": 18,
   "id": "92744cfd",
   "metadata": {
    "slideshow": {
     "slide_type": "fragment"
    }
   },
   "outputs": [
    {
     "name": "stdout",
     "output_type": "stream",
     "text": [
      "Undefined variable\n"
     ]
    }
   ],
   "source": [
    "try:\n",
    "    print(a)\n",
    "except NameError:\n",
    "    print(\"Undefined variable\")\n",
    "except:\n",
    "    print(\"Something else went wrong\")"
   ]
  },
  {
   "cell_type": "code",
   "execution_count": 19,
   "id": "2f9d695e",
   "metadata": {
    "slideshow": {
     "slide_type": "subslide"
    }
   },
   "outputs": [
    {
     "name": "stdout",
     "output_type": "stream",
     "text": [
      "This is class number 5\n",
      "Nothing went wrong\n"
     ]
    }
   ],
   "source": [
    "try:\n",
    "    print(\"This is class number 5\")\n",
    "except:\n",
    "    print(\"Something went wrong\")\n",
    "else:\n",
    "    print(\"Nothing went wrong\")"
   ]
  },
  {
   "cell_type": "code",
   "execution_count": 20,
   "id": "dfe7dadc",
   "metadata": {
    "slideshow": {
     "slide_type": "fragment"
    }
   },
   "outputs": [
    {
     "name": "stdout",
     "output_type": "stream",
     "text": [
      "Something went wrong\n",
      "Reached the end of the try/except block\n"
     ]
    }
   ],
   "source": [
    "try:\n",
    "    print(a)\n",
    "except: \n",
    "    print(\"Something went wrong\")\n",
    "finally:\n",
    "    print(\"Reached the end of the try/except block\")"
   ]
  },
  {
   "cell_type": "code",
   "execution_count": 21,
   "id": "87bc7aa1",
   "metadata": {
    "slideshow": {
     "slide_type": "subslide"
    }
   },
   "outputs": [
    {
     "data": {
      "text/plain": [
       "'x = \"car\"\\n\\nif x is not type(int):\\n    raise Exception(\"Only integers allowed\")'"
      ]
     },
     "execution_count": 21,
     "metadata": {},
     "output_type": "execute_result"
    }
   ],
   "source": [
    "\"\"\"x = \"car\"\n",
    "\n",
    "if x is not type(int):\n",
    "    raise Exception(\"Only integers allowed\")\"\"\" #podíamos levantar uma exceção pré-definida, como TypeError"
   ]
  },
  {
   "cell_type": "markdown",
   "id": "71bd94a8",
   "metadata": {
    "slideshow": {
     "slide_type": "slide"
    }
   },
   "source": [
    "# Iteradores e geradores"
   ]
  },
  {
   "cell_type": "markdown",
   "id": "5cc71994",
   "metadata": {
    "slideshow": {
     "slide_type": "subslide"
    }
   },
   "source": [
    "## Iteradores"
   ]
  },
  {
   "cell_type": "code",
   "execution_count": 22,
   "id": "e22c5f65",
   "metadata": {
    "slideshow": {
     "slide_type": "subslide"
    }
   },
   "outputs": [
    {
     "data": {
      "text/plain": [
       "'iPhone'"
      ]
     },
     "execution_count": 22,
     "metadata": {},
     "output_type": "execute_result"
    }
   ],
   "source": [
    "phones = [\"iPhone\", \"Samsung\", \"Xiaomi\"] #poderia ser qualquer iterável\n",
    "\n",
    "phones_iterator = iter(phones)\n",
    "\n",
    "next(phones_iterator)"
   ]
  },
  {
   "cell_type": "code",
   "execution_count": 23,
   "id": "b17052e8",
   "metadata": {
    "slideshow": {
     "slide_type": "fragment"
    }
   },
   "outputs": [
    {
     "name": "stdout",
     "output_type": "stream",
     "text": [
      "1\n",
      "2\n",
      "3\n"
     ]
    }
   ],
   "source": [
    "class Numbers:\n",
    "    \n",
    "    def __init__(self):\n",
    "        self.x = 1\n",
    "    \n",
    "    def __iter__(self):\n",
    "        return self #tem necessariamente de retornar o próprio iterador\n",
    "    \n",
    "    def __next__(self):\n",
    "        y = self.x\n",
    "        self.x += 1\n",
    "        return y #tem necessariamente de retornar o próximo item da sequência\n",
    "    \n",
    "numbers = Numbers()\n",
    "numbers_iterator = iter(numbers)\n",
    "\n",
    "print(next(numbers_iterator))\n",
    "print(next(numbers_iterator))\n",
    "print(next(numbers_iterator))"
   ]
  },
  {
   "cell_type": "code",
   "execution_count": 24,
   "id": "51904bc1",
   "metadata": {
    "slideshow": {
     "slide_type": "subslide"
    }
   },
   "outputs": [
    {
     "name": "stdout",
     "output_type": "stream",
     "text": [
      "2\n",
      "4\n",
      "6\n"
     ]
    }
   ],
   "source": [
    "class Even:\n",
    "    \n",
    "    def __init__(self):\n",
    "        self.x = 2\n",
    "    \n",
    "    def __iter__(self):\n",
    "        return self\n",
    "    \n",
    "    def __next__(self):\n",
    "        if self.x > 6:\n",
    "            raise StopIteration\n",
    "            \n",
    "        y = self.x\n",
    "        self.x += 2\n",
    "        return y\n",
    "            \n",
    "even = Even()\n",
    "even_iterator = iter(even)\n",
    "\n",
    "for i in even_iterator:\n",
    "    print(i)"
   ]
  },
  {
   "cell_type": "markdown",
   "id": "5841005b",
   "metadata": {
    "slideshow": {
     "slide_type": "subslide"
    }
   },
   "source": [
    "## Geradores"
   ]
  },
  {
   "cell_type": "code",
   "execution_count": 25,
   "id": "d1533cf3",
   "metadata": {
    "slideshow": {
     "slide_type": "fragment"
    }
   },
   "outputs": [
    {
     "name": "stdout",
     "output_type": "stream",
     "text": [
      "1\n",
      "3\n",
      "5\n"
     ]
    }
   ],
   "source": [
    "def odd():\n",
    "    n = -1\n",
    "    \n",
    "    n += 2\n",
    "    yield n\n",
    "    \n",
    "    n += 2\n",
    "    yield n\n",
    "    \n",
    "    n += 2\n",
    "    yield n\n",
    "    \n",
    "odd = odd()\n",
    "\n",
    "print(next(odd))\n",
    "print(next(odd))\n",
    "print(next(odd))"
   ]
  },
  {
   "cell_type": "code",
   "execution_count": 26,
   "id": "52a38d98",
   "metadata": {
    "slideshow": {
     "slide_type": "subslide"
    }
   },
   "outputs": [
    {
     "data": {
      "text/plain": [
       "'def powers_of_3(max):\\n    n = 3\\n    while n <= max:\\n        yield n\\n        n *= 3\\n    \\npowers_of_3 = powers_of_3(81)\\n\\nprint(next(powers_of_3))\\nprint(next(powers_of_3))\\nprint(next(powers_of_3))\\nprint(next(powers_of_3))\\nprint(next(powers_of_3))'"
      ]
     },
     "execution_count": 26,
     "metadata": {},
     "output_type": "execute_result"
    }
   ],
   "source": [
    "\"\"\"def powers_of_3(max):\n",
    "    n = 3\n",
    "    while n <= max:\n",
    "        yield n\n",
    "        n *= 3\n",
    "    \n",
    "powers_of_3 = powers_of_3(81)\n",
    "\n",
    "print(next(powers_of_3))\n",
    "print(next(powers_of_3))\n",
    "print(next(powers_of_3))\n",
    "print(next(powers_of_3))\n",
    "print(next(powers_of_3))\"\"\""
   ]
  },
  {
   "cell_type": "markdown",
   "id": "213ba889",
   "metadata": {
    "slideshow": {
     "slide_type": "slide"
    }
   },
   "source": [
    "# Exercícios"
   ]
  },
  {
   "cell_type": "markdown",
   "id": "6bd1a9e1",
   "metadata": {
    "slideshow": {
     "slide_type": "fragment"
    }
   },
   "source": [
    "1) Escreva uma função que calcula o inverso de um número recebido como argumento, sendo que levanta uma exceção caso esse número seja igual a 0."
   ]
  },
  {
   "cell_type": "markdown",
   "id": "812bc71c",
   "metadata": {
    "slideshow": {
     "slide_type": "fragment"
    }
   },
   "source": [
    "2) Escreva uma função que tenta ler um ficheiro que não existe."
   ]
  },
  {
   "cell_type": "markdown",
   "id": "ac448959",
   "metadata": {
    "slideshow": {
     "slide_type": "fragment"
    }
   },
   "source": [
    "3) Dados os termos $a$, $b$ e $c$ de uma equação de segundo grau, escreva uma função que retorna o resultado da aplicação da fórmula resolvente. Para além disso, caso o binómio discriminante seja inferior a 0, deverá levantar uma exceção."
   ]
  },
  {
   "cell_type": "markdown",
   "id": "cb7292f5",
   "metadata": {
    "slideshow": {
     "slide_type": "fragment"
    }
   },
   "source": [
    "4) Escreva a classe **Esfera** que contém o atributo _raio_ e os métodos area() e volume() que irão devolver a área e o volume de uma esfera, respetivamente."
   ]
  },
  {
   "cell_type": "markdown",
   "id": "f2d2993f",
   "metadata": {
    "slideshow": {
     "slide_type": "fragment"
    }
   },
   "source": [
    "5) Escreva a classe **Animal** que poderá ser reutilizada pelas classes **Cao** e **Ave**. A primeira deverá ter os seguintes atributos: _cor_ e _peso_. Para além disso, nas subclasses não só deverá complementar com uma característica específica, como também deverá implementar o método som() que deverá simular o som feito por cada."
   ]
  },
  {
   "cell_type": "markdown",
   "id": "ac622fa0",
   "metadata": {
    "slideshow": {
     "slide_type": "fragment"
    }
   },
   "source": [
    "6) Escreva a classe **Compra** que poderá ser reutilizada pela classe **CompraOnline**. A primeira deverá ter os seguintes atributos: _preco_ e _quantidade_. Para além disso deverá implementar o método total() que devolve o total gasto nessa compra. Já a subclasse deverá implementar o mesmo método, mas tenha em conta que a taxa de entrega corresponde a 5% do valor total."
   ]
  },
  {
   "cell_type": "markdown",
   "id": "696e7e5b",
   "metadata": {
    "slideshow": {
     "slide_type": "fragment"
    }
   },
   "source": [
    "7) Crie um iterador que emule o comportamento da função enumerate() (tenha em conta que esta função não só devolve os itens de um iterável, como também os respetivos índices)."
   ]
  },
  {
   "cell_type": "markdown",
   "id": "5f2cc47b",
   "metadata": {
    "slideshow": {
     "slide_type": "subslide"
    }
   },
   "source": [
    "8) Crie um iterador que emule o comportamento da função range()."
   ]
  },
  {
   "cell_type": "markdown",
   "id": "c428b0c0",
   "metadata": {
    "slideshow": {
     "slide_type": "fragment"
    }
   },
   "source": [
    "9) Crie um gerador que retorne a sequência de Fibonacci."
   ]
  },
  {
   "cell_type": "markdown",
   "id": "644047bf",
   "metadata": {
    "slideshow": {
     "slide_type": "fragment"
    }
   },
   "source": [
    "10) Crie um gerador que retorna a sequência com os fatoriais dos números inteiros não negativos."
   ]
  }
 ],
 "metadata": {
  "celltoolbar": "Slideshow",
  "kernelspec": {
   "display_name": "Python 3",
   "language": "python",
   "name": "python3"
  },
  "language_info": {
   "codemirror_mode": {
    "name": "ipython",
    "version": 3
   },
   "file_extension": ".py",
   "mimetype": "text/x-python",
   "name": "python",
   "nbconvert_exporter": "python",
   "pygments_lexer": "ipython3",
   "version": "3.8.8"
  }
 },
 "nbformat": 4,
 "nbformat_minor": 5
}
