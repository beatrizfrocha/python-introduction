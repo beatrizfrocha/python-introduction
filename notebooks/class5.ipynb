{
 "cells": [
  {
   "cell_type": "markdown",
   "id": "09ddd1d8",
   "metadata": {},
   "source": [
    "# Introdução a Python\n",
    "\n",
    "## Aula 5"
   ]
  },
  {
   "cell_type": "markdown",
   "id": "863104ba",
   "metadata": {},
   "source": [
    "# Sumário"
   ]
  },
  {
   "cell_type": "markdown",
   "id": "31d8664a",
   "metadata": {},
   "source": [
    "- Classes e objetos\n",
    "- Erros e exceções\n",
    "- Exercícios"
   ]
  },
  {
   "cell_type": "markdown",
   "id": "ddd79aec",
   "metadata": {},
   "source": [
    "# Classes e objetos"
   ]
  },
  {
   "cell_type": "code",
   "execution_count": 40,
   "id": "ba9dbdbb",
   "metadata": {},
   "outputs": [],
   "source": [
    "class Point:\n",
    "    \n",
    "    x = 0\n",
    "    y = 0"
   ]
  },
  {
   "cell_type": "code",
   "execution_count": 42,
   "id": "54332bfb",
   "metadata": {},
   "outputs": [
    {
     "data": {
      "text/plain": [
       "(0, 0)"
      ]
     },
     "execution_count": 42,
     "metadata": {},
     "output_type": "execute_result"
    }
   ],
   "source": [
    "point = Point()\n",
    "\n",
    "point.x, point.y"
   ]
  },
  {
   "cell_type": "code",
   "execution_count": 57,
   "id": "f65d0439",
   "metadata": {},
   "outputs": [],
   "source": [
    "class Person:\n",
    "    \n",
    "    def __init__(self, name, age, sex):\n",
    "        self.name = name\n",
    "        self.age = age\n",
    "        self.sex = sex"
   ]
  },
  {
   "cell_type": "code",
   "execution_count": 45,
   "id": "3ed3750a",
   "metadata": {},
   "outputs": [
    {
     "data": {
      "text/plain": [
       "('John', 35, 'male')"
      ]
     },
     "execution_count": 45,
     "metadata": {},
     "output_type": "execute_result"
    }
   ],
   "source": [
    "person = Person(\"John\", 35, \"male\")\n",
    "\n",
    "person.name, person.age, person.sex"
   ]
  },
  {
   "cell_type": "code",
   "execution_count": 58,
   "id": "255a0dad",
   "metadata": {},
   "outputs": [],
   "source": [
    "class Student(Person):\n",
    "    pass"
   ]
  },
  {
   "cell_type": "code",
   "execution_count": 60,
   "id": "2a542732",
   "metadata": {
    "scrolled": true
   },
   "outputs": [
    {
     "data": {
      "text/plain": [
       "('Kevin', 15, 'male')"
      ]
     },
     "execution_count": 60,
     "metadata": {},
     "output_type": "execute_result"
    }
   ],
   "source": [
    "student = Student(\"Kevin\", 15, \"male\")\n",
    "\n",
    "student.name, student.age, student.sex"
   ]
  },
  {
   "cell_type": "code",
   "execution_count": 46,
   "id": "ece3b2b8",
   "metadata": {},
   "outputs": [],
   "source": [
    "class Triangle:\n",
    "    \n",
    "    def __init__(self, base, height):\n",
    "        self.base = base\n",
    "        self.height = height\n",
    "        \n",
    "    def area(self):\n",
    "        return 0.5 * self.base * self.height"
   ]
  },
  {
   "cell_type": "code",
   "execution_count": 48,
   "id": "8acdc483",
   "metadata": {},
   "outputs": [
    {
     "data": {
      "text/plain": [
       "70.0"
      ]
     },
     "execution_count": 48,
     "metadata": {},
     "output_type": "execute_result"
    }
   ],
   "source": [
    "triangle = Triangle(14, 10)\n",
    "\n",
    "triangle.area()"
   ]
  },
  {
   "cell_type": "code",
   "execution_count": 49,
   "id": "72fe81b0",
   "metadata": {},
   "outputs": [
    {
     "data": {
      "text/plain": [
       "12"
      ]
     },
     "execution_count": 49,
     "metadata": {},
     "output_type": "execute_result"
    }
   ],
   "source": [
    "triangle.base = 12\n",
    "\n",
    "triangle.base"
   ]
  },
  {
   "cell_type": "markdown",
   "id": "1c7808ee",
   "metadata": {},
   "source": [
    "# Erros e exceções"
   ]
  },
  {
   "cell_type": "markdown",
   "id": "e3527b6d",
   "metadata": {},
   "source": [
    "`try`: Permite testar se um bloco de código levanta erros"
   ]
  },
  {
   "cell_type": "markdown",
   "id": "74cd427c",
   "metadata": {},
   "source": [
    "`except`: Permite lidar com o erro"
   ]
  },
  {
   "cell_type": "markdown",
   "id": "99ec5702",
   "metadata": {},
   "source": [
    "`finally`: Permite executar código, independentemente do resultado dos blocos try/except"
   ]
  },
  {
   "cell_type": "code",
   "execution_count": 17,
   "id": "85aed909",
   "metadata": {},
   "outputs": [
    {
     "name": "stdout",
     "output_type": "stream",
     "text": [
      "Something went wrong\n"
     ]
    }
   ],
   "source": [
    "try:\n",
    "    print(a)\n",
    "except:\n",
    "    print(\"Something went wrong\")"
   ]
  },
  {
   "cell_type": "code",
   "execution_count": 18,
   "id": "92744cfd",
   "metadata": {},
   "outputs": [
    {
     "name": "stdout",
     "output_type": "stream",
     "text": [
      "Undefined variable\n"
     ]
    }
   ],
   "source": [
    "try:\n",
    "    print(a)\n",
    "except NameError:\n",
    "    print(\"Undefined variable\")\n",
    "except:\n",
    "    print(\"Something else went wrong\")"
   ]
  },
  {
   "cell_type": "code",
   "execution_count": 19,
   "id": "2f9d695e",
   "metadata": {},
   "outputs": [
    {
     "name": "stdout",
     "output_type": "stream",
     "text": [
      "This is class number 5\n",
      "Nothing went wrong\n"
     ]
    }
   ],
   "source": [
    "try:\n",
    "    print(\"This is class number 5\")\n",
    "except:\n",
    "    print(\"Something went wrong\")\n",
    "else:\n",
    "    print(\"Nothing went wrong\")"
   ]
  },
  {
   "cell_type": "code",
   "execution_count": 20,
   "id": "dfe7dadc",
   "metadata": {},
   "outputs": [
    {
     "name": "stdout",
     "output_type": "stream",
     "text": [
      "Something went wrong\n",
      "Reached the end of the try/except block\n"
     ]
    }
   ],
   "source": [
    "try:\n",
    "    print(a)\n",
    "except: \n",
    "    print(\"Something went wrong\")\n",
    "finally:\n",
    "    print(\"Reached the end of the try/except block\")"
   ]
  },
  {
   "cell_type": "code",
   "execution_count": 21,
   "id": "87bc7aa1",
   "metadata": {},
   "outputs": [
    {
     "ename": "Exception",
     "evalue": "Only integers allowed",
     "output_type": "error",
     "traceback": [
      "\u001b[0;31m---------------------------------------------------------------------------\u001b[0m",
      "\u001b[0;31mException\u001b[0m                                 Traceback (most recent call last)",
      "\u001b[0;32m<ipython-input-21-c18ce0487a58>\u001b[0m in \u001b[0;36m<module>\u001b[0;34m\u001b[0m\n\u001b[1;32m      2\u001b[0m \u001b[0;34m\u001b[0m\u001b[0m\n\u001b[1;32m      3\u001b[0m \u001b[0;32mif\u001b[0m \u001b[0mx\u001b[0m \u001b[0;32mis\u001b[0m \u001b[0;32mnot\u001b[0m \u001b[0mtype\u001b[0m\u001b[0;34m(\u001b[0m\u001b[0mint\u001b[0m\u001b[0;34m)\u001b[0m\u001b[0;34m:\u001b[0m\u001b[0;34m\u001b[0m\u001b[0;34m\u001b[0m\u001b[0m\n\u001b[0;32m----> 4\u001b[0;31m     \u001b[0;32mraise\u001b[0m \u001b[0mException\u001b[0m\u001b[0;34m(\u001b[0m\u001b[0;34m\"Only integers allowed\"\u001b[0m\u001b[0;34m)\u001b[0m \u001b[0;31m#podíamos optar por levantar uma exceção pré-definida, como TypeError\u001b[0m\u001b[0;34m\u001b[0m\u001b[0;34m\u001b[0m\u001b[0m\n\u001b[0m",
      "\u001b[0;31mException\u001b[0m: Only integers allowed"
     ]
    }
   ],
   "source": [
    "x = \"car\"\n",
    "\n",
    "if x is not type(int):\n",
    "    raise Exception(\"Only integers allowed\") #podíamos optar por levantar uma exceção pré-definida, como TypeError"
   ]
  },
  {
   "cell_type": "markdown",
   "id": "213ba889",
   "metadata": {},
   "source": [
    "# Exercícios"
   ]
  },
  {
   "cell_type": "markdown",
   "id": "6bd1a9e1",
   "metadata": {},
   "source": [
    "1) Escreva uma função que calcula o inverso de um número recebido como argumento, sendo que levanta uma exceção caso esse número seja igual a 0."
   ]
  },
  {
   "cell_type": "markdown",
   "id": "812bc71c",
   "metadata": {},
   "source": [
    "2) Escreva uma função que tenta ler um ficheiro que não existe."
   ]
  },
  {
   "cell_type": "markdown",
   "id": "f2d2993f",
   "metadata": {},
   "source": [
    "3) Escreva a classe **Animal** que poderá ser reutilizada pelas classes **Cao** e **Ave**. A primeira deverá ter os seguintes atributos: _cor_ e _peso_. Para além disso, nas classes filhas não só deverá complementar com uma característica específica, como também deverá implementar o método som() que deverá simular o som feito por cada."
   ]
  }
 ],
 "metadata": {
  "celltoolbar": "Slideshow",
  "kernelspec": {
   "display_name": "Python 3",
   "language": "python",
   "name": "python3"
  },
  "language_info": {
   "codemirror_mode": {
    "name": "ipython",
    "version": 3
   },
   "file_extension": ".py",
   "mimetype": "text/x-python",
   "name": "python",
   "nbconvert_exporter": "python",
   "pygments_lexer": "ipython3",
   "version": "3.8.8"
  }
 },
 "nbformat": 4,
 "nbformat_minor": 5
}
